{
 "cells": [
  {
   "cell_type": "markdown",
   "id": "c2aa57da-e86f-49c1-becd-25345b2ba358",
   "metadata": {},
   "source": [
    "# K-means Clustering\n",
    "#### Name: 沈家駿\n",
    "#### Student ID: 0712223"
   ]
  },
  {
   "cell_type": "code",
   "execution_count": 1,
   "id": "7eaa1291-dd4c-4982-bab8-1ee28420fb58",
   "metadata": {},
   "outputs": [],
   "source": [
    "import numpy as np\n",
    "import pandas as pd\n",
    "import matplotlib.pyplot as plt\n",
    "from sklearn.utils import shuffle\n",
    "import sklearn.metrics\n",
    "from sklearn.decomposition import PCA"
   ]
  },
  {
   "cell_type": "markdown",
   "id": "87f95251-7f3f-4732-95d1-69ffe422717c",
   "metadata": {},
   "source": [
    "## Data Input"
   ]
  },
  {
   "cell_type": "code",
   "execution_count": 2,
   "id": "403d23de-de46-47d0-bfb5-b7e415f0c425",
   "metadata": {},
   "outputs": [
    {
     "data": {
      "text/html": [
       "<div>\n",
       "<style scoped>\n",
       "    .dataframe tbody tr th:only-of-type {\n",
       "        vertical-align: middle;\n",
       "    }\n",
       "\n",
       "    .dataframe tbody tr th {\n",
       "        vertical-align: top;\n",
       "    }\n",
       "\n",
       "    .dataframe thead th {\n",
       "        text-align: right;\n",
       "    }\n",
       "</style>\n",
       "<table border=\"1\" class=\"dataframe\">\n",
       "  <thead>\n",
       "    <tr style=\"text-align: right;\">\n",
       "      <th></th>\n",
       "      <th>0</th>\n",
       "      <th>1</th>\n",
       "      <th>2</th>\n",
       "      <th>3</th>\n",
       "      <th>4</th>\n",
       "      <th>5</th>\n",
       "      <th>6</th>\n",
       "      <th>7</th>\n",
       "    </tr>\n",
       "  </thead>\n",
       "  <tbody>\n",
       "    <tr>\n",
       "      <th>0</th>\n",
       "      <td>15.26</td>\n",
       "      <td>14.84</td>\n",
       "      <td>0.8710</td>\n",
       "      <td>5.763</td>\n",
       "      <td>3.312</td>\n",
       "      <td>2.221</td>\n",
       "      <td>5.220</td>\n",
       "      <td>1</td>\n",
       "    </tr>\n",
       "    <tr>\n",
       "      <th>1</th>\n",
       "      <td>14.88</td>\n",
       "      <td>14.57</td>\n",
       "      <td>0.8811</td>\n",
       "      <td>5.554</td>\n",
       "      <td>3.333</td>\n",
       "      <td>1.018</td>\n",
       "      <td>4.956</td>\n",
       "      <td>1</td>\n",
       "    </tr>\n",
       "    <tr>\n",
       "      <th>2</th>\n",
       "      <td>14.29</td>\n",
       "      <td>14.09</td>\n",
       "      <td>0.9050</td>\n",
       "      <td>5.291</td>\n",
       "      <td>3.337</td>\n",
       "      <td>2.699</td>\n",
       "      <td>4.825</td>\n",
       "      <td>1</td>\n",
       "    </tr>\n",
       "    <tr>\n",
       "      <th>3</th>\n",
       "      <td>13.84</td>\n",
       "      <td>13.94</td>\n",
       "      <td>0.8955</td>\n",
       "      <td>5.324</td>\n",
       "      <td>3.379</td>\n",
       "      <td>2.259</td>\n",
       "      <td>4.805</td>\n",
       "      <td>1</td>\n",
       "    </tr>\n",
       "    <tr>\n",
       "      <th>4</th>\n",
       "      <td>16.14</td>\n",
       "      <td>14.99</td>\n",
       "      <td>0.9034</td>\n",
       "      <td>5.658</td>\n",
       "      <td>3.562</td>\n",
       "      <td>1.355</td>\n",
       "      <td>5.175</td>\n",
       "      <td>1</td>\n",
       "    </tr>\n",
       "  </tbody>\n",
       "</table>\n",
       "</div>"
      ],
      "text/plain": [
       "       0      1       2      3      4      5      6  7\n",
       "0  15.26  14.84  0.8710  5.763  3.312  2.221  5.220  1\n",
       "1  14.88  14.57  0.8811  5.554  3.333  1.018  4.956  1\n",
       "2  14.29  14.09  0.9050  5.291  3.337  2.699  4.825  1\n",
       "3  13.84  13.94  0.8955  5.324  3.379  2.259  4.805  1\n",
       "4  16.14  14.99  0.9034  5.658  3.562  1.355  5.175  1"
      ]
     },
     "execution_count": 2,
     "metadata": {},
     "output_type": "execute_result"
    }
   ],
   "source": [
    "df = pd.read_csv('seeds_dataset.txt', sep='\\s+', header=None)\n",
    "df.head()"
   ]
  },
  {
   "cell_type": "markdown",
   "id": "bb8bee32-4b99-445c-977f-b72985f24788",
   "metadata": {},
   "source": [
    "## Data Preprocessing\n",
    "### Divide the data into X(features) and y(labels)."
   ]
  },
  {
   "cell_type": "code",
   "execution_count": 3,
   "id": "1477cad4-1e01-4cb4-a874-8c0ab927296d",
   "metadata": {},
   "outputs": [],
   "source": [
    "X = df.iloc[:, :-1]\n",
    "y = df.iloc[:, -1]"
   ]
  },
  {
   "cell_type": "markdown",
   "id": "214495f7-d76b-496c-b2e3-22c07e893b74",
   "metadata": {},
   "source": [
    "### Shuffle the data."
   ]
  },
  {
   "cell_type": "code",
   "execution_count": 4,
   "id": "b63082f3-07c5-4bcc-b98e-424cbc011e2a",
   "metadata": {},
   "outputs": [],
   "source": [
    "X, y = shuffle(X, y)\n",
    "X.reset_index(inplace=True, drop=True)\n",
    "y.reset_index(inplace=True, drop=True)"
   ]
  },
  {
   "cell_type": "markdown",
   "id": "b2766130-3352-4130-8d90-4193a1a0590b",
   "metadata": {},
   "source": [
    "### normalization(Z-score)"
   ]
  },
  {
   "cell_type": "code",
   "execution_count": 5,
   "id": "900e4e30-a9f0-44a3-a5c7-31964ae01c9d",
   "metadata": {},
   "outputs": [],
   "source": [
    "X_np = X.to_numpy()\n",
    "X_standard = (X_np-X_np.mean(axis=0))/X_np.std(axis=0)"
   ]
  },
  {
   "cell_type": "markdown",
   "id": "182ae700-c7d3-49b5-b206-4af6100dfdd2",
   "metadata": {},
   "source": [
    "## K-means Clustering\n",
    "### Implement of the K-means from scratch"
   ]
  },
  {
   "cell_type": "code",
   "execution_count": 6,
   "id": "c2ddef49-8e26-4cd5-b4bb-fecc55d7d409",
   "metadata": {},
   "outputs": [],
   "source": [
    "def kmeans(X, num_clusters, cnt=10000, need_prototypes=False):\n",
    "    N, D = X.shape\n",
    "\n",
    "    prototypes = np.random.random([num_clusters,D])\n",
    "\n",
    "    previous_indices = np.empty(N)\n",
    "\n",
    "    while True:   \n",
    "        dist_sq_sum = np.empty([N,num_clusters])\n",
    "\n",
    "        for i in range(num_clusters):\n",
    "            dist_sq_sum[:,i] = np.sum(np.square(X-prototypes[i,:]),axis=1)\n",
    "\n",
    "        cluster_indices = dist_sq_sum.argmin(axis=1)\n",
    "\n",
    "        for i in range(num_clusters):\n",
    "            prototypes[i,:]=np.mean(X[(cluster_indices==i),:],axis=0)\n",
    "\n",
    "        # Stopping criteria\n",
    "        cnt -= 1\n",
    "        if np.array_equal(previous_indices, cluster_indices) or cnt < 0:\n",
    "            if need_prototypes:\n",
    "                return previous_indices, prototypes\n",
    "            else:\n",
    "                return previous_indices\n",
    "        else:\n",
    "            previous_indices = cluster_indices"
   ]
  },
  {
   "cell_type": "markdown",
   "id": "26167b9a-9039-4a90-9ad6-3a7b0fa1553a",
   "metadata": {},
   "source": [
    "### Call the k-means function"
   ]
  },
  {
   "cell_type": "code",
   "execution_count": 7,
   "id": "e0810d52-e81a-4a19-8c7e-858c9f6fe2b9",
   "metadata": {},
   "outputs": [],
   "source": [
    "y_pred = kmeans(X_standard, num_clusters=3)"
   ]
  },
  {
   "cell_type": "markdown",
   "id": "38c93e87-3620-4a12-946b-6191e3367269",
   "metadata": {},
   "source": [
    "### Change the lable of y_pred"
   ]
  },
  {
   "cell_type": "code",
   "execution_count": 8,
   "id": "566d3d38-925f-4566-81c7-3c9dc4a57cdb",
   "metadata": {},
   "outputs": [],
   "source": [
    "y_pred = pd.Series(y_pred)"
   ]
  },
  {
   "cell_type": "code",
   "execution_count": 9,
   "id": "ccd049b4-f1ba-42af-bff4-31dc0d04617f",
   "metadata": {},
   "outputs": [],
   "source": [
    "mask_0 = (y_pred == 0)\n",
    "mask_1 = (y_pred == 1)\n",
    "mask_2 = (y_pred == 2)"
   ]
  },
  {
   "cell_type": "code",
   "execution_count": 10,
   "id": "4d69002f-209a-4c6f-9d1d-0f68d859df39",
   "metadata": {},
   "outputs": [],
   "source": [
    "max_lable = [1, 2, 3]\n",
    "max_acc = 0\n",
    "y_pred_copy = y_pred.copy()\n",
    "\n",
    "for i in range(1, 5):\n",
    "    for j in range(1, 4):\n",
    "        for k in range(1, 4):\n",
    "            if i != j and j != k and i != k:\n",
    "                y_pred_copy[mask_0] = i\n",
    "                y_pred_copy[mask_2] = j\n",
    "                y_pred_copy[mask_1] = k\n",
    "                \n",
    "                temp_acc = (y_pred_copy == y).sum()/y.shape[0]\n",
    "                if temp_acc > max_acc:\n",
    "                    max_acc = temp_acc\n",
    "                    max_lable = [i, j, k]\n",
    "                    y_pred[mask_0] = i\n",
    "                    y_pred[mask_2] = j\n",
    "                    y_pred[mask_1] = k"
   ]
  },
  {
   "cell_type": "markdown",
   "id": "fffa2f36-205d-4150-acae-7d405c5600a9",
   "metadata": {},
   "source": [
    "## Results "
   ]
  },
  {
   "cell_type": "code",
   "execution_count": 11,
   "id": "3244675c-b122-4f1c-9700-65f28c29bb67",
   "metadata": {},
   "outputs": [],
   "source": [
    "cm = sklearn.metrics.confusion_matrix(y, y_pred).transpose()\n",
    "acc = sklearn.metrics.accuracy_score(y, y_pred)\n",
    "precision, recall, _, _ = sklearn.metrics.precision_recall_fscore_support(y, y_pred)"
   ]
  },
  {
   "cell_type": "markdown",
   "id": "a8b100fe-d04b-4e56-92b9-22be203d9604",
   "metadata": {},
   "source": [
    "### Define a function to show the metrics"
   ]
  },
  {
   "cell_type": "code",
   "execution_count": 12,
   "id": "3f0c1926-57b7-4308-b4c6-4736de92547d",
   "metadata": {},
   "outputs": [],
   "source": [
    "def show_metrics(metrics, lable):\n",
    "    cm, acc, pc, recall = metrics\n",
    "    num_classes = pc.size\n",
    "    cm_row = list(map(lambda x: 'Predicted '+x, list(lable)))\n",
    "    cm_col = list(map(lambda x: 'Actual '+x, list(lable)))\n",
    "    \n",
    "    display(pd.DataFrame(cm, index=cm_row, columns=cm_col))\n",
    "    display(pd.DataFrame([acc], index=['Accuracy'], columns=['Avg.']))\n",
    "    display(pd.DataFrame(pc.reshape(1, num_classes), index=['Precision'], columns=lable))\n",
    "    display(pd.DataFrame(recall.reshape(1, num_classes), index=['Recall'], columns=lable))"
   ]
  },
  {
   "cell_type": "markdown",
   "id": "eb3a6166-55ba-4af2-9601-864f8f9d10c9",
   "metadata": {},
   "source": [
    "### show the metrics"
   ]
  },
  {
   "cell_type": "code",
   "execution_count": 13,
   "id": "bbeb6d1f-19c9-451d-a24c-49363113c3b0",
   "metadata": {},
   "outputs": [
    {
     "data": {
      "text/html": [
       "<div>\n",
       "<style scoped>\n",
       "    .dataframe tbody tr th:only-of-type {\n",
       "        vertical-align: middle;\n",
       "    }\n",
       "\n",
       "    .dataframe tbody tr th {\n",
       "        vertical-align: top;\n",
       "    }\n",
       "\n",
       "    .dataframe thead th {\n",
       "        text-align: right;\n",
       "    }\n",
       "</style>\n",
       "<table border=\"1\" class=\"dataframe\">\n",
       "  <thead>\n",
       "    <tr style=\"text-align: right;\">\n",
       "      <th></th>\n",
       "      <th>Actual 1</th>\n",
       "      <th>Actual 2</th>\n",
       "      <th>Actual 3</th>\n",
       "    </tr>\n",
       "  </thead>\n",
       "  <tbody>\n",
       "    <tr>\n",
       "      <th>Predicted 1</th>\n",
       "      <td>62</td>\n",
       "      <td>5</td>\n",
       "      <td>4</td>\n",
       "    </tr>\n",
       "    <tr>\n",
       "      <th>Predicted 2</th>\n",
       "      <td>2</td>\n",
       "      <td>65</td>\n",
       "      <td>0</td>\n",
       "    </tr>\n",
       "    <tr>\n",
       "      <th>Predicted 3</th>\n",
       "      <td>6</td>\n",
       "      <td>0</td>\n",
       "      <td>66</td>\n",
       "    </tr>\n",
       "  </tbody>\n",
       "</table>\n",
       "</div>"
      ],
      "text/plain": [
       "             Actual 1  Actual 2  Actual 3\n",
       "Predicted 1        62         5         4\n",
       "Predicted 2         2        65         0\n",
       "Predicted 3         6         0        66"
      ]
     },
     "metadata": {},
     "output_type": "display_data"
    },
    {
     "data": {
      "text/html": [
       "<div>\n",
       "<style scoped>\n",
       "    .dataframe tbody tr th:only-of-type {\n",
       "        vertical-align: middle;\n",
       "    }\n",
       "\n",
       "    .dataframe tbody tr th {\n",
       "        vertical-align: top;\n",
       "    }\n",
       "\n",
       "    .dataframe thead th {\n",
       "        text-align: right;\n",
       "    }\n",
       "</style>\n",
       "<table border=\"1\" class=\"dataframe\">\n",
       "  <thead>\n",
       "    <tr style=\"text-align: right;\">\n",
       "      <th></th>\n",
       "      <th>Avg.</th>\n",
       "    </tr>\n",
       "  </thead>\n",
       "  <tbody>\n",
       "    <tr>\n",
       "      <th>Accuracy</th>\n",
       "      <td>0.919048</td>\n",
       "    </tr>\n",
       "  </tbody>\n",
       "</table>\n",
       "</div>"
      ],
      "text/plain": [
       "              Avg.\n",
       "Accuracy  0.919048"
      ]
     },
     "metadata": {},
     "output_type": "display_data"
    },
    {
     "data": {
      "text/html": [
       "<div>\n",
       "<style scoped>\n",
       "    .dataframe tbody tr th:only-of-type {\n",
       "        vertical-align: middle;\n",
       "    }\n",
       "\n",
       "    .dataframe tbody tr th {\n",
       "        vertical-align: top;\n",
       "    }\n",
       "\n",
       "    .dataframe thead th {\n",
       "        text-align: right;\n",
       "    }\n",
       "</style>\n",
       "<table border=\"1\" class=\"dataframe\">\n",
       "  <thead>\n",
       "    <tr style=\"text-align: right;\">\n",
       "      <th></th>\n",
       "      <th>1</th>\n",
       "      <th>2</th>\n",
       "      <th>3</th>\n",
       "    </tr>\n",
       "  </thead>\n",
       "  <tbody>\n",
       "    <tr>\n",
       "      <th>Precision</th>\n",
       "      <td>0.873239</td>\n",
       "      <td>0.970149</td>\n",
       "      <td>0.916667</td>\n",
       "    </tr>\n",
       "  </tbody>\n",
       "</table>\n",
       "</div>"
      ],
      "text/plain": [
       "                  1         2         3\n",
       "Precision  0.873239  0.970149  0.916667"
      ]
     },
     "metadata": {},
     "output_type": "display_data"
    },
    {
     "data": {
      "text/html": [
       "<div>\n",
       "<style scoped>\n",
       "    .dataframe tbody tr th:only-of-type {\n",
       "        vertical-align: middle;\n",
       "    }\n",
       "\n",
       "    .dataframe tbody tr th {\n",
       "        vertical-align: top;\n",
       "    }\n",
       "\n",
       "    .dataframe thead th {\n",
       "        text-align: right;\n",
       "    }\n",
       "</style>\n",
       "<table border=\"1\" class=\"dataframe\">\n",
       "  <thead>\n",
       "    <tr style=\"text-align: right;\">\n",
       "      <th></th>\n",
       "      <th>1</th>\n",
       "      <th>2</th>\n",
       "      <th>3</th>\n",
       "    </tr>\n",
       "  </thead>\n",
       "  <tbody>\n",
       "    <tr>\n",
       "      <th>Recall</th>\n",
       "      <td>0.885714</td>\n",
       "      <td>0.928571</td>\n",
       "      <td>0.942857</td>\n",
       "    </tr>\n",
       "  </tbody>\n",
       "</table>\n",
       "</div>"
      ],
      "text/plain": [
       "               1         2         3\n",
       "Recall  0.885714  0.928571  0.942857"
      ]
     },
     "metadata": {},
     "output_type": "display_data"
    }
   ],
   "source": [
    "show_metrics((cm, acc, precision, recall), ['1', '2', '3'])"
   ]
  },
  {
   "cell_type": "markdown",
   "id": "bdbda23f-43af-4d7a-b25f-1091840dd70a",
   "metadata": {},
   "source": [
    "## Comparison & Conclusion\n",
    "- K-means Clustering is a unsupervised machine learning algorithms, it doesn't need target data.\n",
    "- It's simple(easy to implement it and no need for hyperparameters) but powerful."
   ]
  },
  {
   "cell_type": "markdown",
   "id": "da8af99d-992c-4e30-b0bc-fb7b95d45a68",
   "metadata": {},
   "source": [
    "## Questions\n",
    "> Choose two features to execute your K-means function and draw a scatter plot with the computed centers and the predicted label for each instance."
   ]
  },
  {
   "cell_type": "code",
   "execution_count": 14,
   "id": "25e7ceec-2f2a-4435-9bcf-56cd10a45bae",
   "metadata": {},
   "outputs": [],
   "source": [
    "pca = PCA(n_components=2)\n",
    "pca.fit(X_standard)\n",
    "X_2d = pca.transform(X_standard)"
   ]
  },
  {
   "cell_type": "code",
   "execution_count": 15,
   "id": "13ad4ba5-9311-4146-a099-b556839cb588",
   "metadata": {},
   "outputs": [],
   "source": [
    "y_pred, pro = kmeans(X_2d, num_clusters=3, need_prototypes=True)"
   ]
  },
  {
   "cell_type": "code",
   "execution_count": 16,
   "id": "8d279ad1-63c0-4c2d-872f-d138c9104bb6",
   "metadata": {},
   "outputs": [
    {
     "data": {
      "text/plain": [
       "<matplotlib.legend.Legend at 0x24938bb25e0>"
      ]
     },
     "execution_count": 16,
     "metadata": {},
     "output_type": "execute_result"
    },
    {
     "data": {
      "image/png": "[encoded data removed]",
      "text/plain": [
       "<Figure size 432x288 with 1 Axes>"
      ]
     },
     "metadata": {
      "needs_background": "light"
     },
     "output_type": "display_data"
    }
   ],
   "source": [
    "x_min, x_max = X_2d[:, 0].min() - 1, X_2d[:, 0].max() + 1\n",
    "y_min, y_max = X_2d[:, 1].min() - 1, X_2d[:, 1].max() + 1\n",
    "\n",
    "pts1 = plt.scatter(X_2d[pd.Series(y_pred)==0, 0], X_2d[pd.Series(y_pred)==0, 1], c='goldenrod', alpha=1)\n",
    "pts2 = plt.scatter(X_2d[pd.Series(y_pred)==1, 0], X_2d[pd.Series(y_pred)==1, 1], c='orchid', alpha=1)\n",
    "pts3 = plt.scatter(X_2d[pd.Series(y_pred)==2, 0], X_2d[pd.Series(y_pred)==2, 1], c='green', alpha=1)\n",
    "centers = plt.scatter(pro[:, 0], pro[:, 1], c='black', alpha=1, marker='s')\n",
    "plt.xlabel(\"Feature-1\",fontsize=10)\n",
    "plt.ylabel(\"Feature-2\",fontsize=10)\n",
    "plt.legend([pts1, pts2, pts3, centers], ['0','1', '2', 'center'])"
   ]
  },
  {
   "cell_type": "code",
   "execution_count": null,
   "id": "b6d37ca0-8396-4a26-a29d-2d7da70d6ca0",
   "metadata": {},
   "outputs": [],
   "source": []
  }
 ],
 "metadata": {
  "kernelspec": {
   "display_name": "Python 3 (ipykernel)",
   "language": "python",
   "name": "python3"
  },
  "language_info": {
   "codemirror_mode": {
    "name": "ipython",
    "version": 3
   },
   "file_extension": ".py",
   "mimetype": "text/x-python",
   "name": "python",
   "nbconvert_exporter": "python",
   "pygments_lexer": "ipython3",
   "version": "3.9.7"
  }
 },
 "nbformat": 4,
 "nbformat_minor": 5
}
