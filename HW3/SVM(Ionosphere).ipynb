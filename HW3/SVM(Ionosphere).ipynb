{
 "cells": [
  {
   "cell_type": "markdown",
   "id": "25563188-88b8-41cd-aa7c-04f0ec0d92b8",
   "metadata": {},
   "source": [
    "# Support Vector Machine\n",
    "#### Name: 沈家駿\n",
    "#### Student ID: 0712223"
   ]
  },
  {
   "cell_type": "code",
   "execution_count": 1,
   "id": "27324814-c4a7-4b33-a3a0-fbaa1cd0a98b",
   "metadata": {},
   "outputs": [],
   "source": [
    "import numpy as np\n",
    "import pandas as pd\n",
    "import matplotlib.pyplot as plt\n",
    "import sklearn\n",
    "from sklearn.model_selection import train_test_split\n",
    "from sklearn.svm import SVC\n",
    "from sklearn.model_selection import GridSearchCV"
   ]
  },
  {
   "cell_type": "markdown",
   "id": "234517b9-7f5c-45d8-a91f-a0ae675815f8",
   "metadata": {
    "tags": []
   },
   "source": [
    "## Data Input"
   ]
  },
  {
   "cell_type": "code",
   "execution_count": 2,
   "id": "67ac6210-3c0f-495d-929f-fc2a0eb60da4",
   "metadata": {},
   "outputs": [
    {
     "data": {
      "text/html": [
       "<div>\n",
       "<style scoped>\n",
       "    .dataframe tbody tr th:only-of-type {\n",
       "        vertical-align: middle;\n",
       "    }\n",
       "\n",
       "    .dataframe tbody tr th {\n",
       "        vertical-align: top;\n",
       "    }\n",
       "\n",
       "    .dataframe thead th {\n",
       "        text-align: right;\n",
       "    }\n",
       "</style>\n",
       "<table border=\"1\" class=\"dataframe\">\n",
       "  <thead>\n",
       "    <tr style=\"text-align: right;\">\n",
       "      <th></th>\n",
       "      <th>0</th>\n",
       "      <th>1</th>\n",
       "      <th>2</th>\n",
       "      <th>3</th>\n",
       "      <th>4</th>\n",
       "      <th>5</th>\n",
       "      <th>6</th>\n",
       "      <th>7</th>\n",
       "      <th>8</th>\n",
       "      <th>9</th>\n",
       "      <th>...</th>\n",
       "      <th>25</th>\n",
       "      <th>26</th>\n",
       "      <th>27</th>\n",
       "      <th>28</th>\n",
       "      <th>29</th>\n",
       "      <th>30</th>\n",
       "      <th>31</th>\n",
       "      <th>32</th>\n",
       "      <th>33</th>\n",
       "      <th>34</th>\n",
       "    </tr>\n",
       "  </thead>\n",
       "  <tbody>\n",
       "    <tr>\n",
       "      <th>0</th>\n",
       "      <td>1</td>\n",
       "      <td>0</td>\n",
       "      <td>0.99539</td>\n",
       "      <td>-0.05889</td>\n",
       "      <td>0.85243</td>\n",
       "      <td>0.02306</td>\n",
       "      <td>0.83398</td>\n",
       "      <td>-0.37708</td>\n",
       "      <td>1.00000</td>\n",
       "      <td>0.03760</td>\n",
       "      <td>...</td>\n",
       "      <td>-0.51171</td>\n",
       "      <td>0.41078</td>\n",
       "      <td>-0.46168</td>\n",
       "      <td>0.21266</td>\n",
       "      <td>-0.34090</td>\n",
       "      <td>0.42267</td>\n",
       "      <td>-0.54487</td>\n",
       "      <td>0.18641</td>\n",
       "      <td>-0.45300</td>\n",
       "      <td>g</td>\n",
       "    </tr>\n",
       "    <tr>\n",
       "      <th>1</th>\n",
       "      <td>1</td>\n",
       "      <td>0</td>\n",
       "      <td>1.00000</td>\n",
       "      <td>-0.18829</td>\n",
       "      <td>0.93035</td>\n",
       "      <td>-0.36156</td>\n",
       "      <td>-0.10868</td>\n",
       "      <td>-0.93597</td>\n",
       "      <td>1.00000</td>\n",
       "      <td>-0.04549</td>\n",
       "      <td>...</td>\n",
       "      <td>-0.26569</td>\n",
       "      <td>-0.20468</td>\n",
       "      <td>-0.18401</td>\n",
       "      <td>-0.19040</td>\n",
       "      <td>-0.11593</td>\n",
       "      <td>-0.16626</td>\n",
       "      <td>-0.06288</td>\n",
       "      <td>-0.13738</td>\n",
       "      <td>-0.02447</td>\n",
       "      <td>b</td>\n",
       "    </tr>\n",
       "    <tr>\n",
       "      <th>2</th>\n",
       "      <td>1</td>\n",
       "      <td>0</td>\n",
       "      <td>1.00000</td>\n",
       "      <td>-0.03365</td>\n",
       "      <td>1.00000</td>\n",
       "      <td>0.00485</td>\n",
       "      <td>1.00000</td>\n",
       "      <td>-0.12062</td>\n",
       "      <td>0.88965</td>\n",
       "      <td>0.01198</td>\n",
       "      <td>...</td>\n",
       "      <td>-0.40220</td>\n",
       "      <td>0.58984</td>\n",
       "      <td>-0.22145</td>\n",
       "      <td>0.43100</td>\n",
       "      <td>-0.17365</td>\n",
       "      <td>0.60436</td>\n",
       "      <td>-0.24180</td>\n",
       "      <td>0.56045</td>\n",
       "      <td>-0.38238</td>\n",
       "      <td>g</td>\n",
       "    </tr>\n",
       "    <tr>\n",
       "      <th>3</th>\n",
       "      <td>1</td>\n",
       "      <td>0</td>\n",
       "      <td>1.00000</td>\n",
       "      <td>-0.45161</td>\n",
       "      <td>1.00000</td>\n",
       "      <td>1.00000</td>\n",
       "      <td>0.71216</td>\n",
       "      <td>-1.00000</td>\n",
       "      <td>0.00000</td>\n",
       "      <td>0.00000</td>\n",
       "      <td>...</td>\n",
       "      <td>0.90695</td>\n",
       "      <td>0.51613</td>\n",
       "      <td>1.00000</td>\n",
       "      <td>1.00000</td>\n",
       "      <td>-0.20099</td>\n",
       "      <td>0.25682</td>\n",
       "      <td>1.00000</td>\n",
       "      <td>-0.32382</td>\n",
       "      <td>1.00000</td>\n",
       "      <td>b</td>\n",
       "    </tr>\n",
       "    <tr>\n",
       "      <th>4</th>\n",
       "      <td>1</td>\n",
       "      <td>0</td>\n",
       "      <td>1.00000</td>\n",
       "      <td>-0.02401</td>\n",
       "      <td>0.94140</td>\n",
       "      <td>0.06531</td>\n",
       "      <td>0.92106</td>\n",
       "      <td>-0.23255</td>\n",
       "      <td>0.77152</td>\n",
       "      <td>-0.16399</td>\n",
       "      <td>...</td>\n",
       "      <td>-0.65158</td>\n",
       "      <td>0.13290</td>\n",
       "      <td>-0.53206</td>\n",
       "      <td>0.02431</td>\n",
       "      <td>-0.62197</td>\n",
       "      <td>-0.05707</td>\n",
       "      <td>-0.59573</td>\n",
       "      <td>-0.04608</td>\n",
       "      <td>-0.65697</td>\n",
       "      <td>g</td>\n",
       "    </tr>\n",
       "  </tbody>\n",
       "</table>\n",
       "<p>5 rows × 35 columns</p>\n",
       "</div>"
      ],
      "text/plain": [
       "   0   1        2        3        4        5        6        7        8   \\\n",
       "0   1   0  0.99539 -0.05889  0.85243  0.02306  0.83398 -0.37708  1.00000   \n",
       "1   1   0  1.00000 -0.18829  0.93035 -0.36156 -0.10868 -0.93597  1.00000   \n",
       "2   1   0  1.00000 -0.03365  1.00000  0.00485  1.00000 -0.12062  0.88965   \n",
       "3   1   0  1.00000 -0.45161  1.00000  1.00000  0.71216 -1.00000  0.00000   \n",
       "4   1   0  1.00000 -0.02401  0.94140  0.06531  0.92106 -0.23255  0.77152   \n",
       "\n",
       "        9   ...       25       26       27       28       29       30  \\\n",
       "0  0.03760  ... -0.51171  0.41078 -0.46168  0.21266 -0.34090  0.42267   \n",
       "1 -0.04549  ... -0.26569 -0.20468 -0.18401 -0.19040 -0.11593 -0.16626   \n",
       "2  0.01198  ... -0.40220  0.58984 -0.22145  0.43100 -0.17365  0.60436   \n",
       "3  0.00000  ...  0.90695  0.51613  1.00000  1.00000 -0.20099  0.25682   \n",
       "4 -0.16399  ... -0.65158  0.13290 -0.53206  0.02431 -0.62197 -0.05707   \n",
       "\n",
       "        31       32       33  34  \n",
       "0 -0.54487  0.18641 -0.45300   g  \n",
       "1 -0.06288 -0.13738 -0.02447   b  \n",
       "2 -0.24180  0.56045 -0.38238   g  \n",
       "3  1.00000 -0.32382  1.00000   b  \n",
       "4 -0.59573 -0.04608 -0.65697   g  \n",
       "\n",
       "[5 rows x 35 columns]"
      ]
     },
     "execution_count": 2,
     "metadata": {},
     "output_type": "execute_result"
    }
   ],
   "source": [
    "df = pd.read_csv('ionosphere.data', sep=',', header=None)\n",
    "df.head()"
   ]
  },
  {
   "cell_type": "markdown",
   "id": "0a054b6e-90fb-43df-bdbb-ce5b05a42fd1",
   "metadata": {},
   "source": [
    "## Data Preprocessing\n",
    "### Divide the data into X(features) and y(labels)."
   ]
  },
  {
   "cell_type": "code",
   "execution_count": 3,
   "id": "5e87af35-3faa-4ee2-bfd0-b16917fde18d",
   "metadata": {},
   "outputs": [],
   "source": [
    "X = df.iloc[:, :-1]\n",
    "y = df.iloc[:, -1]"
   ]
  },
  {
   "cell_type": "markdown",
   "id": "1cee4dc8-b86d-4db9-bf3d-4a7e41715b61",
   "metadata": {},
   "source": [
    "## Support Vector Machine\n",
    "### Train-Test-Split"
   ]
  },
  {
   "cell_type": "code",
   "execution_count": 4,
   "id": "b431d59d-2d37-4bea-89c5-a7e71e5804dd",
   "metadata": {
    "tags": []
   },
   "outputs": [],
   "source": [
    "X_train, X_test, y_train, y_test = train_test_split(X, y, test_size=0.3, random_state=1)"
   ]
  },
  {
   "cell_type": "markdown",
   "id": "93bfd337-f5e2-4e09-a345-d519bee8dcec",
   "metadata": {},
   "source": [
    "### Define a function to show the metrics"
   ]
  },
  {
   "cell_type": "code",
   "execution_count": 5,
   "id": "51a7be1e-cddf-4b1f-9056-1841b2232551",
   "metadata": {},
   "outputs": [],
   "source": [
    "def show_metrics(metrics, lable):\n",
    "    cm, acc, pc, recall = metrics\n",
    "    num_classes = pc.size\n",
    "    cm_row = list(map(lambda x: 'Predicted '+x, list(lable)))\n",
    "    cm_col = list(map(lambda x: 'Actual '+x, list(lable)))\n",
    "    \n",
    "    display(pd.DataFrame(cm, index=cm_row, columns=cm_col))\n",
    "    display(pd.DataFrame([acc], index=['Accuracy'], columns=['Avg.']))\n",
    "    display(pd.DataFrame(pc.reshape(1, num_classes), index=['Precision'], columns=lable))\n",
    "    display(pd.DataFrame(recall.reshape(1, num_classes), index=['Recall'], columns=lable))"
   ]
  },
  {
   "cell_type": "markdown",
   "id": "fcd2cb8c-7c67-427f-8556-255f8de3dcf8",
   "metadata": {},
   "source": [
    "### Linear kernel"
   ]
  },
  {
   "cell_type": "code",
   "execution_count": 6,
   "id": "ebfc5cb7-7633-456a-9a02-becb905b6a75",
   "metadata": {},
   "outputs": [
    {
     "name": "stdout",
     "output_type": "stream",
     "text": [
      "Results:\n",
      "Confusion matrix\n"
     ]
    },
    {
     "data": {
      "text/html": [
       "<div>\n",
       "<style scoped>\n",
       "    .dataframe tbody tr th:only-of-type {\n",
       "        vertical-align: middle;\n",
       "    }\n",
       "\n",
       "    .dataframe tbody tr th {\n",
       "        vertical-align: top;\n",
       "    }\n",
       "\n",
       "    .dataframe thead th {\n",
       "        text-align: right;\n",
       "    }\n",
       "</style>\n",
       "<table border=\"1\" class=\"dataframe\">\n",
       "  <thead>\n",
       "    <tr style=\"text-align: right;\">\n",
       "      <th></th>\n",
       "      <th>Actual Bad</th>\n",
       "      <th>Actual Good</th>\n",
       "    </tr>\n",
       "  </thead>\n",
       "  <tbody>\n",
       "    <tr>\n",
       "      <th>Predicted Bad</th>\n",
       "      <td>26</td>\n",
       "      <td>0</td>\n",
       "    </tr>\n",
       "    <tr>\n",
       "      <th>Predicted Good</th>\n",
       "      <td>10</td>\n",
       "      <td>70</td>\n",
       "    </tr>\n",
       "  </tbody>\n",
       "</table>\n",
       "</div>"
      ],
      "text/plain": [
       "                Actual Bad  Actual Good\n",
       "Predicted Bad           26            0\n",
       "Predicted Good          10           70"
      ]
     },
     "metadata": {},
     "output_type": "display_data"
    },
    {
     "data": {
      "text/html": [
       "<div>\n",
       "<style scoped>\n",
       "    .dataframe tbody tr th:only-of-type {\n",
       "        vertical-align: middle;\n",
       "    }\n",
       "\n",
       "    .dataframe tbody tr th {\n",
       "        vertical-align: top;\n",
       "    }\n",
       "\n",
       "    .dataframe thead th {\n",
       "        text-align: right;\n",
       "    }\n",
       "</style>\n",
       "<table border=\"1\" class=\"dataframe\">\n",
       "  <thead>\n",
       "    <tr style=\"text-align: right;\">\n",
       "      <th></th>\n",
       "      <th>Avg.</th>\n",
       "    </tr>\n",
       "  </thead>\n",
       "  <tbody>\n",
       "    <tr>\n",
       "      <th>Accuracy</th>\n",
       "      <td>0.90566</td>\n",
       "    </tr>\n",
       "  </tbody>\n",
       "</table>\n",
       "</div>"
      ],
      "text/plain": [
       "             Avg.\n",
       "Accuracy  0.90566"
      ]
     },
     "metadata": {},
     "output_type": "display_data"
    },
    {
     "data": {
      "text/html": [
       "<div>\n",
       "<style scoped>\n",
       "    .dataframe tbody tr th:only-of-type {\n",
       "        vertical-align: middle;\n",
       "    }\n",
       "\n",
       "    .dataframe tbody tr th {\n",
       "        vertical-align: top;\n",
       "    }\n",
       "\n",
       "    .dataframe thead th {\n",
       "        text-align: right;\n",
       "    }\n",
       "</style>\n",
       "<table border=\"1\" class=\"dataframe\">\n",
       "  <thead>\n",
       "    <tr style=\"text-align: right;\">\n",
       "      <th></th>\n",
       "      <th>Bad</th>\n",
       "      <th>Good</th>\n",
       "    </tr>\n",
       "  </thead>\n",
       "  <tbody>\n",
       "    <tr>\n",
       "      <th>Precision</th>\n",
       "      <td>1.0</td>\n",
       "      <td>0.875</td>\n",
       "    </tr>\n",
       "  </tbody>\n",
       "</table>\n",
       "</div>"
      ],
      "text/plain": [
       "           Bad   Good\n",
       "Precision  1.0  0.875"
      ]
     },
     "metadata": {},
     "output_type": "display_data"
    },
    {
     "data": {
      "text/html": [
       "<div>\n",
       "<style scoped>\n",
       "    .dataframe tbody tr th:only-of-type {\n",
       "        vertical-align: middle;\n",
       "    }\n",
       "\n",
       "    .dataframe tbody tr th {\n",
       "        vertical-align: top;\n",
       "    }\n",
       "\n",
       "    .dataframe thead th {\n",
       "        text-align: right;\n",
       "    }\n",
       "</style>\n",
       "<table border=\"1\" class=\"dataframe\">\n",
       "  <thead>\n",
       "    <tr style=\"text-align: right;\">\n",
       "      <th></th>\n",
       "      <th>Bad</th>\n",
       "      <th>Good</th>\n",
       "    </tr>\n",
       "  </thead>\n",
       "  <tbody>\n",
       "    <tr>\n",
       "      <th>Recall</th>\n",
       "      <td>0.722222</td>\n",
       "      <td>1.0</td>\n",
       "    </tr>\n",
       "  </tbody>\n",
       "</table>\n",
       "</div>"
      ],
      "text/plain": [
       "             Bad  Good\n",
       "Recall  0.722222   1.0"
      ]
     },
     "metadata": {},
     "output_type": "display_data"
    }
   ],
   "source": [
    "svc_linear = SVC(kernel='linear')\n",
    "svc_linear.fit(X_train, y_train)\n",
    "y_pred = svc_linear.predict(X_test)\n",
    "\n",
    "cm = sklearn.metrics.confusion_matrix(y_test, y_pred).transpose()\n",
    "acc = sklearn.metrics.accuracy_score(y_test, y_pred)\n",
    "precision, recall, _, _ = sklearn.metrics.precision_recall_fscore_support(y_test, y_pred)\n",
    "\n",
    "print('Results:')\n",
    "print('Confusion matrix')\n",
    "show_metrics((cm, acc, precision, recall), ['Bad', 'Good'])"
   ]
  },
  {
   "cell_type": "markdown",
   "id": "23dfa30b-04eb-4f69-b780-927ab9faa344",
   "metadata": {
    "tags": []
   },
   "source": [
    "### Polynomial kernel\n",
    "#### Parameter Search"
   ]
  },
  {
   "cell_type": "code",
   "execution_count": 7,
   "id": "8ec61279-fe91-4282-8e9b-8fab0db02d26",
   "metadata": {},
   "outputs": [
    {
     "name": "stdout",
     "output_type": "stream",
     "text": [
      "Best params:  {'coef0': 0.1, 'degree': 2, 'gamma': 0.5, 'kernel': 'poly'}\n"
     ]
    }
   ],
   "source": [
    "poly_parameters = {'kernel':['poly'], 'coef0':[0.1, 1, 10], 'degree':[2, 3, 4], 'gamma':[0.1, 0.5, 1]}\n",
    "Grid_poly = GridSearchCV(SVC(), poly_parameters)\n",
    "Grid_poly.fit(X_train, y_train)\n",
    "\n",
    "test_score_poly = Grid_poly.cv_results_['mean_test_score']\n",
    "\n",
    "rank_test_score = Grid_poly.cv_results_['rank_test_score']\n",
    "best_idx = np.where(rank_test_score == 1)[0][0]\n",
    "best_params = Grid_poly.cv_results_['params'][best_idx]\n",
    "\n",
    "print('Best params: ', best_params)"
   ]
  },
  {
   "cell_type": "markdown",
   "id": "ed047969-1a8a-46e9-9620-170c28c89117",
   "metadata": {},
   "source": [
    "#### Results"
   ]
  },
  {
   "cell_type": "code",
   "execution_count": 8,
   "id": "d589c5dd-5399-4c6b-bcf5-8192207164db",
   "metadata": {},
   "outputs": [
    {
     "name": "stdout",
     "output_type": "stream",
     "text": [
      "Results:\n",
      "Confusion matrix\n"
     ]
    },
    {
     "data": {
      "text/html": [
       "<div>\n",
       "<style scoped>\n",
       "    .dataframe tbody tr th:only-of-type {\n",
       "        vertical-align: middle;\n",
       "    }\n",
       "\n",
       "    .dataframe tbody tr th {\n",
       "        vertical-align: top;\n",
       "    }\n",
       "\n",
       "    .dataframe thead th {\n",
       "        text-align: right;\n",
       "    }\n",
       "</style>\n",
       "<table border=\"1\" class=\"dataframe\">\n",
       "  <thead>\n",
       "    <tr style=\"text-align: right;\">\n",
       "      <th></th>\n",
       "      <th>Actual Bad</th>\n",
       "      <th>Actual Good</th>\n",
       "    </tr>\n",
       "  </thead>\n",
       "  <tbody>\n",
       "    <tr>\n",
       "      <th>Predicted Bad</th>\n",
       "      <td>25</td>\n",
       "      <td>0</td>\n",
       "    </tr>\n",
       "    <tr>\n",
       "      <th>Predicted Good</th>\n",
       "      <td>11</td>\n",
       "      <td>70</td>\n",
       "    </tr>\n",
       "  </tbody>\n",
       "</table>\n",
       "</div>"
      ],
      "text/plain": [
       "                Actual Bad  Actual Good\n",
       "Predicted Bad           25            0\n",
       "Predicted Good          11           70"
      ]
     },
     "metadata": {},
     "output_type": "display_data"
    },
    {
     "data": {
      "text/html": [
       "<div>\n",
       "<style scoped>\n",
       "    .dataframe tbody tr th:only-of-type {\n",
       "        vertical-align: middle;\n",
       "    }\n",
       "\n",
       "    .dataframe tbody tr th {\n",
       "        vertical-align: top;\n",
       "    }\n",
       "\n",
       "    .dataframe thead th {\n",
       "        text-align: right;\n",
       "    }\n",
       "</style>\n",
       "<table border=\"1\" class=\"dataframe\">\n",
       "  <thead>\n",
       "    <tr style=\"text-align: right;\">\n",
       "      <th></th>\n",
       "      <th>Avg.</th>\n",
       "    </tr>\n",
       "  </thead>\n",
       "  <tbody>\n",
       "    <tr>\n",
       "      <th>Accuracy</th>\n",
       "      <td>0.896226</td>\n",
       "    </tr>\n",
       "  </tbody>\n",
       "</table>\n",
       "</div>"
      ],
      "text/plain": [
       "              Avg.\n",
       "Accuracy  0.896226"
      ]
     },
     "metadata": {},
     "output_type": "display_data"
    },
    {
     "data": {
      "text/html": [
       "<div>\n",
       "<style scoped>\n",
       "    .dataframe tbody tr th:only-of-type {\n",
       "        vertical-align: middle;\n",
       "    }\n",
       "\n",
       "    .dataframe tbody tr th {\n",
       "        vertical-align: top;\n",
       "    }\n",
       "\n",
       "    .dataframe thead th {\n",
       "        text-align: right;\n",
       "    }\n",
       "</style>\n",
       "<table border=\"1\" class=\"dataframe\">\n",
       "  <thead>\n",
       "    <tr style=\"text-align: right;\">\n",
       "      <th></th>\n",
       "      <th>Bad</th>\n",
       "      <th>Good</th>\n",
       "    </tr>\n",
       "  </thead>\n",
       "  <tbody>\n",
       "    <tr>\n",
       "      <th>Precision</th>\n",
       "      <td>1.0</td>\n",
       "      <td>0.864198</td>\n",
       "    </tr>\n",
       "  </tbody>\n",
       "</table>\n",
       "</div>"
      ],
      "text/plain": [
       "           Bad      Good\n",
       "Precision  1.0  0.864198"
      ]
     },
     "metadata": {},
     "output_type": "display_data"
    },
    {
     "data": {
      "text/html": [
       "<div>\n",
       "<style scoped>\n",
       "    .dataframe tbody tr th:only-of-type {\n",
       "        vertical-align: middle;\n",
       "    }\n",
       "\n",
       "    .dataframe tbody tr th {\n",
       "        vertical-align: top;\n",
       "    }\n",
       "\n",
       "    .dataframe thead th {\n",
       "        text-align: right;\n",
       "    }\n",
       "</style>\n",
       "<table border=\"1\" class=\"dataframe\">\n",
       "  <thead>\n",
       "    <tr style=\"text-align: right;\">\n",
       "      <th></th>\n",
       "      <th>Bad</th>\n",
       "      <th>Good</th>\n",
       "    </tr>\n",
       "  </thead>\n",
       "  <tbody>\n",
       "    <tr>\n",
       "      <th>Recall</th>\n",
       "      <td>0.694444</td>\n",
       "      <td>1.0</td>\n",
       "    </tr>\n",
       "  </tbody>\n",
       "</table>\n",
       "</div>"
      ],
      "text/plain": [
       "             Bad  Good\n",
       "Recall  0.694444   1.0"
      ]
     },
     "metadata": {},
     "output_type": "display_data"
    }
   ],
   "source": [
    "svc_poly = SVC(**best_params)\n",
    "svc_poly.fit(X_train, y_train)\n",
    "y_pred = svc_poly.predict(X_test)\n",
    "\n",
    "cm = sklearn.metrics.confusion_matrix(y_test, y_pred).transpose()\n",
    "acc = sklearn.metrics.accuracy_score(y_test, y_pred)\n",
    "precision, recall, _, _ = sklearn.metrics.precision_recall_fscore_support(y_test, y_pred)\n",
    "\n",
    "print('Results:')\n",
    "print('Confusion matrix')\n",
    "show_metrics((cm, acc, precision, recall), ['Bad', 'Good'])"
   ]
  },
  {
   "cell_type": "markdown",
   "id": "80312945-9712-4d64-9e92-3a37b56c9dc7",
   "metadata": {
    "tags": []
   },
   "source": [
    "### RBF kernel\n",
    "#### Parameter Search"
   ]
  },
  {
   "cell_type": "code",
   "execution_count": 9,
   "id": "90fbe243-2cfe-4d5a-abee-f701e6feb1f6",
   "metadata": {},
   "outputs": [
    {
     "name": "stdout",
     "output_type": "stream",
     "text": [
      "Best params:  {'gamma': 0.1, 'kernel': 'rbf'}\n"
     ]
    }
   ],
   "source": [
    "rbf_parameters = {'kernel':['rbf'], 'gamma':[0.1, 0.5, 1]}\n",
    "Grid_rbf = GridSearchCV(SVC(), rbf_parameters)\n",
    "Grid_rbf.fit(X_train, y_train)\n",
    "\n",
    "test_score_rbf = Grid_rbf.cv_results_['mean_test_score']\n",
    "\n",
    "rank_test_score = Grid_rbf.cv_results_['rank_test_score']\n",
    "best_idx = np.where(rank_test_score == 1)[0][0]\n",
    "best_params = Grid_rbf.cv_results_['params'][best_idx]\n",
    "\n",
    "print('Best params: ', best_params)"
   ]
  },
  {
   "cell_type": "markdown",
   "id": "73913fdb-fc02-4d40-a21c-5aaa0905233e",
   "metadata": {
    "tags": []
   },
   "source": [
    "#### Results"
   ]
  },
  {
   "cell_type": "code",
   "execution_count": 10,
   "id": "b54c7561-84f6-4830-8337-34600cfc064a",
   "metadata": {},
   "outputs": [
    {
     "name": "stdout",
     "output_type": "stream",
     "text": [
      "Results:\n",
      "Confusion matrix\n"
     ]
    },
    {
     "data": {
      "text/html": [
       "<div>\n",
       "<style scoped>\n",
       "    .dataframe tbody tr th:only-of-type {\n",
       "        vertical-align: middle;\n",
       "    }\n",
       "\n",
       "    .dataframe tbody tr th {\n",
       "        vertical-align: top;\n",
       "    }\n",
       "\n",
       "    .dataframe thead th {\n",
       "        text-align: right;\n",
       "    }\n",
       "</style>\n",
       "<table border=\"1\" class=\"dataframe\">\n",
       "  <thead>\n",
       "    <tr style=\"text-align: right;\">\n",
       "      <th></th>\n",
       "      <th>Actual Bad</th>\n",
       "      <th>Actual Good</th>\n",
       "    </tr>\n",
       "  </thead>\n",
       "  <tbody>\n",
       "    <tr>\n",
       "      <th>Predicted Bad</th>\n",
       "      <td>28</td>\n",
       "      <td>0</td>\n",
       "    </tr>\n",
       "    <tr>\n",
       "      <th>Predicted Good</th>\n",
       "      <td>8</td>\n",
       "      <td>70</td>\n",
       "    </tr>\n",
       "  </tbody>\n",
       "</table>\n",
       "</div>"
      ],
      "text/plain": [
       "                Actual Bad  Actual Good\n",
       "Predicted Bad           28            0\n",
       "Predicted Good           8           70"
      ]
     },
     "metadata": {},
     "output_type": "display_data"
    },
    {
     "data": {
      "text/html": [
       "<div>\n",
       "<style scoped>\n",
       "    .dataframe tbody tr th:only-of-type {\n",
       "        vertical-align: middle;\n",
       "    }\n",
       "\n",
       "    .dataframe tbody tr th {\n",
       "        vertical-align: top;\n",
       "    }\n",
       "\n",
       "    .dataframe thead th {\n",
       "        text-align: right;\n",
       "    }\n",
       "</style>\n",
       "<table border=\"1\" class=\"dataframe\">\n",
       "  <thead>\n",
       "    <tr style=\"text-align: right;\">\n",
       "      <th></th>\n",
       "      <th>Avg.</th>\n",
       "    </tr>\n",
       "  </thead>\n",
       "  <tbody>\n",
       "    <tr>\n",
       "      <th>Accuracy</th>\n",
       "      <td>0.924528</td>\n",
       "    </tr>\n",
       "  </tbody>\n",
       "</table>\n",
       "</div>"
      ],
      "text/plain": [
       "              Avg.\n",
       "Accuracy  0.924528"
      ]
     },
     "metadata": {},
     "output_type": "display_data"
    },
    {
     "data": {
      "text/html": [
       "<div>\n",
       "<style scoped>\n",
       "    .dataframe tbody tr th:only-of-type {\n",
       "        vertical-align: middle;\n",
       "    }\n",
       "\n",
       "    .dataframe tbody tr th {\n",
       "        vertical-align: top;\n",
       "    }\n",
       "\n",
       "    .dataframe thead th {\n",
       "        text-align: right;\n",
       "    }\n",
       "</style>\n",
       "<table border=\"1\" class=\"dataframe\">\n",
       "  <thead>\n",
       "    <tr style=\"text-align: right;\">\n",
       "      <th></th>\n",
       "      <th>Bad</th>\n",
       "      <th>Good</th>\n",
       "    </tr>\n",
       "  </thead>\n",
       "  <tbody>\n",
       "    <tr>\n",
       "      <th>Precision</th>\n",
       "      <td>1.0</td>\n",
       "      <td>0.897436</td>\n",
       "    </tr>\n",
       "  </tbody>\n",
       "</table>\n",
       "</div>"
      ],
      "text/plain": [
       "           Bad      Good\n",
       "Precision  1.0  0.897436"
      ]
     },
     "metadata": {},
     "output_type": "display_data"
    },
    {
     "data": {
      "text/html": [
       "<div>\n",
       "<style scoped>\n",
       "    .dataframe tbody tr th:only-of-type {\n",
       "        vertical-align: middle;\n",
       "    }\n",
       "\n",
       "    .dataframe tbody tr th {\n",
       "        vertical-align: top;\n",
       "    }\n",
       "\n",
       "    .dataframe thead th {\n",
       "        text-align: right;\n",
       "    }\n",
       "</style>\n",
       "<table border=\"1\" class=\"dataframe\">\n",
       "  <thead>\n",
       "    <tr style=\"text-align: right;\">\n",
       "      <th></th>\n",
       "      <th>Bad</th>\n",
       "      <th>Good</th>\n",
       "    </tr>\n",
       "  </thead>\n",
       "  <tbody>\n",
       "    <tr>\n",
       "      <th>Recall</th>\n",
       "      <td>0.777778</td>\n",
       "      <td>1.0</td>\n",
       "    </tr>\n",
       "  </tbody>\n",
       "</table>\n",
       "</div>"
      ],
      "text/plain": [
       "             Bad  Good\n",
       "Recall  0.777778   1.0"
      ]
     },
     "metadata": {},
     "output_type": "display_data"
    }
   ],
   "source": [
    "svc_rbf = SVC(**best_params)\n",
    "svc_rbf.fit(X_train, y_train)\n",
    "y_pred = svc_rbf.predict(X_test)\n",
    "\n",
    "cm = sklearn.metrics.confusion_matrix(y_test, y_pred).transpose()\n",
    "acc = sklearn.metrics.accuracy_score(y_test, y_pred)\n",
    "precision, recall, _, _ = sklearn.metrics.precision_recall_fscore_support(y_test, y_pred)\n",
    "\n",
    "print('Results:')\n",
    "print('Confusion matrix')\n",
    "show_metrics((cm, acc, precision, recall), ['Bad', 'Good'])"
   ]
  },
  {
   "cell_type": "markdown",
   "id": "da424662-906d-43a8-83f5-929826d0408d",
   "metadata": {},
   "source": [
    "## Comparison & Conclusion\n",
    "- Using other non-linear kernels can sometimes get better performance, since they can project the data into a higher space.\n",
    "\n",
    "- Grid search provides a more convenient way to find the high-performance hyperparameter pair."
   ]
  },
  {
   "cell_type": "markdown",
   "id": "7181fbd9-5e80-4b2a-b162-9e6b2d4360fc",
   "metadata": {},
   "source": [
    "## Questions \n",
    "> Show the average performance of K-fold cross-validation of parameter search in tables for each kernel. \n",
    "### Polynomial kernel"
   ]
  },
  {
   "cell_type": "code",
   "execution_count": 11,
   "id": "0ac9ddef-e2cd-44b1-8604-7273b74436e3",
   "metadata": {},
   "outputs": [
    {
     "data": {
      "text/html": [
       "<style type=\"text/css\">\n",
       "</style>\n",
       "<table id=\"T_96bed_\">\n",
       "  <caption>Score of polynomial kernel</caption>\n",
       "  <thead>\n",
       "    <tr>\n",
       "      <th class=\"blank\" >&nbsp;</th>\n",
       "      <th class=\"index_name level0\" >gamma</th>\n",
       "      <th class=\"col_heading level0 col0\" >0.1</th>\n",
       "      <th class=\"col_heading level0 col1\" >0.5</th>\n",
       "      <th class=\"col_heading level0 col2\" >1.0</th>\n",
       "    </tr>\n",
       "    <tr>\n",
       "      <th class=\"index_name level0\" >coef0</th>\n",
       "      <th class=\"index_name level1\" >degree</th>\n",
       "      <th class=\"blank col0\" >&nbsp;</th>\n",
       "      <th class=\"blank col1\" >&nbsp;</th>\n",
       "      <th class=\"blank col2\" >&nbsp;</th>\n",
       "    </tr>\n",
       "  </thead>\n",
       "  <tbody>\n",
       "    <tr>\n",
       "      <th id=\"T_96bed_level0_row0\" class=\"row_heading level0 row0\" rowspan=\"3\">0.1</th>\n",
       "      <th id=\"T_96bed_level1_row0\" class=\"row_heading level1 row0\" >2</th>\n",
       "      <td id=\"T_96bed_row0_col0\" class=\"data row0 col0\" >0.881633</td>\n",
       "      <td id=\"T_96bed_row0_col1\" class=\"data row0 col1\" >0.910204</td>\n",
       "      <td id=\"T_96bed_row0_col2\" class=\"data row0 col2\" >0.889796</td>\n",
       "    </tr>\n",
       "    <tr>\n",
       "      <th id=\"T_96bed_level1_row1\" class=\"row_heading level1 row1\" >3</th>\n",
       "      <td id=\"T_96bed_row1_col0\" class=\"data row1 col0\" >0.889796</td>\n",
       "      <td id=\"T_96bed_row1_col1\" class=\"data row1 col1\" >0.877551</td>\n",
       "      <td id=\"T_96bed_row1_col2\" class=\"data row1 col2\" >0.840816</td>\n",
       "    </tr>\n",
       "    <tr>\n",
       "      <th id=\"T_96bed_level1_row2\" class=\"row_heading level1 row2\" >4</th>\n",
       "      <td id=\"T_96bed_row2_col0\" class=\"data row2 col0\" >0.840816</td>\n",
       "      <td id=\"T_96bed_row2_col1\" class=\"data row2 col1\" >0.853061</td>\n",
       "      <td id=\"T_96bed_row2_col2\" class=\"data row2 col2\" >0.848980</td>\n",
       "    </tr>\n",
       "    <tr>\n",
       "      <th id=\"T_96bed_level0_row3\" class=\"row_heading level0 row3\" rowspan=\"3\">1.0</th>\n",
       "      <th id=\"T_96bed_level1_row3\" class=\"row_heading level1 row3\" >2</th>\n",
       "      <td id=\"T_96bed_row3_col0\" class=\"data row3 col0\" >0.865306</td>\n",
       "      <td id=\"T_96bed_row3_col1\" class=\"data row3 col1\" >0.893878</td>\n",
       "      <td id=\"T_96bed_row3_col2\" class=\"data row3 col2\" >0.885714</td>\n",
       "    </tr>\n",
       "    <tr>\n",
       "      <th id=\"T_96bed_level1_row4\" class=\"row_heading level1 row4\" >3</th>\n",
       "      <td id=\"T_96bed_row4_col0\" class=\"data row4 col0\" >0.902041</td>\n",
       "      <td id=\"T_96bed_row4_col1\" class=\"data row4 col1\" >0.861224</td>\n",
       "      <td id=\"T_96bed_row4_col2\" class=\"data row4 col2\" >0.853061</td>\n",
       "    </tr>\n",
       "    <tr>\n",
       "      <th id=\"T_96bed_level1_row5\" class=\"row_heading level1 row5\" >4</th>\n",
       "      <td id=\"T_96bed_row5_col0\" class=\"data row5 col0\" >0.897959</td>\n",
       "      <td id=\"T_96bed_row5_col1\" class=\"data row5 col1\" >0.865306</td>\n",
       "      <td id=\"T_96bed_row5_col2\" class=\"data row5 col2\" >0.840816</td>\n",
       "    </tr>\n",
       "    <tr>\n",
       "      <th id=\"T_96bed_level0_row6\" class=\"row_heading level0 row6\" rowspan=\"3\">10.0</th>\n",
       "      <th id=\"T_96bed_level1_row6\" class=\"row_heading level1 row6\" >2</th>\n",
       "      <td id=\"T_96bed_row6_col0\" class=\"data row6 col0\" >0.873469</td>\n",
       "      <td id=\"T_96bed_row6_col1\" class=\"data row6 col1\" >0.873469</td>\n",
       "      <td id=\"T_96bed_row6_col2\" class=\"data row6 col2\" >0.877551</td>\n",
       "    </tr>\n",
       "    <tr>\n",
       "      <th id=\"T_96bed_level1_row7\" class=\"row_heading level1 row7\" >3</th>\n",
       "      <td id=\"T_96bed_row7_col0\" class=\"data row7 col0\" >0.873469</td>\n",
       "      <td id=\"T_96bed_row7_col1\" class=\"data row7 col1\" >0.848980</td>\n",
       "      <td id=\"T_96bed_row7_col2\" class=\"data row7 col2\" >0.840816</td>\n",
       "    </tr>\n",
       "    <tr>\n",
       "      <th id=\"T_96bed_level1_row8\" class=\"row_heading level1 row8\" >4</th>\n",
       "      <td id=\"T_96bed_row8_col0\" class=\"data row8 col0\" >0.840816</td>\n",
       "      <td id=\"T_96bed_row8_col1\" class=\"data row8 col1\" >0.836735</td>\n",
       "      <td id=\"T_96bed_row8_col2\" class=\"data row8 col2\" >0.844898</td>\n",
       "    </tr>\n",
       "  </tbody>\n",
       "</table>\n"
      ],
      "text/plain": [
       "<pandas.io.formats.style.Styler at 0x16dd47b0d30>"
      ]
     },
     "metadata": {},
     "output_type": "display_data"
    }
   ],
   "source": [
    "arrays = [\n",
    "    [j for sub in [[i]*3 for i in poly_parameters['coef0']] for j in sub],\n",
    "    poly_parameters['degree']*3,\n",
    "]\n",
    "df1 = pd.DataFrame(test_score_poly.reshape(9, 3), index=arrays)\n",
    "df1.index.names = ['coef0', 'degree']\n",
    "df1.columns = poly_parameters['gamma']\n",
    "df1.columns.names = ['gamma']\n",
    "df1 = df1.style.set_caption(\"Score of polynomial kernel\")\n",
    "display(df1)"
   ]
  },
  {
   "cell_type": "markdown",
   "id": "1ebe1b33-06e8-488b-b91b-74dce257896d",
   "metadata": {},
   "source": [
    "### RBF kernel"
   ]
  },
  {
   "cell_type": "code",
   "execution_count": 12,
   "id": "3103611b-f6f6-483f-9023-2d28b3dda4e5",
   "metadata": {},
   "outputs": [
    {
     "data": {
      "text/html": [
       "<div>\n",
       "<style scoped>\n",
       "    .dataframe tbody tr th:only-of-type {\n",
       "        vertical-align: middle;\n",
       "    }\n",
       "\n",
       "    .dataframe tbody tr th {\n",
       "        vertical-align: top;\n",
       "    }\n",
       "\n",
       "    .dataframe thead th {\n",
       "        text-align: right;\n",
       "    }\n",
       "</style>\n",
       "<table border=\"1\" class=\"dataframe\">\n",
       "  <thead>\n",
       "    <tr style=\"text-align: right;\">\n",
       "      <th></th>\n",
       "      <th>Score of RBF kernel</th>\n",
       "    </tr>\n",
       "    <tr>\n",
       "      <th>gamma</th>\n",
       "      <th></th>\n",
       "    </tr>\n",
       "  </thead>\n",
       "  <tbody>\n",
       "    <tr>\n",
       "      <th>0.1</th>\n",
       "      <td>0.959184</td>\n",
       "    </tr>\n",
       "    <tr>\n",
       "      <th>0.5</th>\n",
       "      <td>0.926531</td>\n",
       "    </tr>\n",
       "    <tr>\n",
       "      <th>1.0</th>\n",
       "      <td>0.914286</td>\n",
       "    </tr>\n",
       "  </tbody>\n",
       "</table>\n",
       "</div>"
      ],
      "text/plain": [
       "       Score of RBF kernel\n",
       "gamma                     \n",
       "0.1               0.959184\n",
       "0.5               0.926531\n",
       "1.0               0.914286"
      ]
     },
     "execution_count": 12,
     "metadata": {},
     "output_type": "execute_result"
    }
   ],
   "source": [
    "df_grid_rbf = pd.DataFrame(test_score_rbf, index=rbf_parameters['gamma'])\n",
    "df_grid_rbf.index.names = ['gamma']\n",
    "df_grid_rbf.columns = ['Score of RBF kernel']\n",
    "df_grid_rbf"
   ]
  },
  {
   "cell_type": "code",
   "execution_count": null,
   "id": "945385b0-b12a-46e6-86c6-f478a7ce0451",
   "metadata": {},
   "outputs": [],
   "source": []
  }
 ],
 "metadata": {
  "kernelspec": {
   "display_name": "Python 3 (ipykernel)",
   "language": "python",
   "name": "python3"
  },
  "language_info": {
   "codemirror_mode": {
    "name": "ipython",
    "version": 3
   },
   "file_extension": ".py",
   "mimetype": "text/x-python",
   "name": "python",
   "nbconvert_exporter": "python",
   "pygments_lexer": "ipython3",
   "version": "3.9.7"
  }
 },
 "nbformat": 4,
 "nbformat_minor": 5
}
