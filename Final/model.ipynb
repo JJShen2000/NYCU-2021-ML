{
 "cells": [
  {
   "cell_type": "markdown",
   "id": "fb752d3d-7295-40aa-9f50-586ebcdb9a19",
   "metadata": {},
   "source": [
    "# Phone prices\n",
    "---\n",
    "\n",
    "#### Name: 沈家駿\n",
    "#### Student ID: 0712223\n",
    "\n",
    "---"
   ]
  },
  {
   "cell_type": "code",
   "execution_count": 1,
   "id": "643505f0-aa74-447c-838d-e6638093a7e9",
   "metadata": {},
   "outputs": [],
   "source": [
    "import numpy as np\n",
    "import pandas as pd\n",
    "import matplotlib.pyplot as plt\n",
    "import seaborn as sns\n",
    "import sklearn\n",
    "from sklearn.model_selection import train_test_split\n",
    "from sklearn.model_selection import KFold\n",
    "from sklearn.decomposition import PCA\n",
    "from sklearn.preprocessing import StandardScaler\n",
    "from sklearn.ensemble import RandomForestClassifier\n",
    "from sklearn.tree import DecisionTreeClassifier\n",
    "from sklearn.neighbors import KNeighborsClassifier\n",
    "from sklearn import tree\n",
    "from sklearn.neural_network import MLPClassifier\n",
    "from xgboost.sklearn import XGBClassifier\n",
    "from sklearn.ensemble import GradientBoostingRegressor\n",
    "from sklearn.naive_bayes import CategoricalNB\n",
    "from sklearn.preprocessing import MinMaxScaler"
   ]
  },
  {
   "cell_type": "markdown",
   "id": "efc21fea-37e1-4cf9-818e-beed4752c2b8",
   "metadata": {},
   "source": [
    "## Data Input"
   ]
  },
  {
   "cell_type": "code",
   "execution_count": 2,
   "id": "393d016c-b030-4b3f-b13f-6d325d9204a9",
   "metadata": {},
   "outputs": [
    {
     "data": {
      "text/plain": [
       "Index(['Price', 'ROM儲存空間', '主螢幕尺寸', '主相機畫素', '主相機光學防手震', '主相機UHD 4K錄影',\n",
       "       '第二主相機畫素', '前相機畫素', '前相機UHD 4K錄影', 'NFC', '快充功率', '無線充電', '機身長度',\n",
       "       '機身寬度', '機身厚度', '機身重量', '防水防塵等級', '機身顏色', 'Brand', '第三主相機畫素', 'RAM記憶體',\n",
       "       '電池容量', '主相機8K錄影', '3.5mm耳機孔', '記憶卡', 'RAW檔拍攝', '可替換電池', '無線反向充電',\n",
       "       '第四主相機畫素', '副螢幕觸控', '第二前相機畫素', 'soc_s', 'soc_m', 'resolution_x',\n",
       "       'resolution_y', 'OLED', '90Hz', '120Hz', '144Hz', 'Wifi5G', 'Wifi6',\n",
       "       'bt5.0', 'bt5.1', 'bt5.2', 'bt4.2', 'UFS', 'cam_back_num', 'glass',\n",
       "       'plastic', '摺疊螢幕', 'USB3'],\n",
       "      dtype='object')"
      ]
     },
     "execution_count": 2,
     "metadata": {},
     "output_type": "execute_result"
    }
   ],
   "source": [
    "df = pd.read_csv('sogi_mobile.csv')\n",
    "df.columns"
   ]
  },
  {
   "cell_type": "code",
   "execution_count": 3,
   "id": "f13d6ec7-7463-408f-9b95-f62f979adcb0",
   "metadata": {},
   "outputs": [
    {
     "data": {
      "text/plain": [
       "(201, 51)"
      ]
     },
     "execution_count": 3,
     "metadata": {},
     "output_type": "execute_result"
    }
   ],
   "source": [
    "df.shape"
   ]
  },
  {
   "cell_type": "markdown",
   "id": "f19a2632-bf33-486f-b202-452d048c017e",
   "metadata": {},
   "source": [
    "## Data Processing & Visualization"
   ]
  },
  {
   "cell_type": "markdown",
   "id": "b0c92e74-bde0-437a-8d0b-d8158b1f19cd",
   "metadata": {},
   "source": [
    "### Divide the data into X(features) and y(labels)."
   ]
  },
  {
   "cell_type": "code",
   "execution_count": 4,
   "id": "90c72352-c47b-4563-95ac-0d1c1b29f063",
   "metadata": {},
   "outputs": [],
   "source": [
    "y = df['Price']\n",
    "X = df.drop(['Price'], axis=1)\n",
    "# Without brand\n",
    "X_wo_brand = df.drop(['Price', 'Brand'], axis=1)"
   ]
  },
  {
   "cell_type": "markdown",
   "id": "dd5fdbf9-a9f2-4ee4-b5f1-63cafa6183aa",
   "metadata": {},
   "source": [
    "### Plot the distribution of Prices(y)"
   ]
  },
  {
   "cell_type": "code",
   "execution_count": 5,
   "id": "d102be8c-b71e-43c9-8a43-6d664f8b2848",
   "metadata": {},
   "outputs": [],
   "source": [
    "def visulization(x, title, featureName, binSz, colorName, axs, seq=None):\n",
    "    sns.set_theme()\n",
    "    # print('\\taverage:',x.mean())\n",
    "    # print('\\tstandard deviation:',x.std())\n",
    "    xMean = '{:.2f}'.format(x.mean())\n",
    "    xStd = '{:.2f}'.format(x.std())\n",
    "    \n",
    "    if seq is None:\n",
    "        subplt = axs\n",
    "    else:\n",
    "        subplt = axs[seq//2,seq%2]\n",
    "    subplt.hist(x, bins = binSz, color=colorName)\n",
    "    subplt.set_title(title+'\\naverage: '+xMean+'  standard deviation: '+xStd)\n",
    "    subplt.set_xlabel(featureName)\n",
    "    subplt.set_ylabel(\"cnt\")"
   ]
  },
  {
   "cell_type": "code",
   "execution_count": 6,
   "id": "0cb778f2-06f1-4b13-906a-7b1b27df5d81",
   "metadata": {},
   "outputs": [
    {
     "data": {
      "image/png": "[encoded data removed]",
      "text/plain": [
       "<Figure size 432x288 with 1 Axes>"
      ]
     },
     "metadata": {
      "needs_background": "light"
     },
     "output_type": "display_data"
    }
   ],
   "source": [
    "fig, ax = plt.subplots()\n",
    "plt.tight_layout()\n",
    "visulization(y, 'Distribution of Prices', 'Prices', 50, '#069AF3', ax)"
   ]
  },
  {
   "cell_type": "markdown",
   "id": "7883b595-fbff-42d1-abf4-ad2d45cab0f6",
   "metadata": {},
   "source": [
    "### Classify y by  Quantile"
   ]
  },
  {
   "cell_type": "code",
   "execution_count": 7,
   "id": "64214805-a736-481e-8aa7-cb03f44dd379",
   "metadata": {},
   "outputs": [
    {
     "name": "stdout",
     "output_type": "stream",
     "text": [
      "Quantile:\n"
     ]
    },
    {
     "data": {
      "text/html": [
       "<div>\n",
       "<style scoped>\n",
       "    .dataframe tbody tr th:only-of-type {\n",
       "        vertical-align: middle;\n",
       "    }\n",
       "\n",
       "    .dataframe tbody tr th {\n",
       "        vertical-align: top;\n",
       "    }\n",
       "\n",
       "    .dataframe thead th {\n",
       "        text-align: right;\n",
       "    }\n",
       "</style>\n",
       "<table border=\"1\" class=\"dataframe\">\n",
       "  <thead>\n",
       "    <tr style=\"text-align: right;\">\n",
       "      <th></th>\n",
       "      <th>Q1</th>\n",
       "      <th>Q2</th>\n",
       "      <th>Q3</th>\n",
       "    </tr>\n",
       "  </thead>\n",
       "  <tbody>\n",
       "    <tr>\n",
       "      <th>Price</th>\n",
       "      <td>4600.0</td>\n",
       "      <td>7290.0</td>\n",
       "      <td>15290.0</td>\n",
       "    </tr>\n",
       "  </tbody>\n",
       "</table>\n",
       "</div>"
      ],
      "text/plain": [
       "           Q1      Q2       Q3\n",
       "Price  4600.0  7290.0  15290.0"
      ]
     },
     "metadata": {},
     "output_type": "display_data"
    }
   ],
   "source": [
    "print('Quantile:')\n",
    "display(pd.DataFrame([[y.quantile(.25), y.quantile(.5), y.quantile(.75)]], columns=['Q1','Q2','Q3'], index=['Price']))"
   ]
  },
  {
   "cell_type": "code",
   "execution_count": 8,
   "id": "63233cfd-3c52-4229-b195-6e04692d596c",
   "metadata": {},
   "outputs": [],
   "source": [
    "def quantile_stratify(score):\n",
    "    if score >= y.quantile(.75):\n",
    "        return 0\n",
    "    elif score >= y.quantile(.5):\n",
    "        return 1\n",
    "    elif score >= y.quantile(.25):\n",
    "        return 2\n",
    "    else:\n",
    "        return 3\n",
    "y_quantile = pd.Series(list(map(quantile_stratify, list(y))))"
   ]
  },
  {
   "cell_type": "code",
   "execution_count": 9,
   "id": "e39358fa-0661-4a5b-8329-612a717e6fff",
   "metadata": {},
   "outputs": [],
   "source": [
    "lable_level = ['Top 25%', 'Top 25-50%', 'Last 25-50%', 'Last 25%']\n",
    "cm_row_level = list(map(lambda x: 'Predicted '+x, list(lable_level)))\n",
    "cm_col_level = list(map(lambda x: 'Actual '+x, list(lable_level)))"
   ]
  },
  {
   "cell_type": "code",
   "execution_count": 10,
   "id": "386893b2-9b59-49f1-a015-d0843298e197",
   "metadata": {},
   "outputs": [],
   "source": [
    "def show_feature(f, bar_num=50):\n",
    "    fig, axs = plt.subplots(2, 2, figsize=(10,7))\n",
    "    visulization(df[y_quantile==0][f], 'Distribution of '+f +' in '+lable_level[0], f, bar_num, '#069AF3',axs, 0)\n",
    "    visulization(df[y_quantile==1][f], 'Distribution of '+f+' in '+lable_level[1], f, bar_num, '#069AF3',axs, 1)\n",
    "    visulization(df[y_quantile==2][f], 'Distribution of '+f+' in '+lable_level[2], f, bar_num, '#069AF3',axs, 2)\n",
    "    visulization(df[y_quantile==3][f], 'Distribution of '+f+' in '+lable_level[3], f, 50, '#069AF3',axs, 3)\n",
    "    fig.tight_layout()"
   ]
  },
  {
   "cell_type": "code",
   "execution_count": 11,
   "id": "38159e9f-ada2-487a-8914-c618eed581f4",
   "metadata": {},
   "outputs": [
    {
     "data": {
      "image/png": "[encoded data removed]",
      "text/plain": [
       "<Figure size 720x504 with 4 Axes>"
      ]
     },
     "metadata": {},
     "output_type": "display_data"
    }
   ],
   "source": [
    "show_feature('soc_m')"
   ]
  },
  {
   "cell_type": "code",
   "execution_count": 12,
   "id": "6dda8246-aa02-4b62-89f4-c617bba1f3dc",
   "metadata": {},
   "outputs": [
    {
     "data": {
      "image/png": "[encoded data removed]",
      "text/plain": [
       "<Figure size 1440x432 with 1 Axes>"
      ]
     },
     "metadata": {},
     "output_type": "display_data"
    }
   ],
   "source": [
    "f='Brand'\n",
    "d_1 = dict(df[y_quantile==0][f].value_counts())\n",
    "d_2 = dict(df[y_quantile==1][f].value_counts())\n",
    "d_3 = dict(df[y_quantile==2][f].value_counts())\n",
    "d_4 = dict(df[y_quantile==3][f].value_counts())\n",
    "keys = list(set(list(d_1)+list(d_2)+list(d_3)+list(d_4)))\n",
    "\n",
    "val_1 = np.array([d_1.get(key, 0) for key in keys])\n",
    "val_2 = np.array([d_2.get(key, 0) for key in keys])\n",
    "val_3 = np.array([d_3.get(key, 0) for key in keys])\n",
    "val_4 = np.array([d_4.get(key, 0) for key in keys])\n",
    "\n",
    "\n",
    "fig, axs = plt.subplots(figsize=(20,6))\n",
    "plt.bar(keys,val_1,color='deeppink',label=lable_level[0],width = 0.4)\n",
    "plt.bar(keys,val_2,color='royalblue',label=lable_level[1],bottom=val_1,width = 0.4)\n",
    "plt.bar(keys,val_3,color='forestgreen',label=lable_level[2],bottom=val_1+val_2,width = 0.4)\n",
    "plt.bar(keys,val_4,color='gold',label=lable_level[3],bottom=val_1+val_2+val_3,width = 0.4)\n",
    "plt.legend(lable_level, loc=\"upper left\")\n",
    "plt.title(f)\n",
    "fig.tight_layout()\n",
    "plt.show()"
   ]
  },
  {
   "cell_type": "code",
   "execution_count": 13,
   "id": "5e75fed7-d2f4-4997-80c0-8c83646bc53b",
   "metadata": {},
   "outputs": [],
   "source": [
    "X = pd.get_dummies(X)\n",
    "features_dummies = X.columns\n",
    "X = X.to_numpy()\n",
    "\n",
    "X_wo_brand = pd.get_dummies(X_wo_brand)\n",
    "features_dummies_wo_brand = X_wo_brand.columns\n",
    "X_wo_brand = X_wo_brand.to_numpy()"
   ]
  },
  {
   "cell_type": "code",
   "execution_count": 14,
   "id": "6048a2aa-05f3-4274-b372-85e8bb29ae1c",
   "metadata": {},
   "outputs": [
    {
     "data": {
      "text/plain": [
       "Index(['ROM儲存空間', '主螢幕尺寸', '主相機畫素', '主相機光學防手震', '主相機UHD 4K錄影', '第二主相機畫素',\n",
       "       '前相機畫素', '前相機UHD 4K錄影', 'NFC', '快充功率', '無線充電', '機身長度', '機身寬度', '機身厚度',\n",
       "       '機身重量', '防水防塵等級', '機身顏色', '第三主相機畫素', 'RAM記憶體', '電池容量', '主相機8K錄影',\n",
       "       '3.5mm耳機孔', '記憶卡', 'RAW檔拍攝', '可替換電池', '無線反向充電', '第四主相機畫素', '副螢幕觸控',\n",
       "       '第二前相機畫素', 'soc_s', 'soc_m', 'resolution_x', 'resolution_y', 'OLED',\n",
       "       '90Hz', '120Hz', '144Hz', 'bt5.0', 'bt5.1', 'bt5.2', 'bt4.2', 'UFS',\n",
       "       'cam_back_num', 'glass', 'plastic', '摺疊螢幕', 'USB3', 'Brand_apple',\n",
       "       'Brand_asus', 'Brand_benten', 'Brand_blackshark', 'Brand_cat',\n",
       "       'Brand_google', 'Brand_htc', 'Brand_huawei', 'Brand_inhon',\n",
       "       'Brand_koobee', 'Brand_lenovo', 'Brand_lg', 'Brand_motorola',\n",
       "       'Brand_mto', 'Brand_nokia', 'Brand_oppo', 'Brand_oppp',\n",
       "       'Brand_panasonic', 'Brand_poco', 'Brand_realme', 'Brand_samsung',\n",
       "       'Brand_sharp', 'Brand_sony', 'Brand_sugar', 'Brand_vivo',\n",
       "       'Brand_xiaomi', 'Wifi5G_False', 'Wifi5G_True', 'Wifi6_False',\n",
       "       'Wifi6_True'],\n",
       "      dtype='object')"
      ]
     },
     "execution_count": 14,
     "metadata": {},
     "output_type": "execute_result"
    }
   ],
   "source": [
    "features_dummies"
   ]
  },
  {
   "cell_type": "code",
   "execution_count": 15,
   "id": "6257eda1-8dcd-4fcc-8e2c-f7ad922628b8",
   "metadata": {},
   "outputs": [
    {
     "data": {
      "text/plain": [
       "Index(['ROM儲存空間', '主螢幕尺寸', '主相機畫素', '主相機光學防手震', '主相機UHD 4K錄影', '第二主相機畫素',\n",
       "       '前相機畫素', '前相機UHD 4K錄影', 'NFC', '快充功率', '無線充電', '機身長度', '機身寬度', '機身厚度',\n",
       "       '機身重量', '防水防塵等級', '機身顏色', '第三主相機畫素', 'RAM記憶體', '電池容量', '主相機8K錄影',\n",
       "       '3.5mm耳機孔', '記憶卡', 'RAW檔拍攝', '可替換電池', '無線反向充電', '第四主相機畫素', '副螢幕觸控',\n",
       "       '第二前相機畫素', 'soc_s', 'soc_m', 'resolution_x', 'resolution_y', 'OLED',\n",
       "       '90Hz', '120Hz', '144Hz', 'bt5.0', 'bt5.1', 'bt5.2', 'bt4.2', 'UFS',\n",
       "       'cam_back_num', 'glass', 'plastic', '摺疊螢幕', 'USB3', 'Wifi5G_False',\n",
       "       'Wifi5G_True', 'Wifi6_False', 'Wifi6_True'],\n",
       "      dtype='object')"
      ]
     },
     "execution_count": 15,
     "metadata": {},
     "output_type": "execute_result"
    }
   ],
   "source": [
    "features_dummies_wo_brand"
   ]
  },
  {
   "cell_type": "markdown",
   "id": "d6a0eeaf-37f7-4e0a-b278-6ae916e4f34f",
   "metadata": {},
   "source": [
    "## Model"
   ]
  },
  {
   "cell_type": "code",
   "execution_count": 16,
   "id": "33b45210-903f-41eb-82e4-8c2348a3cd33",
   "metadata": {},
   "outputs": [],
   "source": [
    "def run_model(model, X_, y_, num_class, k=3, need_pca=False, need_std=False, need_print_tree=False, need_sca=False, need_auc=False):\n",
    "    ''' Run the model and output the metrics.\n",
    "    '''\n",
    "    kf = KFold(n_splits=k, shuffle = True)\n",
    "    confusionMatrixSum = np.zeros([num_class, num_class])\n",
    "    accuracySum = 0\n",
    "    precisionSum = np.zeros([num_class])\n",
    "    recallSum = np.zeros([num_class])\n",
    "\n",
    "    for train_index, test_index in kf.split(X_):\n",
    "        X_train, X_test = X_[train_index], X_[test_index]\n",
    "        y_train, y_test = y_[train_index], y_[test_index]\n",
    "        \n",
    "        if need_std:\n",
    "            transfer = StandardScaler()\n",
    "            X_train = transfer.fit_transform(X_train)\n",
    "            X_test = transfer.transform(X_test)\n",
    "        \n",
    "        if need_sca:\n",
    "            scaler = MinMaxScaler()\n",
    "            X_train = scaler.fit_transform(X_train)\n",
    "            X_test = scaler.fit_transform(X_test)\n",
    "        \n",
    "        if need_pca:\n",
    "            pca = PCA(n_components='mle')\n",
    "            pca.fit(X_train)\n",
    "            X_train = pca.transform(X_train)\n",
    "            X_test = pca.transform(X_test)\n",
    "        if need_auc:\n",
    "            model.fit(X_train, y_train,eval_metric='auc')\n",
    "        else:\n",
    "            model.fit(X_train, y_train)\n",
    "        y_pred = model.predict(X_test)\n",
    "\n",
    "        conf_matrix = sklearn.metrics.confusion_matrix(y_test, y_pred).transpose()\n",
    "        confusionMatrixSum += np.array(conf_matrix)\n",
    "\n",
    "        accuracySum += sklearn.metrics.accuracy_score(y_test, y_pred)\n",
    "\n",
    "        precision_temp, recall_temp, _, _ = sklearn.metrics.precision_recall_fscore_support(y_test, y_pred)\n",
    "        precisionSum += np.array(precision_temp)\n",
    "        recallSum += np.array(recall_temp)\n",
    "    cm = confusionMatrixSum/k\n",
    "    acc = accuracySum/k\n",
    "    pc = precisionSum/k\n",
    "    recall = recallSum/k\n",
    "    \n",
    "    return cm, acc, pc, recall"
   ]
  },
  {
   "cell_type": "code",
   "execution_count": 17,
   "id": "8bbf55d9-0bec-4e22-9f09-9bfe2dda17e6",
   "metadata": {},
   "outputs": [],
   "source": [
    "def show_metrics(metrics):\n",
    "    cm, acc, pc, recall = metrics\n",
    "    num_classes = pc.size\n",
    "    cm_col = cm_col_binary if num_classes == 2 else cm_col_level\n",
    "    cm_row = cm_row_binary if num_classes == 2 else cm_row_level\n",
    "    lable = lable_binary if num_classes == 2 else lable_level\n",
    "    \n",
    "    display(pd.DataFrame(cm, index=cm_row, columns=cm_col))\n",
    "    display(pd.DataFrame([acc], index=['Accuracy'], columns=['Avg.']))\n",
    "    display(pd.DataFrame(pc.reshape(1, num_classes), index=['Precision'], columns=lable))\n",
    "    display(pd.DataFrame(recall.reshape(1, num_classes), index=['Recall'], columns=lable))"
   ]
  },
  {
   "cell_type": "code",
   "execution_count": 18,
   "id": "e83e4536-2bd6-43be-80a1-a4a9fa604d0b",
   "metadata": {},
   "outputs": [
    {
     "data": {
      "text/html": [
       "<div>\n",
       "<style scoped>\n",
       "    .dataframe tbody tr th:only-of-type {\n",
       "        vertical-align: middle;\n",
       "    }\n",
       "\n",
       "    .dataframe tbody tr th {\n",
       "        vertical-align: top;\n",
       "    }\n",
       "\n",
       "    .dataframe thead th {\n",
       "        text-align: right;\n",
       "    }\n",
       "</style>\n",
       "<table border=\"1\" class=\"dataframe\">\n",
       "  <thead>\n",
       "    <tr style=\"text-align: right;\">\n",
       "      <th></th>\n",
       "      <th>Actual Top 25%</th>\n",
       "      <th>Actual Top 25-50%</th>\n",
       "      <th>Actual Last 25-50%</th>\n",
       "      <th>Actual Last 25%</th>\n",
       "    </tr>\n",
       "  </thead>\n",
       "  <tbody>\n",
       "    <tr>\n",
       "      <th>Predicted Top 25%</th>\n",
       "      <td>14.000000</td>\n",
       "      <td>1.666667</td>\n",
       "      <td>0.000000</td>\n",
       "      <td>0.000000</td>\n",
       "    </tr>\n",
       "    <tr>\n",
       "      <th>Predicted Top 25-50%</th>\n",
       "      <td>2.666667</td>\n",
       "      <td>13.333333</td>\n",
       "      <td>2.000000</td>\n",
       "      <td>0.333333</td>\n",
       "    </tr>\n",
       "    <tr>\n",
       "      <th>Predicted Last 25-50%</th>\n",
       "      <td>0.000000</td>\n",
       "      <td>1.333333</td>\n",
       "      <td>11.333333</td>\n",
       "      <td>2.000000</td>\n",
       "    </tr>\n",
       "    <tr>\n",
       "      <th>Predicted Last 25%</th>\n",
       "      <td>0.333333</td>\n",
       "      <td>0.333333</td>\n",
       "      <td>3.666667</td>\n",
       "      <td>14.000000</td>\n",
       "    </tr>\n",
       "  </tbody>\n",
       "</table>\n",
       "</div>"
      ],
      "text/plain": [
       "                       Actual Top 25%  Actual Top 25-50%  Actual Last 25-50%  \\\n",
       "Predicted Top 25%           14.000000           1.666667            0.000000   \n",
       "Predicted Top 25-50%         2.666667          13.333333            2.000000   \n",
       "Predicted Last 25-50%        0.000000           1.333333           11.333333   \n",
       "Predicted Last 25%           0.333333           0.333333            3.666667   \n",
       "\n",
       "                       Actual Last 25%  \n",
       "Predicted Top 25%             0.000000  \n",
       "Predicted Top 25-50%          0.333333  \n",
       "Predicted Last 25-50%         2.000000  \n",
       "Predicted Last 25%           14.000000  "
      ]
     },
     "metadata": {},
     "output_type": "display_data"
    },
    {
     "data": {
      "text/html": [
       "<div>\n",
       "<style scoped>\n",
       "    .dataframe tbody tr th:only-of-type {\n",
       "        vertical-align: middle;\n",
       "    }\n",
       "\n",
       "    .dataframe tbody tr th {\n",
       "        vertical-align: top;\n",
       "    }\n",
       "\n",
       "    .dataframe thead th {\n",
       "        text-align: right;\n",
       "    }\n",
       "</style>\n",
       "<table border=\"1\" class=\"dataframe\">\n",
       "  <thead>\n",
       "    <tr style=\"text-align: right;\">\n",
       "      <th></th>\n",
       "      <th>Avg.</th>\n",
       "    </tr>\n",
       "  </thead>\n",
       "  <tbody>\n",
       "    <tr>\n",
       "      <th>Accuracy</th>\n",
       "      <td>0.78607</td>\n",
       "    </tr>\n",
       "  </tbody>\n",
       "</table>\n",
       "</div>"
      ],
      "text/plain": [
       "             Avg.\n",
       "Accuracy  0.78607"
      ]
     },
     "metadata": {},
     "output_type": "display_data"
    },
    {
     "data": {
      "text/html": [
       "<div>\n",
       "<style scoped>\n",
       "    .dataframe tbody tr th:only-of-type {\n",
       "        vertical-align: middle;\n",
       "    }\n",
       "\n",
       "    .dataframe tbody tr th {\n",
       "        vertical-align: top;\n",
       "    }\n",
       "\n",
       "    .dataframe thead th {\n",
       "        text-align: right;\n",
       "    }\n",
       "</style>\n",
       "<table border=\"1\" class=\"dataframe\">\n",
       "  <thead>\n",
       "    <tr style=\"text-align: right;\">\n",
       "      <th></th>\n",
       "      <th>Top 25%</th>\n",
       "      <th>Top 25-50%</th>\n",
       "      <th>Last 25-50%</th>\n",
       "      <th>Last 25%</th>\n",
       "    </tr>\n",
       "  </thead>\n",
       "  <tbody>\n",
       "    <tr>\n",
       "      <th>Precision</th>\n",
       "      <td>0.903333</td>\n",
       "      <td>0.759503</td>\n",
       "      <td>0.776471</td>\n",
       "      <td>0.777778</td>\n",
       "    </tr>\n",
       "  </tbody>\n",
       "</table>\n",
       "</div>"
      ],
      "text/plain": [
       "            Top 25%  Top 25-50%  Last 25-50%  Last 25%\n",
       "Precision  0.903333    0.759503     0.776471  0.777778"
      ]
     },
     "metadata": {},
     "output_type": "display_data"
    },
    {
     "data": {
      "text/html": [
       "<div>\n",
       "<style scoped>\n",
       "    .dataframe tbody tr th:only-of-type {\n",
       "        vertical-align: middle;\n",
       "    }\n",
       "\n",
       "    .dataframe tbody tr th {\n",
       "        vertical-align: top;\n",
       "    }\n",
       "\n",
       "    .dataframe thead th {\n",
       "        text-align: right;\n",
       "    }\n",
       "</style>\n",
       "<table border=\"1\" class=\"dataframe\">\n",
       "  <thead>\n",
       "    <tr style=\"text-align: right;\">\n",
       "      <th></th>\n",
       "      <th>Top 25%</th>\n",
       "      <th>Top 25-50%</th>\n",
       "      <th>Last 25-50%</th>\n",
       "      <th>Last 25%</th>\n",
       "    </tr>\n",
       "  </thead>\n",
       "  <tbody>\n",
       "    <tr>\n",
       "      <th>Recall</th>\n",
       "      <td>0.768627</td>\n",
       "      <td>0.801636</td>\n",
       "      <td>0.722956</td>\n",
       "      <td>0.856125</td>\n",
       "    </tr>\n",
       "  </tbody>\n",
       "</table>\n",
       "</div>"
      ],
      "text/plain": [
       "         Top 25%  Top 25-50%  Last 25-50%  Last 25%\n",
       "Recall  0.768627    0.801636     0.722956  0.856125"
      ]
     },
     "metadata": {},
     "output_type": "display_data"
    }
   ],
   "source": [
    "cf = RandomForestClassifier(max_depth=20, n_estimators=100)\n",
    "show_metrics(run_model(model=cf, X_=X, y_=y_quantile, num_class=4))"
   ]
  },
  {
   "cell_type": "code",
   "execution_count": 19,
   "id": "44acc117-d7a6-48c0-ad8b-70d1c2b8d7e9",
   "metadata": {},
   "outputs": [
    {
     "data": {
      "text/html": [
       "<div>\n",
       "<style scoped>\n",
       "    .dataframe tbody tr th:only-of-type {\n",
       "        vertical-align: middle;\n",
       "    }\n",
       "\n",
       "    .dataframe tbody tr th {\n",
       "        vertical-align: top;\n",
       "    }\n",
       "\n",
       "    .dataframe thead th {\n",
       "        text-align: right;\n",
       "    }\n",
       "</style>\n",
       "<table border=\"1\" class=\"dataframe\">\n",
       "  <thead>\n",
       "    <tr style=\"text-align: right;\">\n",
       "      <th></th>\n",
       "      <th>Actual Top 25%</th>\n",
       "      <th>Actual Top 25-50%</th>\n",
       "      <th>Actual Last 25-50%</th>\n",
       "      <th>Actual Last 25%</th>\n",
       "    </tr>\n",
       "  </thead>\n",
       "  <tbody>\n",
       "    <tr>\n",
       "      <th>Predicted Top 25%</th>\n",
       "      <td>11.666667</td>\n",
       "      <td>4.666667</td>\n",
       "      <td>0.000000</td>\n",
       "      <td>0.000000</td>\n",
       "    </tr>\n",
       "    <tr>\n",
       "      <th>Predicted Top 25-50%</th>\n",
       "      <td>4.666667</td>\n",
       "      <td>8.666667</td>\n",
       "      <td>2.333333</td>\n",
       "      <td>1.000000</td>\n",
       "    </tr>\n",
       "    <tr>\n",
       "      <th>Predicted Last 25-50%</th>\n",
       "      <td>0.333333</td>\n",
       "      <td>3.000000</td>\n",
       "      <td>11.333333</td>\n",
       "      <td>0.666667</td>\n",
       "    </tr>\n",
       "    <tr>\n",
       "      <th>Predicted Last 25%</th>\n",
       "      <td>0.333333</td>\n",
       "      <td>0.333333</td>\n",
       "      <td>3.333333</td>\n",
       "      <td>14.666667</td>\n",
       "    </tr>\n",
       "  </tbody>\n",
       "</table>\n",
       "</div>"
      ],
      "text/plain": [
       "                       Actual Top 25%  Actual Top 25-50%  Actual Last 25-50%  \\\n",
       "Predicted Top 25%           11.666667           4.666667            0.000000   \n",
       "Predicted Top 25-50%         4.666667           8.666667            2.333333   \n",
       "Predicted Last 25-50%        0.333333           3.000000           11.333333   \n",
       "Predicted Last 25%           0.333333           0.333333            3.333333   \n",
       "\n",
       "                       Actual Last 25%  \n",
       "Predicted Top 25%             0.000000  \n",
       "Predicted Top 25-50%          1.000000  \n",
       "Predicted Last 25-50%         0.666667  \n",
       "Predicted Last 25%           14.666667  "
      ]
     },
     "metadata": {},
     "output_type": "display_data"
    },
    {
     "data": {
      "text/html": [
       "<div>\n",
       "<style scoped>\n",
       "    .dataframe tbody tr th:only-of-type {\n",
       "        vertical-align: middle;\n",
       "    }\n",
       "\n",
       "    .dataframe tbody tr th {\n",
       "        vertical-align: top;\n",
       "    }\n",
       "\n",
       "    .dataframe thead th {\n",
       "        text-align: right;\n",
       "    }\n",
       "</style>\n",
       "<table border=\"1\" class=\"dataframe\">\n",
       "  <thead>\n",
       "    <tr style=\"text-align: right;\">\n",
       "      <th></th>\n",
       "      <th>Avg.</th>\n",
       "    </tr>\n",
       "  </thead>\n",
       "  <tbody>\n",
       "    <tr>\n",
       "      <th>Accuracy</th>\n",
       "      <td>0.691542</td>\n",
       "    </tr>\n",
       "  </tbody>\n",
       "</table>\n",
       "</div>"
      ],
      "text/plain": [
       "              Avg.\n",
       "Accuracy  0.691542"
      ]
     },
     "metadata": {},
     "output_type": "display_data"
    },
    {
     "data": {
      "text/html": [
       "<div>\n",
       "<style scoped>\n",
       "    .dataframe tbody tr th:only-of-type {\n",
       "        vertical-align: middle;\n",
       "    }\n",
       "\n",
       "    .dataframe tbody tr th {\n",
       "        vertical-align: top;\n",
       "    }\n",
       "\n",
       "    .dataframe thead th {\n",
       "        text-align: right;\n",
       "    }\n",
       "</style>\n",
       "<table border=\"1\" class=\"dataframe\">\n",
       "  <thead>\n",
       "    <tr style=\"text-align: right;\">\n",
       "      <th></th>\n",
       "      <th>Top 25%</th>\n",
       "      <th>Top 25-50%</th>\n",
       "      <th>Last 25-50%</th>\n",
       "      <th>Last 25%</th>\n",
       "    </tr>\n",
       "  </thead>\n",
       "  <tbody>\n",
       "    <tr>\n",
       "      <th>Precision</th>\n",
       "      <td>0.712281</td>\n",
       "      <td>0.52774</td>\n",
       "      <td>0.734267</td>\n",
       "      <td>0.801542</td>\n",
       "    </tr>\n",
       "  </tbody>\n",
       "</table>\n",
       "</div>"
      ],
      "text/plain": [
       "            Top 25%  Top 25-50%  Last 25-50%  Last 25%\n",
       "Precision  0.712281     0.52774     0.734267  0.801542"
      ]
     },
     "metadata": {},
     "output_type": "display_data"
    },
    {
     "data": {
      "text/html": [
       "<div>\n",
       "<style scoped>\n",
       "    .dataframe tbody tr th:only-of-type {\n",
       "        vertical-align: middle;\n",
       "    }\n",
       "\n",
       "    .dataframe tbody tr th {\n",
       "        vertical-align: top;\n",
       "    }\n",
       "\n",
       "    .dataframe thead th {\n",
       "        text-align: right;\n",
       "    }\n",
       "</style>\n",
       "<table border=\"1\" class=\"dataframe\">\n",
       "  <thead>\n",
       "    <tr style=\"text-align: right;\">\n",
       "      <th></th>\n",
       "      <th>Top 25%</th>\n",
       "      <th>Top 25-50%</th>\n",
       "      <th>Last 25-50%</th>\n",
       "      <th>Last 25%</th>\n",
       "    </tr>\n",
       "  </thead>\n",
       "  <tbody>\n",
       "    <tr>\n",
       "      <th>Recall</th>\n",
       "      <td>0.695938</td>\n",
       "      <td>0.516667</td>\n",
       "      <td>0.669312</td>\n",
       "      <td>0.905093</td>\n",
       "    </tr>\n",
       "  </tbody>\n",
       "</table>\n",
       "</div>"
      ],
      "text/plain": [
       "         Top 25%  Top 25-50%  Last 25-50%  Last 25%\n",
       "Recall  0.695938    0.516667     0.669312  0.905093"
      ]
     },
     "metadata": {},
     "output_type": "display_data"
    }
   ],
   "source": [
    "KNN = KNeighborsClassifier(n_neighbors=5)\n",
    "show_metrics(run_model(model=KNN, X_=X, y_=y_quantile, num_class=4))"
   ]
  },
  {
   "cell_type": "code",
   "execution_count": 20,
   "id": "a90b2406-3b8e-4d38-83b5-e193d3f9ed35",
   "metadata": {},
   "outputs": [
    {
     "data": {
      "text/html": [
       "<div>\n",
       "<style scoped>\n",
       "    .dataframe tbody tr th:only-of-type {\n",
       "        vertical-align: middle;\n",
       "    }\n",
       "\n",
       "    .dataframe tbody tr th {\n",
       "        vertical-align: top;\n",
       "    }\n",
       "\n",
       "    .dataframe thead th {\n",
       "        text-align: right;\n",
       "    }\n",
       "</style>\n",
       "<table border=\"1\" class=\"dataframe\">\n",
       "  <thead>\n",
       "    <tr style=\"text-align: right;\">\n",
       "      <th></th>\n",
       "      <th>Actual Top 25%</th>\n",
       "      <th>Actual Top 25-50%</th>\n",
       "      <th>Actual Last 25-50%</th>\n",
       "      <th>Actual Last 25%</th>\n",
       "    </tr>\n",
       "  </thead>\n",
       "  <tbody>\n",
       "    <tr>\n",
       "      <th>Predicted Top 25%</th>\n",
       "      <td>14.333333</td>\n",
       "      <td>4.000000</td>\n",
       "      <td>0.000000</td>\n",
       "      <td>0.000000</td>\n",
       "    </tr>\n",
       "    <tr>\n",
       "      <th>Predicted Top 25-50%</th>\n",
       "      <td>1.666667</td>\n",
       "      <td>9.000000</td>\n",
       "      <td>1.000000</td>\n",
       "      <td>0.000000</td>\n",
       "    </tr>\n",
       "    <tr>\n",
       "      <th>Predicted Last 25-50%</th>\n",
       "      <td>0.666667</td>\n",
       "      <td>3.333333</td>\n",
       "      <td>13.333333</td>\n",
       "      <td>2.333333</td>\n",
       "    </tr>\n",
       "    <tr>\n",
       "      <th>Predicted Last 25%</th>\n",
       "      <td>0.333333</td>\n",
       "      <td>0.333333</td>\n",
       "      <td>2.666667</td>\n",
       "      <td>14.000000</td>\n",
       "    </tr>\n",
       "  </tbody>\n",
       "</table>\n",
       "</div>"
      ],
      "text/plain": [
       "                       Actual Top 25%  Actual Top 25-50%  Actual Last 25-50%  \\\n",
       "Predicted Top 25%           14.333333           4.000000            0.000000   \n",
       "Predicted Top 25-50%         1.666667           9.000000            1.000000   \n",
       "Predicted Last 25-50%        0.666667           3.333333           13.333333   \n",
       "Predicted Last 25%           0.333333           0.333333            2.666667   \n",
       "\n",
       "                       Actual Last 25%  \n",
       "Predicted Top 25%             0.000000  \n",
       "Predicted Top 25-50%          0.000000  \n",
       "Predicted Last 25-50%         2.333333  \n",
       "Predicted Last 25%           14.000000  "
      ]
     },
     "metadata": {},
     "output_type": "display_data"
    },
    {
     "data": {
      "text/html": [
       "<div>\n",
       "<style scoped>\n",
       "    .dataframe tbody tr th:only-of-type {\n",
       "        vertical-align: middle;\n",
       "    }\n",
       "\n",
       "    .dataframe tbody tr th {\n",
       "        vertical-align: top;\n",
       "    }\n",
       "\n",
       "    .dataframe thead th {\n",
       "        text-align: right;\n",
       "    }\n",
       "</style>\n",
       "<table border=\"1\" class=\"dataframe\">\n",
       "  <thead>\n",
       "    <tr style=\"text-align: right;\">\n",
       "      <th></th>\n",
       "      <th>Avg.</th>\n",
       "    </tr>\n",
       "  </thead>\n",
       "  <tbody>\n",
       "    <tr>\n",
       "      <th>Accuracy</th>\n",
       "      <td>0.756219</td>\n",
       "    </tr>\n",
       "  </tbody>\n",
       "</table>\n",
       "</div>"
      ],
      "text/plain": [
       "              Avg.\n",
       "Accuracy  0.756219"
      ]
     },
     "metadata": {},
     "output_type": "display_data"
    },
    {
     "data": {
      "text/html": [
       "<div>\n",
       "<style scoped>\n",
       "    .dataframe tbody tr th:only-of-type {\n",
       "        vertical-align: middle;\n",
       "    }\n",
       "\n",
       "    .dataframe tbody tr th {\n",
       "        vertical-align: top;\n",
       "    }\n",
       "\n",
       "    .dataframe thead th {\n",
       "        text-align: right;\n",
       "    }\n",
       "</style>\n",
       "<table border=\"1\" class=\"dataframe\">\n",
       "  <thead>\n",
       "    <tr style=\"text-align: right;\">\n",
       "      <th></th>\n",
       "      <th>Top 25%</th>\n",
       "      <th>Top 25-50%</th>\n",
       "      <th>Last 25-50%</th>\n",
       "      <th>Last 25%</th>\n",
       "    </tr>\n",
       "  </thead>\n",
       "  <tbody>\n",
       "    <tr>\n",
       "      <th>Precision</th>\n",
       "      <td>0.783838</td>\n",
       "      <td>0.710379</td>\n",
       "      <td>0.669444</td>\n",
       "      <td>0.798319</td>\n",
       "    </tr>\n",
       "  </tbody>\n",
       "</table>\n",
       "</div>"
      ],
      "text/plain": [
       "            Top 25%  Top 25-50%  Last 25-50%  Last 25%\n",
       "Precision  0.783838    0.710379     0.669444  0.798319"
      ]
     },
     "metadata": {},
     "output_type": "display_data"
    },
    {
     "data": {
      "text/html": [
       "<div>\n",
       "<style scoped>\n",
       "    .dataframe tbody tr th:only-of-type {\n",
       "        vertical-align: middle;\n",
       "    }\n",
       "\n",
       "    .dataframe tbody tr th {\n",
       "        vertical-align: top;\n",
       "    }\n",
       "\n",
       "    .dataframe thead th {\n",
       "        text-align: right;\n",
       "    }\n",
       "</style>\n",
       "<table border=\"1\" class=\"dataframe\">\n",
       "  <thead>\n",
       "    <tr style=\"text-align: right;\">\n",
       "      <th></th>\n",
       "      <th>Top 25%</th>\n",
       "      <th>Top 25-50%</th>\n",
       "      <th>Last 25-50%</th>\n",
       "      <th>Last 25%</th>\n",
       "    </tr>\n",
       "  </thead>\n",
       "  <tbody>\n",
       "    <tr>\n",
       "      <th>Recall</th>\n",
       "      <td>0.872222</td>\n",
       "      <td>0.498316</td>\n",
       "      <td>0.786508</td>\n",
       "      <td>0.853236</td>\n",
       "    </tr>\n",
       "  </tbody>\n",
       "</table>\n",
       "</div>"
      ],
      "text/plain": [
       "         Top 25%  Top 25-50%  Last 25-50%  Last 25%\n",
       "Recall  0.872222    0.498316     0.786508  0.853236"
      ]
     },
     "metadata": {},
     "output_type": "display_data"
    }
   ],
   "source": [
    "clf = XGBClassifier(\n",
    "        n_estimators=200,\n",
    "        learning_rate= 0.3,  \n",
    "        max_depth=10, \n",
    "        reg_lambda=1,  \n",
    "        use_label_encoder=False,   \n",
    "        eval_metric= 'auc'\n",
    ")\n",
    "\n",
    "show_metrics(run_model(model=clf, X_=X, y_=y_quantile, num_class=4, need_auc=False))"
   ]
  },
  {
   "cell_type": "code",
   "execution_count": 21,
   "id": "d6d2402b-dbc7-43c9-a285-b4e64c7cc4d4",
   "metadata": {},
   "outputs": [
    {
     "data": {
      "text/html": [
       "<div>\n",
       "<style scoped>\n",
       "    .dataframe tbody tr th:only-of-type {\n",
       "        vertical-align: middle;\n",
       "    }\n",
       "\n",
       "    .dataframe tbody tr th {\n",
       "        vertical-align: top;\n",
       "    }\n",
       "\n",
       "    .dataframe thead th {\n",
       "        text-align: right;\n",
       "    }\n",
       "</style>\n",
       "<table border=\"1\" class=\"dataframe\">\n",
       "  <thead>\n",
       "    <tr style=\"text-align: right;\">\n",
       "      <th></th>\n",
       "      <th>Actual Top 25%</th>\n",
       "      <th>Actual Top 25-50%</th>\n",
       "      <th>Actual Last 25-50%</th>\n",
       "      <th>Actual Last 25%</th>\n",
       "    </tr>\n",
       "  </thead>\n",
       "  <tbody>\n",
       "    <tr>\n",
       "      <th>Predicted Top 25%</th>\n",
       "      <td>14.000000</td>\n",
       "      <td>2.666667</td>\n",
       "      <td>0.000000</td>\n",
       "      <td>0.000000</td>\n",
       "    </tr>\n",
       "    <tr>\n",
       "      <th>Predicted Top 25-50%</th>\n",
       "      <td>2.666667</td>\n",
       "      <td>11.333333</td>\n",
       "      <td>2.000000</td>\n",
       "      <td>0.000000</td>\n",
       "    </tr>\n",
       "    <tr>\n",
       "      <th>Predicted Last 25-50%</th>\n",
       "      <td>0.000000</td>\n",
       "      <td>2.666667</td>\n",
       "      <td>11.333333</td>\n",
       "      <td>1.333333</td>\n",
       "    </tr>\n",
       "    <tr>\n",
       "      <th>Predicted Last 25%</th>\n",
       "      <td>0.333333</td>\n",
       "      <td>0.000000</td>\n",
       "      <td>3.666667</td>\n",
       "      <td>15.000000</td>\n",
       "    </tr>\n",
       "  </tbody>\n",
       "</table>\n",
       "</div>"
      ],
      "text/plain": [
       "                       Actual Top 25%  Actual Top 25-50%  Actual Last 25-50%  \\\n",
       "Predicted Top 25%           14.000000           2.666667            0.000000   \n",
       "Predicted Top 25-50%         2.666667          11.333333            2.000000   \n",
       "Predicted Last 25-50%        0.000000           2.666667           11.333333   \n",
       "Predicted Last 25%           0.333333           0.000000            3.666667   \n",
       "\n",
       "                       Actual Last 25%  \n",
       "Predicted Top 25%             0.000000  \n",
       "Predicted Top 25-50%          0.000000  \n",
       "Predicted Last 25-50%         1.333333  \n",
       "Predicted Last 25%           15.000000  "
      ]
     },
     "metadata": {},
     "output_type": "display_data"
    },
    {
     "data": {
      "text/html": [
       "<div>\n",
       "<style scoped>\n",
       "    .dataframe tbody tr th:only-of-type {\n",
       "        vertical-align: middle;\n",
       "    }\n",
       "\n",
       "    .dataframe tbody tr th {\n",
       "        vertical-align: top;\n",
       "    }\n",
       "\n",
       "    .dataframe thead th {\n",
       "        text-align: right;\n",
       "    }\n",
       "</style>\n",
       "<table border=\"1\" class=\"dataframe\">\n",
       "  <thead>\n",
       "    <tr style=\"text-align: right;\">\n",
       "      <th></th>\n",
       "      <th>Avg.</th>\n",
       "    </tr>\n",
       "  </thead>\n",
       "  <tbody>\n",
       "    <tr>\n",
       "      <th>Accuracy</th>\n",
       "      <td>0.771144</td>\n",
       "    </tr>\n",
       "  </tbody>\n",
       "</table>\n",
       "</div>"
      ],
      "text/plain": [
       "              Avg.\n",
       "Accuracy  0.771144"
      ]
     },
     "metadata": {},
     "output_type": "display_data"
    },
    {
     "data": {
      "text/html": [
       "<div>\n",
       "<style scoped>\n",
       "    .dataframe tbody tr th:only-of-type {\n",
       "        vertical-align: middle;\n",
       "    }\n",
       "\n",
       "    .dataframe tbody tr th {\n",
       "        vertical-align: top;\n",
       "    }\n",
       "\n",
       "    .dataframe thead th {\n",
       "        text-align: right;\n",
       "    }\n",
       "</style>\n",
       "<table border=\"1\" class=\"dataframe\">\n",
       "  <thead>\n",
       "    <tr style=\"text-align: right;\">\n",
       "      <th></th>\n",
       "      <th>Top 25%</th>\n",
       "      <th>Top 25-50%</th>\n",
       "      <th>Last 25-50%</th>\n",
       "      <th>Last 25%</th>\n",
       "    </tr>\n",
       "  </thead>\n",
       "  <tbody>\n",
       "    <tr>\n",
       "      <th>Precision</th>\n",
       "      <td>0.849522</td>\n",
       "      <td>0.740741</td>\n",
       "      <td>0.744219</td>\n",
       "      <td>0.791033</td>\n",
       "    </tr>\n",
       "  </tbody>\n",
       "</table>\n",
       "</div>"
      ],
      "text/plain": [
       "            Top 25%  Top 25-50%  Last 25-50%  Last 25%\n",
       "Precision  0.849522    0.740741     0.744219  0.791033"
      ]
     },
     "metadata": {},
     "output_type": "display_data"
    },
    {
     "data": {
      "text/html": [
       "<div>\n",
       "<style scoped>\n",
       "    .dataframe tbody tr th:only-of-type {\n",
       "        vertical-align: middle;\n",
       "    }\n",
       "\n",
       "    .dataframe tbody tr th {\n",
       "        vertical-align: top;\n",
       "    }\n",
       "\n",
       "    .dataframe thead th {\n",
       "        text-align: right;\n",
       "    }\n",
       "</style>\n",
       "<table border=\"1\" class=\"dataframe\">\n",
       "  <thead>\n",
       "    <tr style=\"text-align: right;\">\n",
       "      <th></th>\n",
       "      <th>Top 25%</th>\n",
       "      <th>Top 25-50%</th>\n",
       "      <th>Last 25-50%</th>\n",
       "      <th>Last 25%</th>\n",
       "    </tr>\n",
       "  </thead>\n",
       "  <tbody>\n",
       "    <tr>\n",
       "      <th>Recall</th>\n",
       "      <td>0.821225</td>\n",
       "      <td>0.67807</td>\n",
       "      <td>0.669556</td>\n",
       "      <td>0.927761</td>\n",
       "    </tr>\n",
       "  </tbody>\n",
       "</table>\n",
       "</div>"
      ],
      "text/plain": [
       "         Top 25%  Top 25-50%  Last 25-50%  Last 25%\n",
       "Recall  0.821225     0.67807     0.669556  0.927761"
      ]
     },
     "metadata": {},
     "output_type": "display_data"
    }
   ],
   "source": [
    "decisionTree = DecisionTreeClassifier(max_depth=8)\n",
    "show_metrics(run_model(model=decisionTree, X_=X, y_=y_quantile, num_class=4))"
   ]
  },
  {
   "cell_type": "markdown",
   "id": "d2a9df76-6cb4-40d8-b259-198ace240608",
   "metadata": {},
   "source": [
    "### W/o Brand"
   ]
  },
  {
   "cell_type": "code",
   "execution_count": 22,
   "id": "f7e9ced7-ced7-4393-af18-033c267af0b8",
   "metadata": {},
   "outputs": [
    {
     "data": {
      "text/html": [
       "<div>\n",
       "<style scoped>\n",
       "    .dataframe tbody tr th:only-of-type {\n",
       "        vertical-align: middle;\n",
       "    }\n",
       "\n",
       "    .dataframe tbody tr th {\n",
       "        vertical-align: top;\n",
       "    }\n",
       "\n",
       "    .dataframe thead th {\n",
       "        text-align: right;\n",
       "    }\n",
       "</style>\n",
       "<table border=\"1\" class=\"dataframe\">\n",
       "  <thead>\n",
       "    <tr style=\"text-align: right;\">\n",
       "      <th></th>\n",
       "      <th>Actual Top 25%</th>\n",
       "      <th>Actual Top 25-50%</th>\n",
       "      <th>Actual Last 25-50%</th>\n",
       "      <th>Actual Last 25%</th>\n",
       "    </tr>\n",
       "  </thead>\n",
       "  <tbody>\n",
       "    <tr>\n",
       "      <th>Predicted Top 25%</th>\n",
       "      <td>13.666667</td>\n",
       "      <td>2.333333</td>\n",
       "      <td>0.000000</td>\n",
       "      <td>0.000000</td>\n",
       "    </tr>\n",
       "    <tr>\n",
       "      <th>Predicted Top 25-50%</th>\n",
       "      <td>3.000000</td>\n",
       "      <td>12.000000</td>\n",
       "      <td>1.333333</td>\n",
       "      <td>0.000000</td>\n",
       "    </tr>\n",
       "    <tr>\n",
       "      <th>Predicted Last 25-50%</th>\n",
       "      <td>0.000000</td>\n",
       "      <td>2.000000</td>\n",
       "      <td>13.666667</td>\n",
       "      <td>2.666667</td>\n",
       "    </tr>\n",
       "    <tr>\n",
       "      <th>Predicted Last 25%</th>\n",
       "      <td>0.333333</td>\n",
       "      <td>0.333333</td>\n",
       "      <td>2.000000</td>\n",
       "      <td>13.666667</td>\n",
       "    </tr>\n",
       "  </tbody>\n",
       "</table>\n",
       "</div>"
      ],
      "text/plain": [
       "                       Actual Top 25%  Actual Top 25-50%  Actual Last 25-50%  \\\n",
       "Predicted Top 25%           13.666667           2.333333            0.000000   \n",
       "Predicted Top 25-50%         3.000000          12.000000            1.333333   \n",
       "Predicted Last 25-50%        0.000000           2.000000           13.666667   \n",
       "Predicted Last 25%           0.333333           0.333333            2.000000   \n",
       "\n",
       "                       Actual Last 25%  \n",
       "Predicted Top 25%             0.000000  \n",
       "Predicted Top 25-50%          0.000000  \n",
       "Predicted Last 25-50%         2.666667  \n",
       "Predicted Last 25%           13.666667  "
      ]
     },
     "metadata": {},
     "output_type": "display_data"
    },
    {
     "data": {
      "text/html": [
       "<div>\n",
       "<style scoped>\n",
       "    .dataframe tbody tr th:only-of-type {\n",
       "        vertical-align: middle;\n",
       "    }\n",
       "\n",
       "    .dataframe tbody tr th {\n",
       "        vertical-align: top;\n",
       "    }\n",
       "\n",
       "    .dataframe thead th {\n",
       "        text-align: right;\n",
       "    }\n",
       "</style>\n",
       "<table border=\"1\" class=\"dataframe\">\n",
       "  <thead>\n",
       "    <tr style=\"text-align: right;\">\n",
       "      <th></th>\n",
       "      <th>Avg.</th>\n",
       "    </tr>\n",
       "  </thead>\n",
       "  <tbody>\n",
       "    <tr>\n",
       "      <th>Accuracy</th>\n",
       "      <td>0.791045</td>\n",
       "    </tr>\n",
       "  </tbody>\n",
       "</table>\n",
       "</div>"
      ],
      "text/plain": [
       "              Avg.\n",
       "Accuracy  0.791045"
      ]
     },
     "metadata": {},
     "output_type": "display_data"
    },
    {
     "data": {
      "text/html": [
       "<div>\n",
       "<style scoped>\n",
       "    .dataframe tbody tr th:only-of-type {\n",
       "        vertical-align: middle;\n",
       "    }\n",
       "\n",
       "    .dataframe tbody tr th {\n",
       "        vertical-align: top;\n",
       "    }\n",
       "\n",
       "    .dataframe thead th {\n",
       "        text-align: right;\n",
       "    }\n",
       "</style>\n",
       "<table border=\"1\" class=\"dataframe\">\n",
       "  <thead>\n",
       "    <tr style=\"text-align: right;\">\n",
       "      <th></th>\n",
       "      <th>Top 25%</th>\n",
       "      <th>Top 25-50%</th>\n",
       "      <th>Last 25-50%</th>\n",
       "      <th>Last 25%</th>\n",
       "    </tr>\n",
       "  </thead>\n",
       "  <tbody>\n",
       "    <tr>\n",
       "      <th>Precision</th>\n",
       "      <td>0.85014</td>\n",
       "      <td>0.734069</td>\n",
       "      <td>0.757239</td>\n",
       "      <td>0.834273</td>\n",
       "    </tr>\n",
       "  </tbody>\n",
       "</table>\n",
       "</div>"
      ],
      "text/plain": [
       "           Top 25%  Top 25-50%  Last 25-50%  Last 25%\n",
       "Precision  0.85014    0.734069     0.757239  0.834273"
      ]
     },
     "metadata": {},
     "output_type": "display_data"
    },
    {
     "data": {
      "text/html": [
       "<div>\n",
       "<style scoped>\n",
       "    .dataframe tbody tr th:only-of-type {\n",
       "        vertical-align: middle;\n",
       "    }\n",
       "\n",
       "    .dataframe tbody tr th {\n",
       "        vertical-align: top;\n",
       "    }\n",
       "\n",
       "    .dataframe thead th {\n",
       "        text-align: right;\n",
       "    }\n",
       "</style>\n",
       "<table border=\"1\" class=\"dataframe\">\n",
       "  <thead>\n",
       "    <tr style=\"text-align: right;\">\n",
       "      <th></th>\n",
       "      <th>Top 25%</th>\n",
       "      <th>Top 25-50%</th>\n",
       "      <th>Last 25-50%</th>\n",
       "      <th>Last 25%</th>\n",
       "    </tr>\n",
       "  </thead>\n",
       "  <tbody>\n",
       "    <tr>\n",
       "      <th>Recall</th>\n",
       "      <td>0.80172</td>\n",
       "      <td>0.725221</td>\n",
       "      <td>0.801866</td>\n",
       "      <td>0.83268</td>\n",
       "    </tr>\n",
       "  </tbody>\n",
       "</table>\n",
       "</div>"
      ],
      "text/plain": [
       "        Top 25%  Top 25-50%  Last 25-50%  Last 25%\n",
       "Recall  0.80172    0.725221     0.801866   0.83268"
      ]
     },
     "metadata": {},
     "output_type": "display_data"
    }
   ],
   "source": [
    "cf = RandomForestClassifier(max_depth=20, n_estimators=100)\n",
    "show_metrics(run_model(model=cf, X_=X_wo_brand, y_=y_quantile, num_class=4))"
   ]
  },
  {
   "cell_type": "markdown",
   "id": "6a776552-ecf1-47d3-bb47-2cc1412553ab",
   "metadata": {},
   "source": [
    "## Regression"
   ]
  },
  {
   "cell_type": "code",
   "execution_count": 23,
   "id": "d29e5661-9362-416d-8856-0a282385550d",
   "metadata": {},
   "outputs": [
    {
     "data": {
      "text/plain": [
       "0.8867223102790548"
      ]
     },
     "execution_count": 23,
     "metadata": {},
     "output_type": "execute_result"
    }
   ],
   "source": [
    "X_train, X_test, y_train, y_test = train_test_split(X, y, test_size=0.3)\n",
    "# pca = PCA(n_components='mle')\n",
    "# pca.fit(X_train)\n",
    "# X_train = pca.transform(X_train)\n",
    "# X_test = pca.transform(X_test)\n",
    "reg = GradientBoostingRegressor(random_state=0)\n",
    "reg.fit(X_train, y_train)\n",
    "y_pred = reg.predict(X_test)\n",
    "reg.score(X_test, y_test)"
   ]
  },
  {
   "cell_type": "code",
   "execution_count": 24,
   "id": "f37e9b78-865e-4939-8dd4-c5653f2770cc",
   "metadata": {},
   "outputs": [],
   "source": [
    "y_pred_train = reg.predict(X_train)"
   ]
  },
  {
   "cell_type": "code",
   "execution_count": 25,
   "id": "81560ce7-c545-402d-8d3a-6acd4aa1c85f",
   "metadata": {},
   "outputs": [
    {
     "data": {
      "text/plain": [
       "Text(0, 0.5, 'Predict')"
      ]
     },
     "execution_count": 25,
     "metadata": {},
     "output_type": "execute_result"
    },
    {
     "data": {
      "image/png": "[encoded data removed]",
      "text/plain": [
       "<Figure size 720x432 with 1 Axes>"
      ]
     },
     "metadata": {},
     "output_type": "display_data"
    }
   ],
   "source": [
    "plt.figure(figsize=(10, 6))\n",
    "\n",
    "plt.scatter(y_test, y_pred, label='test')\n",
    "plt.scatter(y_train, y_pred_train, label='train')\n",
    "\n",
    "plt.legend(['test', 'train'], loc=\"upper left\")\n",
    "plt.title('Regression')\n",
    "plt.xlabel('Real')\n",
    "plt.ylabel('Predict')"
   ]
  },
  {
   "cell_type": "markdown",
   "id": "146500cd-0aed-41d1-8620-a33cc3edf64c",
   "metadata": {},
   "source": [
    "## Cp"
   ]
  },
  {
   "cell_type": "code",
   "execution_count": 26,
   "id": "34b18805-d1b9-484d-aff2-64920cf19d29",
   "metadata": {},
   "outputs": [],
   "source": [
    "def test_cp(time):\n",
    "    X_train, X_test, y_train, y_test = train_test_split(X, y, test_size=0.3)\n",
    "    reg = GradientBoostingRegressor(random_state=0)\n",
    "    reg.fit(X_train, y_train)\n",
    "    y_pred = reg.predict(X_test)\n",
    "    reg.score(X_test, y_test)\n",
    "    \n",
    "    test_index = list((y_pred > y_test).index)\n",
    "    pos = []\n",
    "    neg = []\n",
    "    for i in test_index:\n",
    "        if (y_pred > y_test)[i]:\n",
    "            pos.append(i)\n",
    "        elif (y_pred < y_test)[i]:\n",
    "            neg.append(i)\n",
    "    \n",
    "    dict_all = dict(df.loc[test_index]['Brand'].value_counts())\n",
    "    dict_pos = dict(df.loc[pos]['Brand'].value_counts())\n",
    "    dict_neg = dict(df.loc[neg]['Brand'].value_counts())\n",
    "    for b in df.Brand.unique():\n",
    "        if b not in dict_all:\n",
    "            dict_all[b] = 0\n",
    "        if b not in dict_pos:\n",
    "            dict_pos[b] = 0\n",
    "        if b not in dict_neg:\n",
    "            dict_neg[b] = 0\n",
    "    \n",
    "    for _ in range(time-1):\n",
    "        X_train, X_test, y_train, y_test = train_test_split(X, y, test_size=0.3)\n",
    "        reg = GradientBoostingRegressor(random_state=0)\n",
    "        reg.fit(X_train, y_train)\n",
    "        y_pred = reg.predict(X_test)\n",
    "        reg.score(X_test, y_test)\n",
    "\n",
    "        test_index = list((y_pred > y_test).index)\n",
    "        pos = []\n",
    "        neg = []\n",
    "        for i in test_index:\n",
    "            if (y_pred > y_test)[i]:\n",
    "                pos.append(i)\n",
    "            elif (y_pred < y_test)[i]:\n",
    "                neg.append(i)\n",
    "        tmp_dict = dict(df.loc[test_index]['Brand'].value_counts())\n",
    "        tmp_pos = dict(df.loc[pos]['Brand'].value_counts())\n",
    "        tmp_neg = dict(df.loc[neg]['Brand'].value_counts())\n",
    "        \n",
    "        for k in dict_all.keys():\n",
    "            if k in tmp_dict:\n",
    "                dict_all[k] += tmp_dict[k]\n",
    "            if k in tmp_pos:\n",
    "                dict_pos[k] += tmp_pos[k]    \n",
    "            if k in tmp_neg:\n",
    "                dict_neg[k] += tmp_neg[k]    \n",
    "    return dict_all, dict_pos, dict_neg"
   ]
  },
  {
   "cell_type": "code",
   "execution_count": 27,
   "id": "f6c4dde9-f1c3-4041-82cb-204c40597407",
   "metadata": {},
   "outputs": [],
   "source": [
    "dict_all, dict_pos, dict_neg = test_cp(100)"
   ]
  },
  {
   "cell_type": "code",
   "execution_count": 28,
   "id": "cb1d19e3-9077-474f-a103-dfe055e913a3",
   "metadata": {},
   "outputs": [
    {
     "name": "stdout",
     "output_type": "stream",
     "text": [
      "sugar\n",
      "\tpos: 0.7917570498915402\n",
      "\tneg: 0.20824295010845986\n",
      "vivo\n",
      "\tpos: 0.530812324929972\n",
      "\tneg: 0.469187675070028\n",
      "apple\n",
      "\tpos: 0.49206349206349204\n",
      "\tneg: 0.5079365079365079\n",
      "realme\n",
      "\tpos: 0.7276190476190476\n",
      "\tneg: 0.2723809523809524\n",
      "oppo\n",
      "\tpos: 0.5607287449392713\n",
      "\tneg: 0.4392712550607287\n",
      "lg\n",
      "\tpos: 0.41106719367588934\n",
      "\tneg: 0.5889328063241107\n",
      "samsung\n",
      "\tpos: 0.4800693240901213\n",
      "\tneg: 0.5199306759098787\n",
      "motorola\n",
      "\tpos: 0.5432098765432098\n",
      "\tneg: 0.4567901234567901\n",
      "sony\n",
      "\tpos: 0.3178294573643411\n",
      "\tneg: 0.6821705426356589\n",
      "xiaomi\n",
      "\tpos: 0.6146044624746451\n",
      "\tneg: 0.385395537525355\n",
      "panasonic\n",
      "\tpos: 0.34210526315789475\n",
      "\tneg: 0.6578947368421053\n",
      "koobee\n",
      "\tpos: 0.8470588235294118\n",
      "\tneg: 0.15294117647058825\n",
      "poco\n",
      "\tpos: 0.8841463414634146\n",
      "\tneg: 0.11585365853658537\n",
      "sharp\n",
      "\tpos: 0.49473684210526314\n",
      "\tneg: 0.5052631578947369\n",
      "cat\n",
      "\tpos: 0.4222222222222222\n",
      "\tneg: 0.5777777777777777\n",
      "asus\n",
      "\tpos: 0.5572289156626506\n",
      "\tneg: 0.4427710843373494\n",
      "benten\n",
      "\tpos: 0.9615384615384616\n",
      "\tneg: 0.038461538461538464\n",
      "blackshark\n",
      "\tpos: 0.5189873417721519\n",
      "\tneg: 0.4810126582278481\n",
      "google\n",
      "\tpos: 0.3269230769230769\n",
      "\tneg: 0.6730769230769231\n",
      "htc\n",
      "\tpos: 0.34459459459459457\n",
      "\tneg: 0.6554054054054054\n",
      "huawei\n",
      "\tpos: 0.0\n",
      "\tneg: 1.0\n",
      "inhon\n",
      "\tpos: 0.967741935483871\n",
      "\tneg: 0.03225806451612903\n",
      "lenovo\n",
      "\tpos: 1.0\n",
      "\tneg: 0.0\n",
      "mto\n",
      "\tpos: 0.6153846153846154\n",
      "\tneg: 0.38461538461538464\n",
      "nokia\n",
      "\tpos: 0.24242424242424243\n",
      "\tneg: 0.7575757575757576\n",
      "oppp\n",
      "\tpos: 0.0\n",
      "\tneg: 1.0\n"
     ]
    }
   ],
   "source": [
    "for k in dict_all.keys():\n",
    "    print(k)\n",
    "    if dict_all[k]!=0:\n",
    "        print('\\tpos:', dict_pos[k] /dict_all[k])\n",
    "        print('\\tneg:', dict_neg[k] /dict_all[k])    "
   ]
  },
  {
   "cell_type": "code",
   "execution_count": null,
   "id": "760c7cb5-d965-449e-b1a5-b3a67e6597a6",
   "metadata": {},
   "outputs": [],
   "source": []
  }
 ],
 "metadata": {
  "kernelspec": {
   "display_name": "Python 3 (ipykernel)",
   "language": "python",
   "name": "python3"
  },
  "language_info": {
   "codemirror_mode": {
    "name": "ipython",
    "version": 3
   },
   "file_extension": ".py",
   "mimetype": "text/x-python",
   "name": "python",
   "nbconvert_exporter": "python",
   "pygments_lexer": "ipython3",
   "version": "3.9.7"
  }
 },
 "nbformat": 4,
 "nbformat_minor": 5
}
