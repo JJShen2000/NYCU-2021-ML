{
 "cells": [
  {
   "cell_type": "code",
   "execution_count": 1,
   "id": "d1273f50-6106-4f1c-ae0d-d731e7081c3a",
   "metadata": {},
   "outputs": [],
   "source": [
    "import pandas as pd\n",
    "import glob\n",
    "import numpy as np\n",
    "import datetime\n",
    "import re\n",
    "import os"
   ]
  },
  {
   "cell_type": "code",
   "execution_count": 2,
   "id": "f9b6d736-f5c1-4559-9889-d1df5e84708d",
   "metadata": {},
   "outputs": [
    {
     "data": {
      "text/html": [
       "<div>\n",
       "<style scoped>\n",
       "    .dataframe tbody tr th:only-of-type {\n",
       "        vertical-align: middle;\n",
       "    }\n",
       "\n",
       "    .dataframe tbody tr th {\n",
       "        vertical-align: top;\n",
       "    }\n",
       "\n",
       "    .dataframe thead th {\n",
       "        text-align: right;\n",
       "    }\n",
       "</style>\n",
       "<table border=\"1\" class=\"dataframe\">\n",
       "  <thead>\n",
       "    <tr style=\"text-align: right;\">\n",
       "      <th></th>\n",
       "      <th>Price</th>\n",
       "      <th>作業系統與版本</th>\n",
       "      <th>處理器品牌</th>\n",
       "      <th>處理器型號</th>\n",
       "      <th>處理器核心數</th>\n",
       "      <th>ROM儲存空間</th>\n",
       "      <th>主螢幕尺寸</th>\n",
       "      <th>主螢幕解析度</th>\n",
       "      <th>主螢幕像素密度</th>\n",
       "      <th>主螢幕最大亮度</th>\n",
       "      <th>...</th>\n",
       "      <th>第二前相機光圈F</th>\n",
       "      <th>實用工具</th>\n",
       "      <th>第三前相機光圈F</th>\n",
       "      <th>第三前相機感光元件</th>\n",
       "      <th>時間顯示</th>\n",
       "      <th>計步器</th>\n",
       "      <th>第四主相機等效焦距</th>\n",
       "      <th>內建觸控筆</th>\n",
       "      <th>吊飾孔</th>\n",
       "      <th>雙卡雙通</th>\n",
       "    </tr>\n",
       "  </thead>\n",
       "  <tbody>\n",
       "    <tr>\n",
       "      <th>0</th>\n",
       "      <td>$20,900</td>\n",
       "      <td>iOS 13</td>\n",
       "      <td>Apple</td>\n",
       "      <td>A13 Bionic</td>\n",
       "      <td>6.0</td>\n",
       "      <td>256 GB</td>\n",
       "      <td>6.1 inch</td>\n",
       "      <td>1792x828 pixels</td>\n",
       "      <td>324 ppi</td>\n",
       "      <td>650 nits</td>\n",
       "      <td>...</td>\n",
       "      <td>NaN</td>\n",
       "      <td>NaN</td>\n",
       "      <td>NaN</td>\n",
       "      <td>NaN</td>\n",
       "      <td>NaN</td>\n",
       "      <td>NaN</td>\n",
       "      <td>NaN</td>\n",
       "      <td>NaN</td>\n",
       "      <td>NaN</td>\n",
       "      <td>NaN</td>\n",
       "    </tr>\n",
       "    <tr>\n",
       "      <th>0</th>\n",
       "      <td>$23,300</td>\n",
       "      <td>iOS 13</td>\n",
       "      <td>Apple</td>\n",
       "      <td>A13 Bionic</td>\n",
       "      <td>6.0</td>\n",
       "      <td>512 GB</td>\n",
       "      <td>5.8 inch</td>\n",
       "      <td>2436x1125 pixels</td>\n",
       "      <td>463 ppi</td>\n",
       "      <td>1200 nits</td>\n",
       "      <td>...</td>\n",
       "      <td>NaN</td>\n",
       "      <td>NaN</td>\n",
       "      <td>NaN</td>\n",
       "      <td>NaN</td>\n",
       "      <td>NaN</td>\n",
       "      <td>NaN</td>\n",
       "      <td>NaN</td>\n",
       "      <td>NaN</td>\n",
       "      <td>NaN</td>\n",
       "      <td>NaN</td>\n",
       "    </tr>\n",
       "    <tr>\n",
       "      <th>0</th>\n",
       "      <td>$26,000</td>\n",
       "      <td>iOS 14</td>\n",
       "      <td>Apple</td>\n",
       "      <td>A14 Bionic</td>\n",
       "      <td>NaN</td>\n",
       "      <td>256 GB</td>\n",
       "      <td>6.1 inch</td>\n",
       "      <td>2532x1170 pixels</td>\n",
       "      <td>457 ppi</td>\n",
       "      <td>1200 nits</td>\n",
       "      <td>...</td>\n",
       "      <td>NaN</td>\n",
       "      <td>NaN</td>\n",
       "      <td>NaN</td>\n",
       "      <td>NaN</td>\n",
       "      <td>NaN</td>\n",
       "      <td>NaN</td>\n",
       "      <td>NaN</td>\n",
       "      <td>NaN</td>\n",
       "      <td>NaN</td>\n",
       "      <td>NaN</td>\n",
       "    </tr>\n",
       "    <tr>\n",
       "      <th>0</th>\n",
       "      <td>$22,300</td>\n",
       "      <td>iOS 14</td>\n",
       "      <td>Apple</td>\n",
       "      <td>A14 Bionic</td>\n",
       "      <td>NaN</td>\n",
       "      <td>256 GB</td>\n",
       "      <td>5.4 inch</td>\n",
       "      <td>2340x1080 pixels</td>\n",
       "      <td>477 ppi</td>\n",
       "      <td>1200 nits</td>\n",
       "      <td>...</td>\n",
       "      <td>NaN</td>\n",
       "      <td>NaN</td>\n",
       "      <td>NaN</td>\n",
       "      <td>NaN</td>\n",
       "      <td>NaN</td>\n",
       "      <td>NaN</td>\n",
       "      <td>NaN</td>\n",
       "      <td>NaN</td>\n",
       "      <td>NaN</td>\n",
       "      <td>NaN</td>\n",
       "    </tr>\n",
       "    <tr>\n",
       "      <th>0</th>\n",
       "      <td>$31,590</td>\n",
       "      <td>iOS 14</td>\n",
       "      <td>Apple</td>\n",
       "      <td>A14 Bionic</td>\n",
       "      <td>NaN</td>\n",
       "      <td>512 GB</td>\n",
       "      <td>6.1 inch</td>\n",
       "      <td>2532x1170 pixels</td>\n",
       "      <td>457 ppi</td>\n",
       "      <td>1200 nits</td>\n",
       "      <td>...</td>\n",
       "      <td>NaN</td>\n",
       "      <td>NaN</td>\n",
       "      <td>NaN</td>\n",
       "      <td>NaN</td>\n",
       "      <td>NaN</td>\n",
       "      <td>NaN</td>\n",
       "      <td>NaN</td>\n",
       "      <td>NaN</td>\n",
       "      <td>NaN</td>\n",
       "      <td>NaN</td>\n",
       "    </tr>\n",
       "    <tr>\n",
       "      <th>...</th>\n",
       "      <td>...</td>\n",
       "      <td>...</td>\n",
       "      <td>...</td>\n",
       "      <td>...</td>\n",
       "      <td>...</td>\n",
       "      <td>...</td>\n",
       "      <td>...</td>\n",
       "      <td>...</td>\n",
       "      <td>...</td>\n",
       "      <td>...</td>\n",
       "      <td>...</td>\n",
       "      <td>...</td>\n",
       "      <td>...</td>\n",
       "      <td>...</td>\n",
       "      <td>...</td>\n",
       "      <td>...</td>\n",
       "      <td>...</td>\n",
       "      <td>...</td>\n",
       "      <td>...</td>\n",
       "      <td>...</td>\n",
       "      <td>...</td>\n",
       "    </tr>\n",
       "    <tr>\n",
       "      <th>0</th>\n",
       "      <td>$5,690</td>\n",
       "      <td>Android 11</td>\n",
       "      <td>MediaTek</td>\n",
       "      <td>Dimensity 700</td>\n",
       "      <td>8.0</td>\n",
       "      <td>128 GB</td>\n",
       "      <td>6.5 inch</td>\n",
       "      <td>2400x1080 pixels</td>\n",
       "      <td>405 ppi</td>\n",
       "      <td>NaN</td>\n",
       "      <td>...</td>\n",
       "      <td>NaN</td>\n",
       "      <td>NaN</td>\n",
       "      <td>NaN</td>\n",
       "      <td>NaN</td>\n",
       "      <td>NaN</td>\n",
       "      <td>NaN</td>\n",
       "      <td>NaN</td>\n",
       "      <td>NaN</td>\n",
       "      <td>NaN</td>\n",
       "      <td>NaN</td>\n",
       "    </tr>\n",
       "    <tr>\n",
       "      <th>0</th>\n",
       "      <td>$6,850</td>\n",
       "      <td>Android 11</td>\n",
       "      <td>Qualcomm</td>\n",
       "      <td>Snapdragon 732G</td>\n",
       "      <td>8.0</td>\n",
       "      <td>128 GB</td>\n",
       "      <td>6.67 inch</td>\n",
       "      <td>2400x1080 pixels</td>\n",
       "      <td>395 ppi</td>\n",
       "      <td>1200 nits</td>\n",
       "      <td>...</td>\n",
       "      <td>NaN</td>\n",
       "      <td>NaN</td>\n",
       "      <td>NaN</td>\n",
       "      <td>NaN</td>\n",
       "      <td>NaN</td>\n",
       "      <td>Yes</td>\n",
       "      <td>NaN</td>\n",
       "      <td>NaN</td>\n",
       "      <td>NaN</td>\n",
       "      <td>NaN</td>\n",
       "    </tr>\n",
       "    <tr>\n",
       "      <th>0</th>\n",
       "      <td>$4,600</td>\n",
       "      <td>Android 10</td>\n",
       "      <td>MediaTek</td>\n",
       "      <td>Helio G85</td>\n",
       "      <td>8.0</td>\n",
       "      <td>128 GB</td>\n",
       "      <td>6.53 inch</td>\n",
       "      <td>2340x1080 pixels</td>\n",
       "      <td>395 ppi</td>\n",
       "      <td>NaN</td>\n",
       "      <td>...</td>\n",
       "      <td>NaN</td>\n",
       "      <td>NaN</td>\n",
       "      <td>NaN</td>\n",
       "      <td>NaN</td>\n",
       "      <td>NaN</td>\n",
       "      <td>NaN</td>\n",
       "      <td>NaN</td>\n",
       "      <td>NaN</td>\n",
       "      <td>NaN</td>\n",
       "      <td>NaN</td>\n",
       "    </tr>\n",
       "    <tr>\n",
       "      <th>0</th>\n",
       "      <td>$5,190</td>\n",
       "      <td>Android 10</td>\n",
       "      <td>MediaTek</td>\n",
       "      <td>Dimensity 800U</td>\n",
       "      <td>8.0</td>\n",
       "      <td>128 GB</td>\n",
       "      <td>6.53 inch</td>\n",
       "      <td>2340x1080 pixels</td>\n",
       "      <td>395 ppi</td>\n",
       "      <td>450 nits</td>\n",
       "      <td>...</td>\n",
       "      <td>NaN</td>\n",
       "      <td>NaN</td>\n",
       "      <td>NaN</td>\n",
       "      <td>NaN</td>\n",
       "      <td>NaN</td>\n",
       "      <td>NaN</td>\n",
       "      <td>NaN</td>\n",
       "      <td>NaN</td>\n",
       "      <td>NaN</td>\n",
       "      <td>NaN</td>\n",
       "    </tr>\n",
       "    <tr>\n",
       "      <th>0</th>\n",
       "      <td>$5,690</td>\n",
       "      <td>Android 10</td>\n",
       "      <td>Qualcomm</td>\n",
       "      <td>Snapdragon 720G</td>\n",
       "      <td>8.0</td>\n",
       "      <td>128 GB</td>\n",
       "      <td>6.67 inch</td>\n",
       "      <td>2400x1080 pixels</td>\n",
       "      <td>395 ppi</td>\n",
       "      <td>NaN</td>\n",
       "      <td>...</td>\n",
       "      <td>NaN</td>\n",
       "      <td>NaN</td>\n",
       "      <td>NaN</td>\n",
       "      <td>NaN</td>\n",
       "      <td>NaN</td>\n",
       "      <td>NaN</td>\n",
       "      <td>NaN</td>\n",
       "      <td>NaN</td>\n",
       "      <td>NaN</td>\n",
       "      <td>NaN</td>\n",
       "    </tr>\n",
       "  </tbody>\n",
       "</table>\n",
       "<p>208 rows × 123 columns</p>\n",
       "</div>"
      ],
      "text/plain": [
       "      Price     作業系統與版本     處理器品牌            處理器型號  處理器核心數 ROM儲存空間      主螢幕尺寸  \\\n",
       "0   $20,900      iOS 13     Apple       A13 Bionic     6.0  256 GB   6.1 inch   \n",
       "0   $23,300      iOS 13     Apple       A13 Bionic     6.0  512 GB   5.8 inch   \n",
       "0   $26,000      iOS 14     Apple       A14 Bionic     NaN  256 GB   6.1 inch   \n",
       "0   $22,300      iOS 14     Apple       A14 Bionic     NaN  256 GB   5.4 inch   \n",
       "0   $31,590      iOS 14     Apple       A14 Bionic     NaN  512 GB   6.1 inch   \n",
       "..      ...         ...       ...              ...     ...     ...        ...   \n",
       "0    $5,690  Android 11  MediaTek    Dimensity 700     8.0  128 GB   6.5 inch   \n",
       "0    $6,850  Android 11  Qualcomm  Snapdragon 732G     8.0  128 GB  6.67 inch   \n",
       "0    $4,600  Android 10  MediaTek        Helio G85     8.0  128 GB  6.53 inch   \n",
       "0    $5,190  Android 10  MediaTek   Dimensity 800U     8.0  128 GB  6.53 inch   \n",
       "0    $5,690  Android 10  Qualcomm  Snapdragon 720G     8.0  128 GB  6.67 inch   \n",
       "\n",
       "              主螢幕解析度  主螢幕像素密度    主螢幕最大亮度  ... 第二前相機光圈F 實用工具 第三前相機光圈F  \\\n",
       "0    1792x828 pixels  324 ppi   650 nits  ...      NaN  NaN      NaN   \n",
       "0   2436x1125 pixels  463 ppi  1200 nits  ...      NaN  NaN      NaN   \n",
       "0   2532x1170 pixels  457 ppi  1200 nits  ...      NaN  NaN      NaN   \n",
       "0   2340x1080 pixels  477 ppi  1200 nits  ...      NaN  NaN      NaN   \n",
       "0   2532x1170 pixels  457 ppi  1200 nits  ...      NaN  NaN      NaN   \n",
       "..               ...      ...        ...  ...      ...  ...      ...   \n",
       "0   2400x1080 pixels  405 ppi        NaN  ...      NaN  NaN      NaN   \n",
       "0   2400x1080 pixels  395 ppi  1200 nits  ...      NaN  NaN      NaN   \n",
       "0   2340x1080 pixels  395 ppi        NaN  ...      NaN  NaN      NaN   \n",
       "0   2340x1080 pixels  395 ppi   450 nits  ...      NaN  NaN      NaN   \n",
       "0   2400x1080 pixels  395 ppi        NaN  ...      NaN  NaN      NaN   \n",
       "\n",
       "   第三前相機感光元件 時間顯示  計步器 第四主相機等效焦距 內建觸控筆  吊飾孔 雙卡雙通  \n",
       "0        NaN  NaN  NaN       NaN   NaN  NaN  NaN  \n",
       "0        NaN  NaN  NaN       NaN   NaN  NaN  NaN  \n",
       "0        NaN  NaN  NaN       NaN   NaN  NaN  NaN  \n",
       "0        NaN  NaN  NaN       NaN   NaN  NaN  NaN  \n",
       "0        NaN  NaN  NaN       NaN   NaN  NaN  NaN  \n",
       "..       ...  ...  ...       ...   ...  ...  ...  \n",
       "0        NaN  NaN  NaN       NaN   NaN  NaN  NaN  \n",
       "0        NaN  NaN  Yes       NaN   NaN  NaN  NaN  \n",
       "0        NaN  NaN  NaN       NaN   NaN  NaN  NaN  \n",
       "0        NaN  NaN  NaN       NaN   NaN  NaN  NaN  \n",
       "0        NaN  NaN  NaN       NaN   NaN  NaN  NaN  \n",
       "\n",
       "[208 rows x 123 columns]"
      ]
     },
     "execution_count": 2,
     "metadata": {},
     "output_type": "execute_result"
    }
   ],
   "source": [
    "file_list = glob.glob('raw_data/*')\n",
    "df = pd.read_csv(file_list[0])\n",
    "df['Brand'] = os.path.splitext(os.path.basename(file_list[0]))[0].split('_')[0]\n",
    "df['Name'] = os.path.splitext(os.path.basename(file_list[0]))[0]\n",
    "\n",
    "for f in file_list[1:]:\n",
    "    temp_df = pd.read_csv(f)\n",
    "    temp_df['Brand'] = os.path.splitext(os.path.basename(f))[0].split('_')[0]\n",
    "    temp_df['Name'] = os.path.splitext(os.path.basename(f))[0]\n",
    "    \n",
    "    df = pd.concat([df, temp_df])\n",
    "df"
   ]
  },
  {
   "cell_type": "code",
   "execution_count": 3,
   "id": "0a189f3d-e62c-4967-9e05-dd8e3f323525",
   "metadata": {},
   "outputs": [
    {
     "data": {
      "text/plain": [
       "(208, 123)"
      ]
     },
     "execution_count": 3,
     "metadata": {},
     "output_type": "execute_result"
    }
   ],
   "source": [
    "df.shape"
   ]
  },
  {
   "cell_type": "markdown",
   "id": "c51057b6-2ae0-4906-b1f7-009017a86f6d",
   "metadata": {},
   "source": [
    "## SOC"
   ]
  },
  {
   "cell_type": "code",
   "execution_count": 4,
   "id": "16103b9e-f15d-48f2-aaa3-abbd664b0930",
   "metadata": {},
   "outputs": [],
   "source": [
    "df = df.dropna(subset=[\"處理器型號\"])"
   ]
  },
  {
   "cell_type": "code",
   "execution_count": 5,
   "id": "2c53d5c4-668a-4aa9-9493-8c1e06bea71c",
   "metadata": {},
   "outputs": [],
   "source": [
    "soc_list = df['處理器型號'].unique()"
   ]
  },
  {
   "cell_type": "code",
   "execution_count": 6,
   "id": "2f3dd409-f55e-436a-9927-098146b354b0",
   "metadata": {},
   "outputs": [],
   "source": [
    "soc_score = pd.read_csv('soc_score.csv').set_index('Unnamed: 0').T.to_dict('list')"
   ]
  },
  {
   "cell_type": "code",
   "execution_count": 7,
   "id": "b8bc078b-8c9e-479a-b691-d307c77f9b9e",
   "metadata": {},
   "outputs": [],
   "source": [
    "for s in soc_list:\n",
    "    s_split = str(s).split()\n",
    "    if s_split[-1] == 'Bionic':\n",
    "        s = 'Apple '+s.split()[0]\n",
    "    elif 'MediaTek'  in s_split and 'Dimensity' in s_split:\n",
    "        s = s.split()[-2] + ' '+s.split()[-1]\n",
    "    elif s == 'MT6771' or s == 'MT6762V':\n",
    "        s = 'Helio P60'\n",
    "    elif s == 'MT6762D':\n",
    "        s = 'Helio P22'\n",
    "    if s not in soc_score:\n",
    "        if s[:1] == 'T':\n",
    "            s = 'Unisoc '+s\n",
    "            if s not in soc_score:\n",
    "                print(s)   \n",
    "        else:\n",
    "            print(s)"
   ]
  },
  {
   "cell_type": "code",
   "execution_count": 8,
   "id": "10dd2535-379f-4338-bb28-e865ed76c534",
   "metadata": {},
   "outputs": [],
   "source": [
    "def soc2score(x):\n",
    "    s = x['處理器型號']\n",
    "    s_split = str(s).split()\n",
    "    if s_split[-1] == 'Bionic':\n",
    "        s = 'Apple '+s.split()[0]\n",
    "    elif 'MediaTek'  in s_split and 'Dimensity' in s_split:\n",
    "        s = s.split()[-2] + ' '+s.split()[-1]\n",
    "    elif s == 'MT6771' or s == 'MT6762V':\n",
    "        s = 'Helio P60'\n",
    "    elif s == 'MT6762D':\n",
    "        s = 'Helio P22'\n",
    "    if s not in soc_score:\n",
    "        if s[:1] == 'T':\n",
    "            s = 'Unisoc '+s\n",
    "    x['soc_s'] = soc_score[s][0]\n",
    "    x['soc_m'] = soc_score[s][1]\n",
    "    \n",
    "    return x\n",
    "    \n",
    "df = df.apply(soc2score, axis=1)"
   ]
  },
  {
   "cell_type": "code",
   "execution_count": 9,
   "id": "9d6d8567-9f55-4938-aac7-33620dca5508",
   "metadata": {},
   "outputs": [
    {
     "data": {
      "text/plain": [
       "Index(['Price', '作業系統與版本', '處理器品牌', '處理器型號', '處理器核心數', 'ROM儲存空間', '主螢幕尺寸',\n",
       "       '主螢幕解析度', '主螢幕像素密度', '主螢幕最大亮度',\n",
       "       ...\n",
       "       '第三前相機光圈F', '第三前相機感光元件', '時間顯示', '計步器', '第四主相機等效焦距', '內建觸控筆', '吊飾孔',\n",
       "       '雙卡雙通', 'soc_s', 'soc_m'],\n",
       "      dtype='object', length=125)"
      ]
     },
     "execution_count": 9,
     "metadata": {},
     "output_type": "execute_result"
    }
   ],
   "source": [
    "df.columns"
   ]
  },
  {
   "cell_type": "code",
   "execution_count": 10,
   "id": "8d250e55-5779-4e49-99f6-2e82a8d19e78",
   "metadata": {},
   "outputs": [],
   "source": [
    "df = df.drop(['處理器型號', '處理器品牌', '處理器核心數'], axis=1)"
   ]
  },
  {
   "cell_type": "code",
   "execution_count": 11,
   "id": "a8d58ee2-ad63-47e1-a8b0-dc62e9da4943",
   "metadata": {},
   "outputs": [],
   "source": [
    "df = df.drop(['處理器時脈','圖形處理器'], axis=1)"
   ]
  },
  {
   "cell_type": "code",
   "execution_count": 12,
   "id": "91539324-a140-49e6-b264-23dad2796bb3",
   "metadata": {},
   "outputs": [
    {
     "data": {
      "text/plain": [
       "Index(['Price', '作業系統與版本', 'ROM儲存空間', '主螢幕尺寸', '主螢幕解析度', '主螢幕像素密度', '主螢幕最大亮度',\n",
       "       '主螢幕材質', '主螢幕觸控', '主螢幕更新率',\n",
       "       ...\n",
       "       '第三前相機光圈F', '第三前相機感光元件', '時間顯示', '計步器', '第四主相機等效焦距', '內建觸控筆', '吊飾孔',\n",
       "       '雙卡雙通', 'soc_s', 'soc_m'],\n",
       "      dtype='object', length=120)"
      ]
     },
     "execution_count": 12,
     "metadata": {},
     "output_type": "execute_result"
    }
   ],
   "source": [
    "df.columns"
   ]
  },
  {
   "cell_type": "markdown",
   "id": "df2f6cdb-3615-403b-b947-ae84914fd69c",
   "metadata": {},
   "source": [
    "## Price"
   ]
  },
  {
   "cell_type": "code",
   "execution_count": 13,
   "id": "b31ed8d5-80f2-4405-9636-a9b35e09c78e",
   "metadata": {},
   "outputs": [],
   "source": [
    "df['Price'] = df['Price'].apply(lambda x: int(x.replace('$', '').replace(',','')))"
   ]
  },
  {
   "cell_type": "markdown",
   "id": "9dc80949-7597-46dd-97c4-54cf3720c2c3",
   "metadata": {},
   "source": [
    "## ROM"
   ]
  },
  {
   "cell_type": "code",
   "execution_count": 14,
   "id": "dfc07d5b-efcb-439a-8650-7815e19c41aa",
   "metadata": {},
   "outputs": [],
   "source": [
    "df = df.drop(['作業系統與版本'], axis=1)"
   ]
  },
  {
   "cell_type": "code",
   "execution_count": 15,
   "id": "ca1ede9d-fba2-4f9f-b388-f04a30b13e89",
   "metadata": {},
   "outputs": [],
   "source": [
    "df = df.dropna(subset=[\"ROM儲存空間\"])"
   ]
  },
  {
   "cell_type": "code",
   "execution_count": 16,
   "id": "b3fe8540-c9c5-4194-ae8b-3e2ed0f2c547",
   "metadata": {},
   "outputs": [],
   "source": [
    "def handle_rom(x):\n",
    "    if 'TB' in x:\n",
    "        return 1024*(int(x.replace('TB', '')))\n",
    "    else:\n",
    "        return int(x.replace('GB', ''))\n",
    "    \n",
    "df['ROM儲存空間'] = df['ROM儲存空間'].apply(handle_rom)"
   ]
  },
  {
   "cell_type": "markdown",
   "id": "8c7d7ba6-a833-4f1e-80f0-509eb7b80759",
   "metadata": {},
   "source": [
    "## Screen"
   ]
  },
  {
   "cell_type": "code",
   "execution_count": 17,
   "id": "60dc9922-4c60-4d0a-bb75-b771923c816a",
   "metadata": {},
   "outputs": [],
   "source": [
    "# df[df['主螢幕尺寸'].str.contains('inch') != True]\n",
    "df['主螢幕尺寸'] = df['主螢幕尺寸'].apply(lambda x: float(str(x).replace('inch', '')))"
   ]
  },
  {
   "cell_type": "code",
   "execution_count": 18,
   "id": "e54f264b-539f-46cd-b164-25d464e59fd0",
   "metadata": {},
   "outputs": [],
   "source": [
    "df = df.dropna(subset=[\"主螢幕解析度\"])"
   ]
  },
  {
   "cell_type": "code",
   "execution_count": 19,
   "id": "100874d0-ef8d-49ba-956a-aebab3e7f343",
   "metadata": {},
   "outputs": [],
   "source": [
    "pattern_resolution = '[\\d]+x[\\d]+'\n",
    "\n",
    "def handle_pix(x):\n",
    "    reso = re.search(pattern_resolution, x['主螢幕解析度']).group().split('x')\n",
    "    x['resolution_x'] = reso[0]\n",
    "    x['resolution_y'] = reso[1]\n",
    "    return x\n",
    "    \n",
    "df = df.apply(handle_pix, axis=1)"
   ]
  },
  {
   "cell_type": "code",
   "execution_count": 20,
   "id": "66e54ae2-3f96-40b8-a99c-5e6d96f77846",
   "metadata": {},
   "outputs": [],
   "source": [
    "df = df.drop(['主螢幕解析度'], axis=1)"
   ]
  },
  {
   "cell_type": "code",
   "execution_count": 21,
   "id": "f3375b72-22cc-474d-b6af-dae9a672c1ef",
   "metadata": {},
   "outputs": [],
   "source": [
    "df['主螢幕像素密度'] = df['主螢幕像素密度'].apply(lambda x: int(x.replace('ppi', '')))"
   ]
  },
  {
   "cell_type": "code",
   "execution_count": 22,
   "id": "c39e67eb-5caa-4ea3-a6e6-c426d01ea7dd",
   "metadata": {},
   "outputs": [],
   "source": [
    "df = df.drop(['主螢幕像素密度'], axis=1)"
   ]
  },
  {
   "cell_type": "code",
   "execution_count": 23,
   "id": "9c703f20-b1f5-40b4-86ed-bf8888f86be3",
   "metadata": {},
   "outputs": [],
   "source": [
    "df = df.drop(['主螢幕最大亮度', '主螢幕觸控'], axis=1)"
   ]
  },
  {
   "cell_type": "code",
   "execution_count": 24,
   "id": "4ed3c1e0-be90-417c-8648-379bd0352b69",
   "metadata": {},
   "outputs": [],
   "source": [
    "df['OLED'] = df['主螢幕材質'].str.contains('OLED') == True"
   ]
  },
  {
   "cell_type": "code",
   "execution_count": 25,
   "id": "6620ad70-ea73-42af-8c94-870f6c9adb05",
   "metadata": {},
   "outputs": [],
   "source": [
    "df = df.drop(['主螢幕材質'], axis=1)"
   ]
  },
  {
   "cell_type": "code",
   "execution_count": 26,
   "id": "2113190a-5a9e-4cf4-9f66-936031c8a4bd",
   "metadata": {},
   "outputs": [],
   "source": [
    "df['90Hz'] = df['主螢幕更新率'].str.contains('90') == True\n",
    "df['120Hz'] = df['主螢幕更新率'].str.contains('120') == True\n",
    "df['144Hz'] = df['主螢幕更新率'].str.contains('144') == True"
   ]
  },
  {
   "cell_type": "code",
   "execution_count": 27,
   "id": "d3700748-dc15-4e23-a34f-0f527d8b4b3a",
   "metadata": {},
   "outputs": [],
   "source": [
    "df = df.drop(['主螢幕更新率'], axis=1)"
   ]
  },
  {
   "cell_type": "code",
   "execution_count": 28,
   "id": "201a275e-a2dc-44c9-842e-341a0c939cbb",
   "metadata": {},
   "outputs": [],
   "source": [
    "df = df.drop(['主螢幕觸控採樣率'], axis=1)"
   ]
  },
  {
   "cell_type": "markdown",
   "id": "bfb1bd6e-b49c-4f5d-a69a-ad86753811f1",
   "metadata": {},
   "source": [
    "## Comm."
   ]
  },
  {
   "cell_type": "code",
   "execution_count": 29,
   "id": "635caf2d-9bd2-406a-a119-8c6ad4672770",
   "metadata": {},
   "outputs": [],
   "source": [
    "df = df.drop(['4G FDD LTE', '4G TDD LTE', '3G頻率', '2G頻率', '4G LTE', 'VoLTE',\n",
    "       'SIM Card類型', 'Wi-Fi'], axis=1)"
   ]
  },
  {
   "cell_type": "code",
   "execution_count": 30,
   "id": "08d1d8bd-4419-4ba4-8f35-f4f85a94a0c1",
   "metadata": {},
   "outputs": [],
   "source": [
    "df['Wifi5G'] = df['IEEE 802.11傳輸速度'].str.contains('5GH')\n",
    "df['Wifi6'] = df['IEEE 802.11傳輸速度'].str.contains('6')\n",
    "df = df.drop(['IEEE 802.11傳輸速度'], axis=1)"
   ]
  },
  {
   "cell_type": "code",
   "execution_count": 31,
   "id": "8a7d4a1e-e10b-465c-aea7-491d49403e86",
   "metadata": {},
   "outputs": [],
   "source": [
    "df['NFC'] = df['NFC'] == 'Yes'"
   ]
  },
  {
   "cell_type": "code",
   "execution_count": 32,
   "id": "b417e6ce-e424-4e2d-9813-295b92b897ca",
   "metadata": {},
   "outputs": [],
   "source": [
    "df = df.drop(['藍牙', '衛星定位'], axis=1)"
   ]
  },
  {
   "cell_type": "code",
   "execution_count": 33,
   "id": "ece4c219-c7b6-4a9e-b2de-dbadc57ee847",
   "metadata": {},
   "outputs": [],
   "source": [
    "df['5G連網'] = (df['5G連網'] == 'Yes')"
   ]
  },
  {
   "cell_type": "code",
   "execution_count": 34,
   "id": "c07f19ec-c715-4513-b725-9d395dd097a9",
   "metadata": {},
   "outputs": [],
   "source": [
    "df = df.drop(['5G NR頻率', '5G NR頻段', '5G連網', 'SIM1'], axis=1)"
   ]
  },
  {
   "cell_type": "code",
   "execution_count": 35,
   "id": "3bb746ec-969e-4aaf-9e8f-da179ac071ce",
   "metadata": {},
   "outputs": [],
   "source": [
    "df = df.drop(['SIM卡槽數', 'SIM卡槽設計', 'SIM2', '5G組網方式'], axis=1)"
   ]
  },
  {
   "cell_type": "code",
   "execution_count": 36,
   "id": "eccd7cba-ed35-47ba-b033-cbb2781d7f98",
   "metadata": {},
   "outputs": [],
   "source": [
    "df = df.drop(['CA支援頻段組合', 'LTE Cat.', 'CA載波聚合','SIM卡槽或記憶卡擇一'], axis=1)"
   ]
  },
  {
   "cell_type": "code",
   "execution_count": 37,
   "id": "b0240e94-682e-4707-9137-963a154f37ab",
   "metadata": {},
   "outputs": [],
   "source": [
    "df = df.drop(['雙卡雙通'], axis=1)"
   ]
  },
  {
   "cell_type": "code",
   "execution_count": 38,
   "id": "a91c4b25-80db-4b88-ba0f-c8beb29eca4f",
   "metadata": {},
   "outputs": [
    {
     "data": {
      "text/plain": [
       "5.0    94\n",
       "5.1    54\n",
       "5.2    24\n",
       "4.2    20\n",
       "4.0     2\n",
       "4.1     1\n",
       "Name: 藍牙版本, dtype: int64"
      ]
     },
     "execution_count": 38,
     "metadata": {},
     "output_type": "execute_result"
    }
   ],
   "source": [
    "df['藍牙版本'].value_counts()"
   ]
  },
  {
   "cell_type": "code",
   "execution_count": 39,
   "id": "478be0ca-3091-48d1-b4e6-2f140d527f43",
   "metadata": {},
   "outputs": [],
   "source": [
    "df['bt5.0'] = (df['藍牙版本'] == 5.0)\n",
    "df['bt5.1'] = (df['藍牙版本'] == 5.1)\n",
    "df['bt5.2'] = (df['藍牙版本'] == 5.2)\n",
    "df['bt4.2'] = (df['藍牙版本'] == 4.2)"
   ]
  },
  {
   "cell_type": "code",
   "execution_count": 40,
   "id": "d1936da1-9c1d-4ff2-8efd-433100bac6d0",
   "metadata": {},
   "outputs": [],
   "source": [
    "df = df.drop(['藍牙版本'], axis=1)"
   ]
  },
  {
   "cell_type": "code",
   "execution_count": 41,
   "id": "628e5a29-1142-4924-ac03-7be416e5edfb",
   "metadata": {},
   "outputs": [
    {
     "data": {
      "text/plain": [
       "Index(['NFC', '快充功率', '無線充電', '陀螺儀', '加速度感應器', '機身材質', '機身長度', '機身寬度', '機身厚度',\n",
       "       '機身重量', '防水防塵等級', '傳輸埠', '麥克風', '機身顏色', 'Brand', 'Name', '第三主相機畫素',\n",
       "       '第三主相機感光元件', '第三主相機光圈F', '主螢幕耐用性', '前相機自動對焦', '高度氣壓感測器', '第三主相機等效焦距',\n",
       "       '指紋辨識器', '最大通話時間', 'RAM記憶體', '電池容量', '主相機8K錄影', '快充技術', '裝置分類', '記憶體格式',\n",
       "       '儲存空間格式', '前相機等效焦距', '3.5mm耳機孔', '副螢幕材質', '記憶卡', '最大擴充儲存空間', '最大待機時間',\n",
       "       '主螢幕佔比', 'RAW檔拍攝', '副螢幕尺寸', '可替換電池', '無線反向充電', '第四主相機畫素', '第四主相機感光元件',\n",
       "       '第四主相機光圈F', '喇叭', '紅外線', '副螢幕解析度', '影片播放格式', '音樂播放器', '圖片支援格式', '副螢幕觸控',\n",
       "       '錄影格式', '第二前相機畫素', '第二前相機感光元件', '第二前相機光圈F', '實用工具', '第三前相機光圈F',\n",
       "       '第三前相機感光元件', '時間顯示', '計步器', '第四主相機等效焦距', '內建觸控筆', '吊飾孔', 'soc_s',\n",
       "       'soc_m', 'resolution_x', 'resolution_y', 'OLED', '90Hz', '120Hz',\n",
       "       '144Hz', 'Wifi5G', 'Wifi6', 'bt5.0', 'bt5.1', 'bt5.2', 'bt4.2'],\n",
       "      dtype='object')"
      ]
     },
     "execution_count": 41,
     "metadata": {},
     "output_type": "execute_result"
    }
   ],
   "source": [
    "df.columns[20:]"
   ]
  },
  {
   "cell_type": "markdown",
   "id": "40432ace-a753-4fc6-922a-2c83d6ea42fe",
   "metadata": {},
   "source": [
    "## RAM"
   ]
  },
  {
   "cell_type": "code",
   "execution_count": 42,
   "id": "6bb952c2-4b84-4b13-9a05-89070c498748",
   "metadata": {},
   "outputs": [
    {
     "data": {
      "text/plain": [
       "0            apple_iphone_11\n",
       "0        apple_iphone_11_pro\n",
       "0            apple_iphone_12\n",
       "0       apple_iphone_12_mini\n",
       "0        apple_iphone_12_pro\n",
       "0    apple_iphone_12_pro_max\n",
       "0            apple_iphone_13\n",
       "0       apple_iphone_13_mini\n",
       "0        apple_iphone_13_pro\n",
       "0    apple_iphone_13_pro_max\n",
       "0       apple_iphone_se_2020\n",
       "0            apple_iphone_xr\n",
       "0               mto_m68_plus\n",
       "Name: Name, dtype: object"
      ]
     },
     "execution_count": 42,
     "metadata": {},
     "output_type": "execute_result"
    }
   ],
   "source": [
    "df[df['RAM記憶體'].isnull()]['Name']"
   ]
  },
  {
   "cell_type": "code",
   "execution_count": 43,
   "id": "947a48a9-87c6-423d-ba1b-50bc797ed447",
   "metadata": {},
   "outputs": [],
   "source": [
    "name2ram = {'mto_m68_plus': 0.5,\n",
    "            'apple_iphone_xr': 3,\n",
    "            'apple_iphone_se_2020': 3,\n",
    "            'apple_iphone_11': 4,\n",
    "            'apple_iphone_11_pro': 4,\n",
    "            'apple_iphone_12': 4,\n",
    "            'apple_iphone_12_mini': 4,\n",
    "            'apple_iphone_12_pro': 6,\n",
    "            'apple_iphone_12_pro_max': 6,\n",
    "            'apple_iphone_13': 4,\n",
    "            'apple_iphone_13_mini': 4,\n",
    "            'apple_iphone_13_pro': 6,\n",
    "            'apple_iphone_13_pro_max': 6\n",
    "           }\n",
    "def handle_ram(x):\n",
    "    ram = str(x['RAM記憶體'])\n",
    "    \n",
    "    if 'B' not in ram:\n",
    "        return name2ram[x['Name']]\n",
    "    else:\n",
    "        if 'GB' in ram:\n",
    "            return float(ram.replace('GB', ''))\n",
    "        elif 'MB' in ram:\n",
    "            return float(ram.replace('MB', ''))/1024\n",
    "        \n",
    "df['RAM記憶體'] = df.apply(handle_ram, axis=1)"
   ]
  },
  {
   "cell_type": "markdown",
   "id": "b33ecb10-21cf-41a2-9d9b-c7c732cf86c9",
   "metadata": {},
   "source": [
    "## Other about memory"
   ]
  },
  {
   "cell_type": "code",
   "execution_count": 44,
   "id": "ccf4066c-e6e8-4533-aace-396199b0e7de",
   "metadata": {},
   "outputs": [],
   "source": [
    "df['UFS'] = df['儲存空間格式'].str.contains('UFS') == True"
   ]
  },
  {
   "cell_type": "code",
   "execution_count": 45,
   "id": "cbf344a1-89d6-4fd0-bb9d-36ae5aef56ee",
   "metadata": {},
   "outputs": [],
   "source": [
    "df['記憶卡'] = ~df['記憶卡'].isnull()"
   ]
  },
  {
   "cell_type": "code",
   "execution_count": 46,
   "id": "758e9837-7faf-4f2a-b284-45c086d9bd46",
   "metadata": {},
   "outputs": [],
   "source": [
    "df = df.drop(['最大擴充儲存空間','記憶體格式','儲存空間格式'], axis=1)"
   ]
  },
  {
   "cell_type": "markdown",
   "id": "506c2643-9bf4-4f59-ae2b-60c313928c7f",
   "metadata": {},
   "source": [
    "## Camera"
   ]
  },
  {
   "cell_type": "code",
   "execution_count": 47,
   "id": "54d05e7a-4704-40b4-abc7-d8d742940d87",
   "metadata": {},
   "outputs": [
    {
     "data": {
      "text/plain": [
       "Index(['Price', 'ROM儲存空間', '主螢幕尺寸', '主相機畫素', '主相機感光元件', '主相機光圈F', '主相機等效焦距',\n",
       "       '主相機LED補光燈', '主相機自動對焦', '主相機光學防手震', '主相機UHD 4K錄影', '第二主相機畫素',\n",
       "       '第二主相機感光元件', '第二主相機光圈F', '第二主相機等效焦距', '前相機畫素', '前相機感光元件', '前相機光圈F',\n",
       "       '前相機LED補光燈', '前相機UHD 4K錄影', 'NFC', '快充功率', '無線充電', '陀螺儀', '加速度感應器',\n",
       "       '機身材質', '機身長度', '機身寬度', '機身厚度', '機身重量', '防水防塵等級', '傳輸埠', '麥克風', '機身顏色',\n",
       "       'Brand', 'Name', '第三主相機畫素', '第三主相機感光元件', '第三主相機光圈F', '主螢幕耐用性',\n",
       "       '前相機自動對焦', '高度氣壓感測器', '第三主相機等效焦距', '指紋辨識器', '最大通話時間', 'RAM記憶體', '電池容量',\n",
       "       '主相機8K錄影', '快充技術', '裝置分類', '前相機等效焦距', '3.5mm耳機孔', '副螢幕材質', '記憶卡',\n",
       "       '最大待機時間', '主螢幕佔比', 'RAW檔拍攝', '副螢幕尺寸', '可替換電池', '無線反向充電', '第四主相機畫素',\n",
       "       '第四主相機感光元件', '第四主相機光圈F', '喇叭', '紅外線', '副螢幕解析度', '影片播放格式', '音樂播放器',\n",
       "       '圖片支援格式', '副螢幕觸控', '錄影格式', '第二前相機畫素', '第二前相機感光元件', '第二前相機光圈F', '實用工具',\n",
       "       '第三前相機光圈F', '第三前相機感光元件', '時間顯示', '計步器', '第四主相機等效焦距', '內建觸控筆', '吊飾孔',\n",
       "       'soc_s', 'soc_m', 'resolution_x', 'resolution_y', 'OLED', '90Hz',\n",
       "       '120Hz', '144Hz', 'Wifi5G', 'Wifi6', 'bt5.0', 'bt5.1', 'bt5.2', 'bt4.2',\n",
       "       'UFS'],\n",
       "      dtype='object')"
      ]
     },
     "execution_count": 47,
     "metadata": {},
     "output_type": "execute_result"
    }
   ],
   "source": [
    "df.columns"
   ]
  },
  {
   "cell_type": "code",
   "execution_count": 48,
   "id": "6ceb3626-3632-4481-bd0a-3045fc425f1f",
   "metadata": {},
   "outputs": [],
   "source": [
    "df = df.drop(['主相機感光元件', '主相機光圈F', '主相機等效焦距', '主相機LED補光燈', '主相機自動對焦',\n",
    "              '第二主相機感光元件', '第二主相機光圈F', '第二主相機等效焦距',\n",
    "             '第三主相機感光元件', '第三主相機光圈F','第三主相機等效焦距',\n",
    "             '第四主相機感光元件', '第四主相機光圈F','第四主相機等效焦距',\n",
    "              '前相機感光元件', '前相機光圈F', '前相機LED補光燈','前相機自動對焦',\n",
    "              '第二前相機感光元件', '第二前相機光圈F'\n",
    "             ], axis=1)"
   ]
  },
  {
   "cell_type": "code",
   "execution_count": 49,
   "id": "6262b31f-abfc-4666-a85f-54a0fc0801dd",
   "metadata": {},
   "outputs": [],
   "source": [
    "df = df.drop(['前相機等效焦距', '第三前相機光圈F', '第三前相機感光元件'], axis=1)"
   ]
  },
  {
   "cell_type": "code",
   "execution_count": 50,
   "id": "4f665c0a-eaf4-48dc-96fd-46a035e0b707",
   "metadata": {},
   "outputs": [
    {
     "data": {
      "text/plain": [
       "Index(['Price', 'ROM儲存空間', '主螢幕尺寸', '主相機畫素', '主相機光學防手震', '主相機UHD 4K錄影',\n",
       "       '第二主相機畫素', '前相機畫素', '前相機UHD 4K錄影', 'NFC', '快充功率', '無線充電', '陀螺儀',\n",
       "       '加速度感應器', '機身材質', '機身長度', '機身寬度', '機身厚度', '機身重量', '防水防塵等級', '傳輸埠',\n",
       "       '麥克風', '機身顏色', 'Brand', 'Name', '第三主相機畫素', '主螢幕耐用性', '高度氣壓感測器', '指紋辨識器',\n",
       "       '最大通話時間', 'RAM記憶體', '電池容量', '主相機8K錄影', '快充技術', '裝置分類', '3.5mm耳機孔',\n",
       "       '副螢幕材質', '記憶卡', '最大待機時間', '主螢幕佔比', 'RAW檔拍攝', '副螢幕尺寸', '可替換電池', '無線反向充電',\n",
       "       '第四主相機畫素', '喇叭', '紅外線', '副螢幕解析度', '影片播放格式', '音樂播放器', '圖片支援格式', '副螢幕觸控',\n",
       "       '錄影格式', '第二前相機畫素', '實用工具', '時間顯示', '計步器', '內建觸控筆', '吊飾孔', 'soc_s',\n",
       "       'soc_m', 'resolution_x', 'resolution_y', 'OLED', '90Hz', '120Hz',\n",
       "       '144Hz', 'Wifi5G', 'Wifi6', 'bt5.0', 'bt5.1', 'bt5.2', 'bt4.2', 'UFS'],\n",
       "      dtype='object')"
      ]
     },
     "execution_count": 50,
     "metadata": {},
     "output_type": "execute_result"
    }
   ],
   "source": [
    "df.columns"
   ]
  },
  {
   "cell_type": "code",
   "execution_count": 51,
   "id": "b0616cc3-334d-443e-998e-4fde3277354e",
   "metadata": {},
   "outputs": [],
   "source": [
    "df['主相機光學防手震'] = df['主相機光學防手震'] == 'Yes'\n",
    "df['主相機UHD 4K錄影'] = df['主相機UHD 4K錄影'] == 'Yes'\n",
    "df['前相機UHD 4K錄影'] = df['前相機UHD 4K錄影'] == 'Yes'\n",
    "df['主相機8K錄影'] = df['主相機8K錄影'] == 'Yes'"
   ]
  },
  {
   "cell_type": "code",
   "execution_count": 52,
   "id": "d4e945f0-2226-481e-94d1-c827c1be7816",
   "metadata": {},
   "outputs": [],
   "source": [
    "def to_MP(x):\n",
    "    x = str(x)\n",
    "    if 'n' in x:\n",
    "        return 0\n",
    "    elif '萬畫素' in x:\n",
    "        return float(x.replace('萬畫素', ''))/100\n",
    "    elif '億畫素' in x:\n",
    "        return float(x.replace('億畫素', ''))*100\n",
    "    else:\n",
    "        return float(x)/100\n",
    "        \n",
    "        \n",
    "df['主相機畫素'] = df['主相機畫素'].apply(to_MP)\n",
    "df['第二主相機畫素'] = df['第二主相機畫素'].apply(to_MP)\n",
    "df['第三主相機畫素'] = df['第三主相機畫素'].apply(to_MP)\n",
    "df['第四主相機畫素'] = df['第四主相機畫素'].apply(to_MP)\n",
    "df['前相機畫素'] = df['前相機畫素'].apply(to_MP)\n",
    "df['第二前相機畫素'] = df['第二前相機畫素'].apply(to_MP)"
   ]
  },
  {
   "cell_type": "code",
   "execution_count": 53,
   "id": "072ed7b6-68b8-4ceb-b833-46f7ece73ae2",
   "metadata": {},
   "outputs": [],
   "source": [
    "def calculate_cam_num(x):\n",
    "    if x['第四主相機畫素'] != 0:\n",
    "        return 4\n",
    "    elif x['第三主相機畫素'] != 0:\n",
    "        return 3\n",
    "    elif x['第二主相機畫素'] != 0:\n",
    "        return 2\n",
    "    elif x['主相機畫素'] != 0:\n",
    "        return 1\n",
    "    else:\n",
    "        return 0\n",
    "df['cam_back_num'] = df.apply(calculate_cam_num, axis=1)"
   ]
  },
  {
   "cell_type": "code",
   "execution_count": 54,
   "id": "e5f4fd0a-f7fd-4c24-8ed2-417a8e2080f7",
   "metadata": {},
   "outputs": [],
   "source": [
    "df = df.drop(['錄影格式'], axis=1)"
   ]
  },
  {
   "cell_type": "code",
   "execution_count": 55,
   "id": "5a13682f-68cc-4de8-945d-79a7aa269338",
   "metadata": {},
   "outputs": [],
   "source": [
    "df['RAW檔拍攝'] = df['RAW檔拍攝'] == 'Yes'"
   ]
  },
  {
   "cell_type": "markdown",
   "id": "cb178d1b-4d23-45ed-bbb3-e677ddcd7803",
   "metadata": {},
   "source": [
    "## Battery"
   ]
  },
  {
   "cell_type": "code",
   "execution_count": 56,
   "id": "91123490-1fbf-4b80-8512-c8d01aff69b8",
   "metadata": {},
   "outputs": [],
   "source": [
    "dict_charging = {\n",
    "    'asus_zenfone_6_zs630kl': 18,\n",
    "    'asus_zenfone_7_pro_zs671ks': 30,\n",
    "    'asus_zenfone_7_zs670ks': 30,\n",
    "    'blackshark_2': 27,\n",
    "    'cat_s61': 18,\n",
    "    'htc_desire_20plus': 18,\n",
    "    'htc_desire_20_pro': 18,\n",
    "    'huawei_mate_20_x_5g': 40,\n",
    "    'lg_v60_thinq': 25,\n",
    "    'lg_velvet': 27,\n",
    "    'lg_wing': 25,\n",
    "    'motorola_one_hyper': 45,\n",
    "    'oppo_a91': 20,\n",
    "    'sony_xperia_1_ii': 18,\n",
    "    'sugar_t50': 15\n",
    "}\n",
    "\n",
    "def handle_charging(x):\n",
    "    charging = str(x['快充功率'])\n",
    "    if 'n' in charging and str(x['快充技術']) != 'nan':\n",
    "        return dict_charging[x['Name']]\n",
    "    elif 'n' in charging and x['Brand'] == 'apple':\n",
    "        return 18\n",
    "    elif 'n' in charging:\n",
    "        return 10\n",
    "    else:\n",
    "        return float(charging.replace('W', ''))\n",
    "        \n",
    "\n",
    "df['快充功率'] = df.apply(handle_charging, axis=1)"
   ]
  },
  {
   "cell_type": "code",
   "execution_count": 57,
   "id": "4a65fbf2-8340-4148-a0e4-e38c132fe489",
   "metadata": {},
   "outputs": [],
   "source": [
    "df['無線充電'] = df['無線充電'] == 'Yes'"
   ]
  },
  {
   "cell_type": "code",
   "execution_count": 58,
   "id": "dfdcdcda-34cb-4608-8635-b40c985a7d42",
   "metadata": {},
   "outputs": [],
   "source": [
    "df['可替換電池'] = df['可替換電池'] == 'Yes'\n",
    "df['無線反向充電'] = df['無線反向充電'] == 'Yes'"
   ]
  },
  {
   "cell_type": "code",
   "execution_count": 59,
   "id": "1a0e841d-628a-4b00-90c0-6274fea8c09c",
   "metadata": {},
   "outputs": [],
   "source": [
    "df = df.drop(['最大通話時間','快充技術'], axis=1)"
   ]
  },
  {
   "cell_type": "code",
   "execution_count": 60,
   "id": "9b9a61fa-9d3f-4635-827f-e1e352c1c175",
   "metadata": {},
   "outputs": [],
   "source": [
    "df = df.drop(['最大待機時間'], axis=1)"
   ]
  },
  {
   "cell_type": "code",
   "execution_count": 61,
   "id": "9ab5c140-356d-405c-b4e4-a31caf1cabfd",
   "metadata": {},
   "outputs": [
    {
     "data": {
      "text/plain": [
       "0            apple_iphone_11\n",
       "0        apple_iphone_11_pro\n",
       "0            apple_iphone_12\n",
       "0       apple_iphone_12_mini\n",
       "0        apple_iphone_12_pro\n",
       "0    apple_iphone_12_pro_max\n",
       "0            apple_iphone_13\n",
       "0       apple_iphone_13_mini\n",
       "0        apple_iphone_13_pro\n",
       "0    apple_iphone_13_pro_max\n",
       "0       apple_iphone_se_2020\n",
       "0            apple_iphone_xr\n",
       "Name: Name, dtype: object"
      ]
     },
     "execution_count": 61,
     "metadata": {},
     "output_type": "execute_result"
    }
   ],
   "source": [
    "df[df['電池容量'].isnull()]['Name']"
   ]
  },
  {
   "cell_type": "code",
   "execution_count": 62,
   "id": "00431130-ad1a-4071-a9d0-53a29bf7d5bf",
   "metadata": {},
   "outputs": [],
   "source": [
    "dict_battery = {\n",
    "    'apple_iphone_11': 3110,\n",
    "    'apple_iphone_11_pro': 3046,\n",
    "    'apple_iphone_12': 2815,\n",
    "    'apple_iphone_12_mini': 2227,\n",
    "    'apple_iphone_12_pro':  2815,\n",
    "    'apple_iphone_12_pro_max': 3687,\n",
    "    'apple_iphone_13': 3095,\n",
    "    'apple_iphone_13_mini' : 2406,\n",
    "    'apple_iphone_13_pro': 3095,\n",
    "    'apple_iphone_13_pro_max': 4352,\n",
    "    'apple_iphone_se_2020': 1821,\n",
    "    'apple_iphone_xr': 2658\n",
    "}\n",
    "\n",
    "def handle_battery(x):\n",
    "    b = str(x['電池容量'])\n",
    "    if 'mAh' in b:\n",
    "        return int(b.replace('mAh', ''))\n",
    "    elif 'nan' in b:\n",
    "        return dict_battery[x['Name']]\n",
    "    else:\n",
    "        return int(b)\n",
    "df['電池容量'] = df.apply(handle_battery, axis=1)"
   ]
  },
  {
   "cell_type": "markdown",
   "id": "f7b285c9-b261-4571-a849-a86a698e6626",
   "metadata": {
    "tags": []
   },
   "source": [
    "## 外觀"
   ]
  },
  {
   "cell_type": "code",
   "execution_count": 63,
   "id": "3e114c95-f664-4579-a94e-ef44ee61c666",
   "metadata": {},
   "outputs": [],
   "source": [
    "df['glass'] = df['機身材質'].str.contains('玻璃') == True\n",
    "df['plastic'] = df['機身材質'].str.contains('塑料') == True\n",
    "df = df.drop(['機身材質'], axis=1)"
   ]
  },
  {
   "cell_type": "code",
   "execution_count": 64,
   "id": "ad5f2626-fb3b-41ba-9b5d-f702ea4efb05",
   "metadata": {},
   "outputs": [],
   "source": [
    "df['摺疊螢幕'] = (df['裝置分類'].str.contains('摺疊螢幕') | df['裝置分類'].str.contains('疊螢幕'))"
   ]
  },
  {
   "cell_type": "code",
   "execution_count": 65,
   "id": "d29c0030-8ef2-45cc-ad21-f34266f2140b",
   "metadata": {},
   "outputs": [],
   "source": [
    "df = df.drop(['裝置分類'], axis=1)"
   ]
  },
  {
   "cell_type": "code",
   "execution_count": 66,
   "id": "87c3c30a-855c-4dbc-a18b-87519ef11e95",
   "metadata": {},
   "outputs": [],
   "source": [
    "def handle_whl(x):\n",
    "    x['機身長度'] =  float(str(x['機身長度']).replace('mm', ''))\n",
    "    x['機身寬度'] =  float(str(x['機身寬度']).replace('mm', ''))\n",
    "    x['機身厚度'] =  float(str(x['機身厚度']).replace('mm', ''))\n",
    "    \n",
    "    return x\n",
    "\n",
    "df = df.apply(handle_whl, axis=1)"
   ]
  },
  {
   "cell_type": "code",
   "execution_count": 67,
   "id": "d961a8b3-2bcb-4512-a660-d93bb317f467",
   "metadata": {},
   "outputs": [],
   "source": [
    "df['副螢幕觸控'] = ((~df['副螢幕觸控'].isnull()) & df['副螢幕觸控'].str.contains('Yes'))"
   ]
  },
  {
   "cell_type": "code",
   "execution_count": 68,
   "id": "07b29c26-26b9-4b57-a2c6-a53de43cb891",
   "metadata": {},
   "outputs": [],
   "source": [
    "def handle_weight(x):\n",
    "    if x['Name'] == 'koobee_s16':\n",
    "        return 157\n",
    "    else:\n",
    "        return float(str(x['機身重量']).replace('g', ''))\n",
    "df['機身重量'] = df.apply(handle_weight, axis=1)"
   ]
  },
  {
   "cell_type": "code",
   "execution_count": 69,
   "id": "1352edf4-ebf2-43ae-9086-aef476f8e131",
   "metadata": {},
   "outputs": [],
   "source": [
    "df['機身顏色'] = df['機身顏色'].apply(lambda x: len(x.split(', ')))"
   ]
  },
  {
   "cell_type": "markdown",
   "id": "25a5e86e-05eb-47b2-b016-8199125c2174",
   "metadata": {},
   "source": [
    "\n",
    "## Sensor"
   ]
  },
  {
   "cell_type": "code",
   "execution_count": 70,
   "id": "38b363cc-af87-47da-bf05-4b3d011fdcac",
   "metadata": {},
   "outputs": [
    {
     "data": {
      "text/plain": [
       "Index(['Price', 'ROM儲存空間', '主螢幕尺寸', '主相機畫素', '主相機光學防手震', '主相機UHD 4K錄影',\n",
       "       '第二主相機畫素', '前相機畫素', '前相機UHD 4K錄影', 'NFC', '快充功率', '無線充電', '陀螺儀',\n",
       "       '加速度感應器', '機身長度', '機身寬度', '機身厚度', '機身重量', '防水防塵等級', '傳輸埠', '麥克風',\n",
       "       '機身顏色', 'Brand', 'Name', '第三主相機畫素', '主螢幕耐用性', '高度氣壓感測器', '指紋辨識器',\n",
       "       'RAM記憶體', '電池容量', '主相機8K錄影', '3.5mm耳機孔', '副螢幕材質', '記憶卡', '主螢幕佔比',\n",
       "       'RAW檔拍攝', '副螢幕尺寸', '可替換電池', '無線反向充電', '第四主相機畫素', '喇叭', '紅外線', '副螢幕解析度',\n",
       "       '影片播放格式', '音樂播放器', '圖片支援格式', '副螢幕觸控', '第二前相機畫素', '實用工具', '時間顯示', '計步器',\n",
       "       '內建觸控筆', '吊飾孔', 'soc_s', 'soc_m', 'resolution_x', 'resolution_y',\n",
       "       'OLED', '90Hz', '120Hz', '144Hz', 'Wifi5G', 'Wifi6', 'bt5.0', 'bt5.1',\n",
       "       'bt5.2', 'bt4.2', 'UFS', 'cam_back_num', 'glass', 'plastic', '摺疊螢幕'],\n",
       "      dtype='object')"
      ]
     },
     "execution_count": 70,
     "metadata": {},
     "output_type": "execute_result"
    }
   ],
   "source": [
    "df.columns"
   ]
  },
  {
   "cell_type": "code",
   "execution_count": 71,
   "id": "246d92b3-6f7f-4d0a-a971-2ba6c5d55ca3",
   "metadata": {
    "tags": []
   },
   "outputs": [],
   "source": [
    "df = df.drop(['陀螺儀', '加速度感應器', '指紋辨識器'], axis=1)"
   ]
  },
  {
   "cell_type": "markdown",
   "id": "3ff64494-d70d-44f1-ac12-caf69b4c3754",
   "metadata": {},
   "source": [
    "## Other"
   ]
  },
  {
   "cell_type": "code",
   "execution_count": 72,
   "id": "0346e782-b0ca-4289-8afa-00ac99fbbd4f",
   "metadata": {},
   "outputs": [],
   "source": [
    "df = df.drop(['喇叭', '紅外線','影片播放格式',\n",
    "       '音樂播放器', '圖片支援格式',\n",
    "             '實用工具', '時間顯示', '計步器', '內建觸控筆',\n",
    "       '吊飾孔'], axis=1)"
   ]
  },
  {
   "cell_type": "code",
   "execution_count": 73,
   "id": "1defb42f-c020-4a98-bf83-cedf1215ffce",
   "metadata": {},
   "outputs": [],
   "source": [
    "df['防水防塵等級'] = ~df['防水防塵等級'].isnull()"
   ]
  },
  {
   "cell_type": "code",
   "execution_count": 74,
   "id": "c54dcc8f-f639-42d8-93b4-549629d597cc",
   "metadata": {},
   "outputs": [],
   "source": [
    "df['USB3'] = ((~df['傳輸埠'].isnull()) & df['傳輸埠'].str.contains('3'))\n",
    "df = df.drop(['傳輸埠'], axis=1)"
   ]
  },
  {
   "cell_type": "code",
   "execution_count": 75,
   "id": "a335e83b-9f29-41a2-8491-49a446d94cdb",
   "metadata": {},
   "outputs": [],
   "source": [
    "df['3.5mm耳機孔'] = ((~df['3.5mm耳機孔'].isnull()) & df['3.5mm耳機孔'].str.contains('Yes'))"
   ]
  },
  {
   "cell_type": "code",
   "execution_count": 76,
   "id": "32a78816-78d0-4018-b1b5-8a95914e4f73",
   "metadata": {},
   "outputs": [],
   "source": [
    "df = df.drop(['麥克風'], axis=1)"
   ]
  },
  {
   "cell_type": "code",
   "execution_count": 77,
   "id": "80068d16-0560-4d6d-81f3-36a34ba23298",
   "metadata": {},
   "outputs": [],
   "source": [
    "df = df.drop(['副螢幕尺寸', '高度氣壓感測器', '副螢幕材質'], axis=1)"
   ]
  },
  {
   "cell_type": "code",
   "execution_count": 78,
   "id": "ba2c56ec-55e9-448f-b4de-fb262aae0015",
   "metadata": {},
   "outputs": [],
   "source": [
    "df = df.drop(['主螢幕佔比', '主螢幕耐用性'], axis=1)"
   ]
  },
  {
   "cell_type": "code",
   "execution_count": 79,
   "id": "4749b656-652e-49da-84cc-eff183b5ee8a",
   "metadata": {},
   "outputs": [],
   "source": [
    "df.to_csv('sogi_df.csv', index=False)"
   ]
  },
  {
   "cell_type": "code",
   "execution_count": 80,
   "id": "3db9c2bd-2d57-4c03-9582-18d9f760439d",
   "metadata": {},
   "outputs": [
    {
     "data": {
      "text/html": [
       "<div>\n",
       "<style scoped>\n",
       "    .dataframe tbody tr th:only-of-type {\n",
       "        vertical-align: middle;\n",
       "    }\n",
       "\n",
       "    .dataframe tbody tr th {\n",
       "        vertical-align: top;\n",
       "    }\n",
       "\n",
       "    .dataframe thead th {\n",
       "        text-align: right;\n",
       "    }\n",
       "</style>\n",
       "<table border=\"1\" class=\"dataframe\">\n",
       "  <thead>\n",
       "    <tr style=\"text-align: right;\">\n",
       "      <th></th>\n",
       "      <th>Price</th>\n",
       "      <th>ROM儲存空間</th>\n",
       "      <th>主螢幕尺寸</th>\n",
       "      <th>主相機畫素</th>\n",
       "      <th>主相機光學防手震</th>\n",
       "      <th>主相機UHD 4K錄影</th>\n",
       "      <th>第二主相機畫素</th>\n",
       "      <th>前相機畫素</th>\n",
       "      <th>前相機UHD 4K錄影</th>\n",
       "      <th>NFC</th>\n",
       "      <th>...</th>\n",
       "      <th>bt5.0</th>\n",
       "      <th>bt5.1</th>\n",
       "      <th>bt5.2</th>\n",
       "      <th>bt4.2</th>\n",
       "      <th>UFS</th>\n",
       "      <th>cam_back_num</th>\n",
       "      <th>glass</th>\n",
       "      <th>plastic</th>\n",
       "      <th>摺疊螢幕</th>\n",
       "      <th>USB3</th>\n",
       "    </tr>\n",
       "  </thead>\n",
       "  <tbody>\n",
       "    <tr>\n",
       "      <th>0</th>\n",
       "      <td>20900</td>\n",
       "      <td>256</td>\n",
       "      <td>6.10</td>\n",
       "      <td>12.0</td>\n",
       "      <td>True</td>\n",
       "      <td>True</td>\n",
       "      <td>12.0</td>\n",
       "      <td>12.0</td>\n",
       "      <td>True</td>\n",
       "      <td>True</td>\n",
       "      <td>...</td>\n",
       "      <td>True</td>\n",
       "      <td>False</td>\n",
       "      <td>False</td>\n",
       "      <td>False</td>\n",
       "      <td>False</td>\n",
       "      <td>2</td>\n",
       "      <td>True</td>\n",
       "      <td>False</td>\n",
       "      <td>False</td>\n",
       "      <td>False</td>\n",
       "    </tr>\n",
       "    <tr>\n",
       "      <th>1</th>\n",
       "      <td>23300</td>\n",
       "      <td>512</td>\n",
       "      <td>5.80</td>\n",
       "      <td>12.0</td>\n",
       "      <td>True</td>\n",
       "      <td>True</td>\n",
       "      <td>12.0</td>\n",
       "      <td>12.0</td>\n",
       "      <td>True</td>\n",
       "      <td>True</td>\n",
       "      <td>...</td>\n",
       "      <td>True</td>\n",
       "      <td>False</td>\n",
       "      <td>False</td>\n",
       "      <td>False</td>\n",
       "      <td>False</td>\n",
       "      <td>3</td>\n",
       "      <td>True</td>\n",
       "      <td>False</td>\n",
       "      <td>False</td>\n",
       "      <td>False</td>\n",
       "    </tr>\n",
       "    <tr>\n",
       "      <th>2</th>\n",
       "      <td>26000</td>\n",
       "      <td>256</td>\n",
       "      <td>6.10</td>\n",
       "      <td>12.0</td>\n",
       "      <td>True</td>\n",
       "      <td>True</td>\n",
       "      <td>12.0</td>\n",
       "      <td>12.0</td>\n",
       "      <td>True</td>\n",
       "      <td>True</td>\n",
       "      <td>...</td>\n",
       "      <td>True</td>\n",
       "      <td>False</td>\n",
       "      <td>False</td>\n",
       "      <td>False</td>\n",
       "      <td>False</td>\n",
       "      <td>2</td>\n",
       "      <td>True</td>\n",
       "      <td>False</td>\n",
       "      <td>False</td>\n",
       "      <td>False</td>\n",
       "    </tr>\n",
       "    <tr>\n",
       "      <th>3</th>\n",
       "      <td>22300</td>\n",
       "      <td>256</td>\n",
       "      <td>5.40</td>\n",
       "      <td>12.0</td>\n",
       "      <td>True</td>\n",
       "      <td>True</td>\n",
       "      <td>12.0</td>\n",
       "      <td>12.0</td>\n",
       "      <td>True</td>\n",
       "      <td>True</td>\n",
       "      <td>...</td>\n",
       "      <td>True</td>\n",
       "      <td>False</td>\n",
       "      <td>False</td>\n",
       "      <td>False</td>\n",
       "      <td>False</td>\n",
       "      <td>2</td>\n",
       "      <td>True</td>\n",
       "      <td>False</td>\n",
       "      <td>False</td>\n",
       "      <td>False</td>\n",
       "    </tr>\n",
       "    <tr>\n",
       "      <th>4</th>\n",
       "      <td>31590</td>\n",
       "      <td>512</td>\n",
       "      <td>6.10</td>\n",
       "      <td>12.0</td>\n",
       "      <td>True</td>\n",
       "      <td>True</td>\n",
       "      <td>12.0</td>\n",
       "      <td>12.0</td>\n",
       "      <td>True</td>\n",
       "      <td>True</td>\n",
       "      <td>...</td>\n",
       "      <td>True</td>\n",
       "      <td>False</td>\n",
       "      <td>False</td>\n",
       "      <td>False</td>\n",
       "      <td>False</td>\n",
       "      <td>3</td>\n",
       "      <td>True</td>\n",
       "      <td>False</td>\n",
       "      <td>False</td>\n",
       "      <td>False</td>\n",
       "    </tr>\n",
       "    <tr>\n",
       "      <th>...</th>\n",
       "      <td>...</td>\n",
       "      <td>...</td>\n",
       "      <td>...</td>\n",
       "      <td>...</td>\n",
       "      <td>...</td>\n",
       "      <td>...</td>\n",
       "      <td>...</td>\n",
       "      <td>...</td>\n",
       "      <td>...</td>\n",
       "      <td>...</td>\n",
       "      <td>...</td>\n",
       "      <td>...</td>\n",
       "      <td>...</td>\n",
       "      <td>...</td>\n",
       "      <td>...</td>\n",
       "      <td>...</td>\n",
       "      <td>...</td>\n",
       "      <td>...</td>\n",
       "      <td>...</td>\n",
       "      <td>...</td>\n",
       "      <td>...</td>\n",
       "    </tr>\n",
       "    <tr>\n",
       "      <th>196</th>\n",
       "      <td>5690</td>\n",
       "      <td>128</td>\n",
       "      <td>6.50</td>\n",
       "      <td>48.0</td>\n",
       "      <td>False</td>\n",
       "      <td>False</td>\n",
       "      <td>2.0</td>\n",
       "      <td>8.0</td>\n",
       "      <td>False</td>\n",
       "      <td>True</td>\n",
       "      <td>...</td>\n",
       "      <td>False</td>\n",
       "      <td>True</td>\n",
       "      <td>False</td>\n",
       "      <td>False</td>\n",
       "      <td>True</td>\n",
       "      <td>3</td>\n",
       "      <td>False</td>\n",
       "      <td>False</td>\n",
       "      <td>False</td>\n",
       "      <td>False</td>\n",
       "    </tr>\n",
       "    <tr>\n",
       "      <th>197</th>\n",
       "      <td>6850</td>\n",
       "      <td>128</td>\n",
       "      <td>6.67</td>\n",
       "      <td>108.0</td>\n",
       "      <td>False</td>\n",
       "      <td>True</td>\n",
       "      <td>8.0</td>\n",
       "      <td>16.0</td>\n",
       "      <td>False</td>\n",
       "      <td>True</td>\n",
       "      <td>...</td>\n",
       "      <td>False</td>\n",
       "      <td>True</td>\n",
       "      <td>False</td>\n",
       "      <td>False</td>\n",
       "      <td>True</td>\n",
       "      <td>4</td>\n",
       "      <td>False</td>\n",
       "      <td>False</td>\n",
       "      <td>False</td>\n",
       "      <td>False</td>\n",
       "    </tr>\n",
       "    <tr>\n",
       "      <th>198</th>\n",
       "      <td>4600</td>\n",
       "      <td>128</td>\n",
       "      <td>6.53</td>\n",
       "      <td>48.0</td>\n",
       "      <td>False</td>\n",
       "      <td>True</td>\n",
       "      <td>8.0</td>\n",
       "      <td>13.0</td>\n",
       "      <td>False</td>\n",
       "      <td>True</td>\n",
       "      <td>...</td>\n",
       "      <td>True</td>\n",
       "      <td>False</td>\n",
       "      <td>False</td>\n",
       "      <td>False</td>\n",
       "      <td>False</td>\n",
       "      <td>4</td>\n",
       "      <td>False</td>\n",
       "      <td>False</td>\n",
       "      <td>False</td>\n",
       "      <td>False</td>\n",
       "    </tr>\n",
       "    <tr>\n",
       "      <th>199</th>\n",
       "      <td>5190</td>\n",
       "      <td>128</td>\n",
       "      <td>6.53</td>\n",
       "      <td>48.0</td>\n",
       "      <td>False</td>\n",
       "      <td>True</td>\n",
       "      <td>2.0</td>\n",
       "      <td>13.0</td>\n",
       "      <td>False</td>\n",
       "      <td>True</td>\n",
       "      <td>...</td>\n",
       "      <td>False</td>\n",
       "      <td>True</td>\n",
       "      <td>False</td>\n",
       "      <td>False</td>\n",
       "      <td>True</td>\n",
       "      <td>3</td>\n",
       "      <td>False</td>\n",
       "      <td>True</td>\n",
       "      <td>False</td>\n",
       "      <td>False</td>\n",
       "    </tr>\n",
       "    <tr>\n",
       "      <th>200</th>\n",
       "      <td>5690</td>\n",
       "      <td>128</td>\n",
       "      <td>6.67</td>\n",
       "      <td>64.0</td>\n",
       "      <td>False</td>\n",
       "      <td>True</td>\n",
       "      <td>8.0</td>\n",
       "      <td>16.0</td>\n",
       "      <td>False</td>\n",
       "      <td>True</td>\n",
       "      <td>...</td>\n",
       "      <td>True</td>\n",
       "      <td>False</td>\n",
       "      <td>False</td>\n",
       "      <td>False</td>\n",
       "      <td>False</td>\n",
       "      <td>4</td>\n",
       "      <td>False</td>\n",
       "      <td>False</td>\n",
       "      <td>False</td>\n",
       "      <td>False</td>\n",
       "    </tr>\n",
       "  </tbody>\n",
       "</table>\n",
       "<p>201 rows × 53 columns</p>\n",
       "</div>"
      ],
      "text/plain": [
       "     Price  ROM儲存空間  主螢幕尺寸  主相機畫素  主相機光學防手震  主相機UHD 4K錄影  第二主相機畫素  前相機畫素  \\\n",
       "0    20900      256   6.10   12.0      True         True     12.0   12.0   \n",
       "1    23300      512   5.80   12.0      True         True     12.0   12.0   \n",
       "2    26000      256   6.10   12.0      True         True     12.0   12.0   \n",
       "3    22300      256   5.40   12.0      True         True     12.0   12.0   \n",
       "4    31590      512   6.10   12.0      True         True     12.0   12.0   \n",
       "..     ...      ...    ...    ...       ...          ...      ...    ...   \n",
       "196   5690      128   6.50   48.0     False        False      2.0    8.0   \n",
       "197   6850      128   6.67  108.0     False         True      8.0   16.0   \n",
       "198   4600      128   6.53   48.0     False         True      8.0   13.0   \n",
       "199   5190      128   6.53   48.0     False         True      2.0   13.0   \n",
       "200   5690      128   6.67   64.0     False         True      8.0   16.0   \n",
       "\n",
       "     前相機UHD 4K錄影   NFC  ...  bt5.0  bt5.1  bt5.2  bt4.2    UFS  cam_back_num  \\\n",
       "0           True  True  ...   True  False  False  False  False             2   \n",
       "1           True  True  ...   True  False  False  False  False             3   \n",
       "2           True  True  ...   True  False  False  False  False             2   \n",
       "3           True  True  ...   True  False  False  False  False             2   \n",
       "4           True  True  ...   True  False  False  False  False             3   \n",
       "..           ...   ...  ...    ...    ...    ...    ...    ...           ...   \n",
       "196        False  True  ...  False   True  False  False   True             3   \n",
       "197        False  True  ...  False   True  False  False   True             4   \n",
       "198        False  True  ...   True  False  False  False  False             4   \n",
       "199        False  True  ...  False   True  False  False   True             3   \n",
       "200        False  True  ...   True  False  False  False  False             4   \n",
       "\n",
       "     glass  plastic   摺疊螢幕   USB3  \n",
       "0     True    False  False  False  \n",
       "1     True    False  False  False  \n",
       "2     True    False  False  False  \n",
       "3     True    False  False  False  \n",
       "4     True    False  False  False  \n",
       "..     ...      ...    ...    ...  \n",
       "196  False    False  False  False  \n",
       "197  False    False  False  False  \n",
       "198  False    False  False  False  \n",
       "199  False     True  False  False  \n",
       "200  False    False  False  False  \n",
       "\n",
       "[201 rows x 53 columns]"
      ]
     },
     "execution_count": 80,
     "metadata": {},
     "output_type": "execute_result"
    }
   ],
   "source": [
    "df = pd.read_csv('sogi_df.csv')\n",
    "df"
   ]
  },
  {
   "cell_type": "code",
   "execution_count": 81,
   "id": "06b05392-1aee-475e-9d3f-2eb13c235200",
   "metadata": {},
   "outputs": [],
   "source": [
    "df.drop(['Name','副螢幕解析度'], axis=1).to_csv('sogi_mobile.csv', index=False)"
   ]
  },
  {
   "cell_type": "code",
   "execution_count": 82,
   "id": "936fa38e-e273-4b20-95c7-1c8f98d4ebca",
   "metadata": {},
   "outputs": [
    {
     "data": {
      "text/plain": [
       "{'Name', '副螢幕解析度', '機身顏色'}"
      ]
     },
     "execution_count": 82,
     "metadata": {},
     "output_type": "execute_result"
    }
   ],
   "source": [
    "set(df.columns)-set(['Price', 'ROM儲存空間', '主螢幕尺寸', '主相機畫素', '主相機光學防手震', '主相機UHD 4K錄影',\n",
    "       '第二主相機畫素', '前相機畫素', '前相機UHD 4K錄影', 'NFC', '快充功率', '無線充電', \n",
    "        'Brand', '防水防塵等級','機身長度','機身重量',\n",
    "       '機身寬度', '機身厚度','副螢幕觸控',\n",
    "       '第三主相機畫素','RAM記憶體', '電池容量', '主相機8K錄影', \n",
    "       '記憶卡', 'RAW檔拍攝',  '可替換電池','USB3','3.5mm耳機孔',\n",
    "       '無線反向充電', '第四主相機畫素',  '第二前相機畫素', 'soc_s', 'soc_m',\n",
    "       'resolution_x', 'resolution_y', 'OLED', '90Hz', '120Hz', '144Hz',\n",
    "       'Wifi5G', 'Wifi6', 'bt5.0', 'bt5.1', 'bt5.2', 'bt4.2', 'UFS','摺疊螢幕',\n",
    "       'cam_back_num', 'glass', 'plastic'])"
   ]
  }
 ],
 "metadata": {
  "kernelspec": {
   "display_name": "Python 3 (ipykernel)",
   "language": "python",
   "name": "python3"
  },
  "language_info": {
   "codemirror_mode": {
    "name": "ipython",
    "version": 3
   },
   "file_extension": ".py",
   "mimetype": "text/x-python",
   "name": "python",
   "nbconvert_exporter": "python",
   "pygments_lexer": "ipython3",
   "version": "3.9.7"
  }
 },
 "nbformat": 4,
 "nbformat_minor": 5
}
